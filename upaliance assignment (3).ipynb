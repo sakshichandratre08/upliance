{
 "cells": [
  {
   "cell_type": "markdown",
   "id": "00b4447a",
   "metadata": {},
   "source": [
    "Assignment for Data Analytics Intern\n",
    "Description of Assignment:\n",
    "- The objective of this assignment is to analyze datasets related to user behavior,\n",
    "cooking preferences, and order trends.\n",
    "- You will work with three datasets: UserDetails, CookingSessions, and\n",
    "OrderDetails.\n",
    "- The task involves cleaning and merging the data, analyzing the relationship between\n",
    "cooking sessions and user orders, identifying popular dishes, and exploring\n",
    "demographic factors that influence user behavior.\n",
    "- Additionally, you will create visualizations to showcase key insights and write a report\n",
    "summarizing your findings and business recommendations"
   ]
  },
  {
   "cell_type": "code",
   "execution_count": 1,
   "id": "093934aa",
   "metadata": {},
   "outputs": [
    {
     "data": {
      "text/html": [
       "<div>\n",
       "<style scoped>\n",
       "    .dataframe tbody tr th:only-of-type {\n",
       "        vertical-align: middle;\n",
       "    }\n",
       "\n",
       "    .dataframe tbody tr th {\n",
       "        vertical-align: top;\n",
       "    }\n",
       "\n",
       "    .dataframe thead th {\n",
       "        text-align: right;\n",
       "    }\n",
       "</style>\n",
       "<table border=\"1\" class=\"dataframe\">\n",
       "  <thead>\n",
       "    <tr style=\"text-align: right;\">\n",
       "      <th></th>\n",
       "      <th>User ID</th>\n",
       "      <th>User Name</th>\n",
       "      <th>Age</th>\n",
       "      <th>Location</th>\n",
       "      <th>Registration Date</th>\n",
       "      <th>Phone</th>\n",
       "      <th>Email</th>\n",
       "      <th>Favorite Meal</th>\n",
       "      <th>Total Orders</th>\n",
       "    </tr>\n",
       "  </thead>\n",
       "  <tbody>\n",
       "    <tr>\n",
       "      <th>0</th>\n",
       "      <td>U001</td>\n",
       "      <td>Alice Johnson</td>\n",
       "      <td>28</td>\n",
       "      <td>New York</td>\n",
       "      <td>2023-01-15</td>\n",
       "      <td>123-456-7890</td>\n",
       "      <td>alice@email.com</td>\n",
       "      <td>Dinner</td>\n",
       "      <td>12</td>\n",
       "    </tr>\n",
       "    <tr>\n",
       "      <th>1</th>\n",
       "      <td>U002</td>\n",
       "      <td>Bob Smith</td>\n",
       "      <td>35</td>\n",
       "      <td>Los Angeles</td>\n",
       "      <td>2023-02-20</td>\n",
       "      <td>987-654-3210</td>\n",
       "      <td>bob@email.com</td>\n",
       "      <td>Lunch</td>\n",
       "      <td>8</td>\n",
       "    </tr>\n",
       "    <tr>\n",
       "      <th>2</th>\n",
       "      <td>U003</td>\n",
       "      <td>Charlie Lee</td>\n",
       "      <td>42</td>\n",
       "      <td>Chicago</td>\n",
       "      <td>2023-03-10</td>\n",
       "      <td>555-123-4567</td>\n",
       "      <td>charlie@email.com</td>\n",
       "      <td>Breakfast</td>\n",
       "      <td>15</td>\n",
       "    </tr>\n",
       "    <tr>\n",
       "      <th>3</th>\n",
       "      <td>U004</td>\n",
       "      <td>David Brown</td>\n",
       "      <td>27</td>\n",
       "      <td>San Francisco</td>\n",
       "      <td>2023-04-05</td>\n",
       "      <td>444-333-2222</td>\n",
       "      <td>david@email.com</td>\n",
       "      <td>Dinner</td>\n",
       "      <td>10</td>\n",
       "    </tr>\n",
       "    <tr>\n",
       "      <th>4</th>\n",
       "      <td>U005</td>\n",
       "      <td>Emma White</td>\n",
       "      <td>30</td>\n",
       "      <td>Seattle</td>\n",
       "      <td>2023-05-22</td>\n",
       "      <td>777-888-9999</td>\n",
       "      <td>emma@email.com</td>\n",
       "      <td>Lunch</td>\n",
       "      <td>9</td>\n",
       "    </tr>\n",
       "  </tbody>\n",
       "</table>\n",
       "</div>"
      ],
      "text/plain": [
       "  User ID      User Name  Age       Location Registration Date         Phone  \\\n",
       "0    U001  Alice Johnson   28       New York        2023-01-15  123-456-7890   \n",
       "1    U002      Bob Smith   35    Los Angeles        2023-02-20  987-654-3210   \n",
       "2    U003    Charlie Lee   42        Chicago        2023-03-10  555-123-4567   \n",
       "3    U004    David Brown   27  San Francisco        2023-04-05  444-333-2222   \n",
       "4    U005     Emma White   30        Seattle        2023-05-22  777-888-9999   \n",
       "\n",
       "               Email Favorite Meal  Total Orders  \n",
       "0    alice@email.com        Dinner            12  \n",
       "1      bob@email.com         Lunch             8  \n",
       "2  charlie@email.com     Breakfast            15  \n",
       "3    david@email.com        Dinner            10  \n",
       "4     emma@email.com         Lunch             9  "
      ]
     },
     "execution_count": 1,
     "metadata": {},
     "output_type": "execute_result"
    }
   ],
   "source": [
    "# Importing Required Libraries\n",
    "import pandas as pd\n",
    "import seaborn as sns\n",
    "import matplotlib.pyplot as plt\n",
    "\n",
    "# Step 1: Load the Excel File\n",
    "# Loading data from the three sheets: UserDetails, OrderDetails, and CookingSessions\n",
    "user_details = pd.read_excel('Assignment.xlsx', sheet_name='UserDetails.csv')\n",
    "order_details = pd.read_excel('Assignment.xlsx', sheet_name='OrderDetails.csv')\n",
    "cooking_sessions = pd.read_excel('Assignment.xlsx', sheet_name='CookingSessions.csv')\n",
    "\n",
    "user_details.head()\n"
   ]
  },
  {
   "cell_type": "code",
   "execution_count": 2,
   "id": "84621661",
   "metadata": {},
   "outputs": [
    {
     "data": {
      "text/html": [
       "<div>\n",
       "<style scoped>\n",
       "    .dataframe tbody tr th:only-of-type {\n",
       "        vertical-align: middle;\n",
       "    }\n",
       "\n",
       "    .dataframe tbody tr th {\n",
       "        vertical-align: top;\n",
       "    }\n",
       "\n",
       "    .dataframe thead th {\n",
       "        text-align: right;\n",
       "    }\n",
       "</style>\n",
       "<table border=\"1\" class=\"dataframe\">\n",
       "  <thead>\n",
       "    <tr style=\"text-align: right;\">\n",
       "      <th></th>\n",
       "      <th>Age</th>\n",
       "      <th>Total Orders</th>\n",
       "    </tr>\n",
       "  </thead>\n",
       "  <tbody>\n",
       "    <tr>\n",
       "      <th>count</th>\n",
       "      <td>10.000000</td>\n",
       "      <td>10.000000</td>\n",
       "    </tr>\n",
       "    <tr>\n",
       "      <th>mean</th>\n",
       "      <td>31.800000</td>\n",
       "      <td>9.400000</td>\n",
       "    </tr>\n",
       "    <tr>\n",
       "      <th>std</th>\n",
       "      <td>5.266245</td>\n",
       "      <td>3.339993</td>\n",
       "    </tr>\n",
       "    <tr>\n",
       "      <th>min</th>\n",
       "      <td>25.000000</td>\n",
       "      <td>5.000000</td>\n",
       "    </tr>\n",
       "    <tr>\n",
       "      <th>25%</th>\n",
       "      <td>28.250000</td>\n",
       "      <td>7.250000</td>\n",
       "    </tr>\n",
       "    <tr>\n",
       "      <th>50%</th>\n",
       "      <td>30.500000</td>\n",
       "      <td>8.500000</td>\n",
       "    </tr>\n",
       "    <tr>\n",
       "      <th>75%</th>\n",
       "      <td>34.500000</td>\n",
       "      <td>11.500000</td>\n",
       "    </tr>\n",
       "    <tr>\n",
       "      <th>max</th>\n",
       "      <td>42.000000</td>\n",
       "      <td>15.000000</td>\n",
       "    </tr>\n",
       "  </tbody>\n",
       "</table>\n",
       "</div>"
      ],
      "text/plain": [
       "             Age  Total Orders\n",
       "count  10.000000     10.000000\n",
       "mean   31.800000      9.400000\n",
       "std     5.266245      3.339993\n",
       "min    25.000000      5.000000\n",
       "25%    28.250000      7.250000\n",
       "50%    30.500000      8.500000\n",
       "75%    34.500000     11.500000\n",
       "max    42.000000     15.000000"
      ]
     },
     "execution_count": 2,
     "metadata": {},
     "output_type": "execute_result"
    }
   ],
   "source": [
    "user_details.describe() "
   ]
  },
  {
   "cell_type": "code",
   "execution_count": 3,
   "id": "fec9a120",
   "metadata": {},
   "outputs": [
    {
     "data": {
      "text/html": [
       "<div>\n",
       "<style scoped>\n",
       "    .dataframe tbody tr th:only-of-type {\n",
       "        vertical-align: middle;\n",
       "    }\n",
       "\n",
       "    .dataframe tbody tr th {\n",
       "        vertical-align: top;\n",
       "    }\n",
       "\n",
       "    .dataframe thead th {\n",
       "        text-align: right;\n",
       "    }\n",
       "</style>\n",
       "<table border=\"1\" class=\"dataframe\">\n",
       "  <thead>\n",
       "    <tr style=\"text-align: right;\">\n",
       "      <th></th>\n",
       "      <th>Order ID</th>\n",
       "      <th>User ID</th>\n",
       "      <th>Order Date</th>\n",
       "      <th>Meal Type</th>\n",
       "      <th>Dish Name</th>\n",
       "      <th>Order Status</th>\n",
       "      <th>Amount (USD)</th>\n",
       "      <th>Time of Day</th>\n",
       "      <th>Rating</th>\n",
       "      <th>Session ID</th>\n",
       "    </tr>\n",
       "  </thead>\n",
       "  <tbody>\n",
       "    <tr>\n",
       "      <th>0</th>\n",
       "      <td>1001</td>\n",
       "      <td>U001</td>\n",
       "      <td>2024-12-01</td>\n",
       "      <td>Dinner</td>\n",
       "      <td>Spaghetti</td>\n",
       "      <td>Completed</td>\n",
       "      <td>15.0</td>\n",
       "      <td>Night</td>\n",
       "      <td>5.0</td>\n",
       "      <td>S001</td>\n",
       "    </tr>\n",
       "    <tr>\n",
       "      <th>1</th>\n",
       "      <td>1002</td>\n",
       "      <td>U002</td>\n",
       "      <td>2024-12-01</td>\n",
       "      <td>Lunch</td>\n",
       "      <td>Caesar Salad</td>\n",
       "      <td>Completed</td>\n",
       "      <td>10.0</td>\n",
       "      <td>Day</td>\n",
       "      <td>4.0</td>\n",
       "      <td>S002</td>\n",
       "    </tr>\n",
       "    <tr>\n",
       "      <th>2</th>\n",
       "      <td>1003</td>\n",
       "      <td>U003</td>\n",
       "      <td>2024-12-02</td>\n",
       "      <td>Dinner</td>\n",
       "      <td>Grilled Chicken</td>\n",
       "      <td>Canceled</td>\n",
       "      <td>12.5</td>\n",
       "      <td>Night</td>\n",
       "      <td>NaN</td>\n",
       "      <td>S003</td>\n",
       "    </tr>\n",
       "    <tr>\n",
       "      <th>3</th>\n",
       "      <td>1004</td>\n",
       "      <td>U001</td>\n",
       "      <td>2024-12-02</td>\n",
       "      <td>Breakfast</td>\n",
       "      <td>Pancakes</td>\n",
       "      <td>Completed</td>\n",
       "      <td>8.0</td>\n",
       "      <td>Morning</td>\n",
       "      <td>4.0</td>\n",
       "      <td>S004</td>\n",
       "    </tr>\n",
       "    <tr>\n",
       "      <th>4</th>\n",
       "      <td>1005</td>\n",
       "      <td>U004</td>\n",
       "      <td>2024-12-03</td>\n",
       "      <td>Lunch</td>\n",
       "      <td>Caesar Salad</td>\n",
       "      <td>Completed</td>\n",
       "      <td>9.0</td>\n",
       "      <td>Day</td>\n",
       "      <td>4.0</td>\n",
       "      <td>S005</td>\n",
       "    </tr>\n",
       "  </tbody>\n",
       "</table>\n",
       "</div>"
      ],
      "text/plain": [
       "   Order ID User ID Order Date  Meal Type        Dish Name Order Status  \\\n",
       "0      1001    U001 2024-12-01     Dinner        Spaghetti    Completed   \n",
       "1      1002    U002 2024-12-01      Lunch     Caesar Salad    Completed   \n",
       "2      1003    U003 2024-12-02     Dinner  Grilled Chicken     Canceled   \n",
       "3      1004    U001 2024-12-02  Breakfast         Pancakes    Completed   \n",
       "4      1005    U004 2024-12-03      Lunch     Caesar Salad    Completed   \n",
       "\n",
       "   Amount (USD) Time of Day  Rating Session ID  \n",
       "0          15.0       Night     5.0       S001  \n",
       "1          10.0         Day     4.0       S002  \n",
       "2          12.5       Night     NaN       S003  \n",
       "3           8.0     Morning     4.0       S004  \n",
       "4           9.0         Day     4.0       S005  "
      ]
     },
     "execution_count": 3,
     "metadata": {},
     "output_type": "execute_result"
    }
   ],
   "source": [
    "order_details.head()\n"
   ]
  },
  {
   "cell_type": "code",
   "execution_count": 4,
   "id": "bcf452df",
   "metadata": {},
   "outputs": [
    {
     "data": {
      "text/html": [
       "<div>\n",
       "<style scoped>\n",
       "    .dataframe tbody tr th:only-of-type {\n",
       "        vertical-align: middle;\n",
       "    }\n",
       "\n",
       "    .dataframe tbody tr th {\n",
       "        vertical-align: top;\n",
       "    }\n",
       "\n",
       "    .dataframe thead th {\n",
       "        text-align: right;\n",
       "    }\n",
       "</style>\n",
       "<table border=\"1\" class=\"dataframe\">\n",
       "  <thead>\n",
       "    <tr style=\"text-align: right;\">\n",
       "      <th></th>\n",
       "      <th>Order ID</th>\n",
       "      <th>Amount (USD)</th>\n",
       "      <th>Rating</th>\n",
       "    </tr>\n",
       "  </thead>\n",
       "  <tbody>\n",
       "    <tr>\n",
       "      <th>count</th>\n",
       "      <td>16.000000</td>\n",
       "      <td>16.000000</td>\n",
       "      <td>14.000000</td>\n",
       "    </tr>\n",
       "    <tr>\n",
       "      <th>mean</th>\n",
       "      <td>1008.500000</td>\n",
       "      <td>11.250000</td>\n",
       "      <td>4.285714</td>\n",
       "    </tr>\n",
       "    <tr>\n",
       "      <th>std</th>\n",
       "      <td>4.760952</td>\n",
       "      <td>2.435843</td>\n",
       "      <td>0.468807</td>\n",
       "    </tr>\n",
       "    <tr>\n",
       "      <th>min</th>\n",
       "      <td>1001.000000</td>\n",
       "      <td>7.000000</td>\n",
       "      <td>4.000000</td>\n",
       "    </tr>\n",
       "    <tr>\n",
       "      <th>25%</th>\n",
       "      <td>1004.750000</td>\n",
       "      <td>9.000000</td>\n",
       "      <td>4.000000</td>\n",
       "    </tr>\n",
       "    <tr>\n",
       "      <th>50%</th>\n",
       "      <td>1008.500000</td>\n",
       "      <td>11.500000</td>\n",
       "      <td>4.000000</td>\n",
       "    </tr>\n",
       "    <tr>\n",
       "      <th>75%</th>\n",
       "      <td>1012.250000</td>\n",
       "      <td>13.125000</td>\n",
       "      <td>4.750000</td>\n",
       "    </tr>\n",
       "    <tr>\n",
       "      <th>max</th>\n",
       "      <td>1016.000000</td>\n",
       "      <td>15.000000</td>\n",
       "      <td>5.000000</td>\n",
       "    </tr>\n",
       "  </tbody>\n",
       "</table>\n",
       "</div>"
      ],
      "text/plain": [
       "          Order ID  Amount (USD)     Rating\n",
       "count    16.000000     16.000000  14.000000\n",
       "mean   1008.500000     11.250000   4.285714\n",
       "std       4.760952      2.435843   0.468807\n",
       "min    1001.000000      7.000000   4.000000\n",
       "25%    1004.750000      9.000000   4.000000\n",
       "50%    1008.500000     11.500000   4.000000\n",
       "75%    1012.250000     13.125000   4.750000\n",
       "max    1016.000000     15.000000   5.000000"
      ]
     },
     "execution_count": 4,
     "metadata": {},
     "output_type": "execute_result"
    }
   ],
   "source": [
    "order_details.describe()"
   ]
  },
  {
   "cell_type": "code",
   "execution_count": 5,
   "id": "abf395f2",
   "metadata": {},
   "outputs": [
    {
     "data": {
      "text/html": [
       "<div>\n",
       "<style scoped>\n",
       "    .dataframe tbody tr th:only-of-type {\n",
       "        vertical-align: middle;\n",
       "    }\n",
       "\n",
       "    .dataframe tbody tr th {\n",
       "        vertical-align: top;\n",
       "    }\n",
       "\n",
       "    .dataframe thead th {\n",
       "        text-align: right;\n",
       "    }\n",
       "</style>\n",
       "<table border=\"1\" class=\"dataframe\">\n",
       "  <thead>\n",
       "    <tr style=\"text-align: right;\">\n",
       "      <th></th>\n",
       "      <th>Session ID</th>\n",
       "      <th>User ID</th>\n",
       "      <th>Dish Name</th>\n",
       "      <th>Meal Type</th>\n",
       "      <th>Session Start</th>\n",
       "      <th>Session End</th>\n",
       "      <th>Duration (mins)</th>\n",
       "      <th>Session Rating</th>\n",
       "    </tr>\n",
       "  </thead>\n",
       "  <tbody>\n",
       "    <tr>\n",
       "      <th>0</th>\n",
       "      <td>S001</td>\n",
       "      <td>U001</td>\n",
       "      <td>Spaghetti</td>\n",
       "      <td>Dinner</td>\n",
       "      <td>2024-12-01 19:00:00</td>\n",
       "      <td>2024-12-01 19:30:00</td>\n",
       "      <td>30</td>\n",
       "      <td>4.5</td>\n",
       "    </tr>\n",
       "    <tr>\n",
       "      <th>1</th>\n",
       "      <td>S002</td>\n",
       "      <td>U002</td>\n",
       "      <td>Caesar Salad</td>\n",
       "      <td>Lunch</td>\n",
       "      <td>2024-12-01 12:00:00</td>\n",
       "      <td>2024-12-01 12:20:00</td>\n",
       "      <td>20</td>\n",
       "      <td>4.0</td>\n",
       "    </tr>\n",
       "    <tr>\n",
       "      <th>2</th>\n",
       "      <td>S003</td>\n",
       "      <td>U003</td>\n",
       "      <td>Grilled Chicken</td>\n",
       "      <td>Dinner</td>\n",
       "      <td>2024-12-02 19:30:00</td>\n",
       "      <td>2024-12-02 20:10:00</td>\n",
       "      <td>40</td>\n",
       "      <td>4.8</td>\n",
       "    </tr>\n",
       "    <tr>\n",
       "      <th>3</th>\n",
       "      <td>S004</td>\n",
       "      <td>U001</td>\n",
       "      <td>Pancakes</td>\n",
       "      <td>Breakfast</td>\n",
       "      <td>2024-12-02 07:30:00</td>\n",
       "      <td>2024-12-02 08:00:00</td>\n",
       "      <td>30</td>\n",
       "      <td>4.2</td>\n",
       "    </tr>\n",
       "    <tr>\n",
       "      <th>4</th>\n",
       "      <td>S005</td>\n",
       "      <td>U004</td>\n",
       "      <td>Caesar Salad</td>\n",
       "      <td>Lunch</td>\n",
       "      <td>2024-12-03 13:00:00</td>\n",
       "      <td>2024-12-03 13:15:00</td>\n",
       "      <td>15</td>\n",
       "      <td>4.7</td>\n",
       "    </tr>\n",
       "  </tbody>\n",
       "</table>\n",
       "</div>"
      ],
      "text/plain": [
       "  Session ID User ID        Dish Name  Meal Type       Session Start  \\\n",
       "0       S001    U001        Spaghetti     Dinner 2024-12-01 19:00:00   \n",
       "1       S002    U002     Caesar Salad      Lunch 2024-12-01 12:00:00   \n",
       "2       S003    U003  Grilled Chicken     Dinner 2024-12-02 19:30:00   \n",
       "3       S004    U001         Pancakes  Breakfast 2024-12-02 07:30:00   \n",
       "4       S005    U004     Caesar Salad      Lunch 2024-12-03 13:00:00   \n",
       "\n",
       "          Session End  Duration (mins)  Session Rating  \n",
       "0 2024-12-01 19:30:00               30             4.5  \n",
       "1 2024-12-01 12:20:00               20             4.0  \n",
       "2 2024-12-02 20:10:00               40             4.8  \n",
       "3 2024-12-02 08:00:00               30             4.2  \n",
       "4 2024-12-03 13:15:00               15             4.7  "
      ]
     },
     "execution_count": 5,
     "metadata": {},
     "output_type": "execute_result"
    }
   ],
   "source": [
    "cooking_sessions.head()"
   ]
  },
  {
   "cell_type": "code",
   "execution_count": 6,
   "id": "c9e5f554",
   "metadata": {},
   "outputs": [
    {
     "data": {
      "text/html": [
       "<div>\n",
       "<style scoped>\n",
       "    .dataframe tbody tr th:only-of-type {\n",
       "        vertical-align: middle;\n",
       "    }\n",
       "\n",
       "    .dataframe tbody tr th {\n",
       "        vertical-align: top;\n",
       "    }\n",
       "\n",
       "    .dataframe thead th {\n",
       "        text-align: right;\n",
       "    }\n",
       "</style>\n",
       "<table border=\"1\" class=\"dataframe\">\n",
       "  <thead>\n",
       "    <tr style=\"text-align: right;\">\n",
       "      <th></th>\n",
       "      <th>Duration (mins)</th>\n",
       "      <th>Session Rating</th>\n",
       "    </tr>\n",
       "  </thead>\n",
       "  <tbody>\n",
       "    <tr>\n",
       "      <th>count</th>\n",
       "      <td>16.000000</td>\n",
       "      <td>16.000000</td>\n",
       "    </tr>\n",
       "    <tr>\n",
       "      <th>mean</th>\n",
       "      <td>30.312500</td>\n",
       "      <td>4.518750</td>\n",
       "    </tr>\n",
       "    <tr>\n",
       "      <th>std</th>\n",
       "      <td>10.873324</td>\n",
       "      <td>0.292617</td>\n",
       "    </tr>\n",
       "    <tr>\n",
       "      <th>min</th>\n",
       "      <td>10.000000</td>\n",
       "      <td>4.000000</td>\n",
       "    </tr>\n",
       "    <tr>\n",
       "      <th>25%</th>\n",
       "      <td>20.000000</td>\n",
       "      <td>4.300000</td>\n",
       "    </tr>\n",
       "    <tr>\n",
       "      <th>50%</th>\n",
       "      <td>30.000000</td>\n",
       "      <td>4.550000</td>\n",
       "    </tr>\n",
       "    <tr>\n",
       "      <th>75%</th>\n",
       "      <td>40.000000</td>\n",
       "      <td>4.725000</td>\n",
       "    </tr>\n",
       "    <tr>\n",
       "      <th>max</th>\n",
       "      <td>45.000000</td>\n",
       "      <td>5.000000</td>\n",
       "    </tr>\n",
       "  </tbody>\n",
       "</table>\n",
       "</div>"
      ],
      "text/plain": [
       "       Duration (mins)  Session Rating\n",
       "count        16.000000       16.000000\n",
       "mean         30.312500        4.518750\n",
       "std          10.873324        0.292617\n",
       "min          10.000000        4.000000\n",
       "25%          20.000000        4.300000\n",
       "50%          30.000000        4.550000\n",
       "75%          40.000000        4.725000\n",
       "max          45.000000        5.000000"
      ]
     },
     "execution_count": 6,
     "metadata": {},
     "output_type": "execute_result"
    }
   ],
   "source": [
    "cooking_sessions.describe()"
   ]
  },
  {
   "cell_type": "code",
   "execution_count": 7,
   "id": "34726cc3",
   "metadata": {},
   "outputs": [
    {
     "name": "stdout",
     "output_type": "stream",
     "text": [
      "Index(['user_id', 'user_name', 'age', 'location', 'registration_date', 'phone',\n",
      "       'email', 'favorite_meal', 'total_orders'],\n",
      "      dtype='object')\n",
      "Index(['order_id', 'user_id', 'order_date', 'meal_type', 'dish_name',\n",
      "       'order_status', 'amount_(usd)', 'time_of_day', 'rating', 'session_id'],\n",
      "      dtype='object')\n",
      "Index(['session_id', 'user_id', 'dish_name', 'meal_type', 'session_start',\n",
      "       'session_end', 'duration_(mins)', 'session_rating'],\n",
      "      dtype='object')\n"
     ]
    }
   ],
   "source": [
    "# Step 2: Improve Column Names (Shorter and Consistent)\n",
    "user_details.columns = user_details.columns.str.lower().str.replace(' ', '_')\n",
    "order_details.columns = order_details.columns.str.lower().str.replace(' ', '_')\n",
    "cooking_sessions.columns = cooking_sessions.columns.str.lower().str.replace(' ', '_')\n",
    "\n",
    "# Check the new column names for all datasets\n",
    "print(user_details.columns)\n",
    "print(order_details.columns)\n",
    "print(cooking_sessions.columns)"
   ]
  },
  {
   "cell_type": "code",
   "execution_count": 8,
   "id": "3522dc60",
   "metadata": {},
   "outputs": [
    {
     "name": "stdout",
     "output_type": "stream",
     "text": [
      "user_id              0\n",
      "user_name            0\n",
      "age                  0\n",
      "location             0\n",
      "registration_date    0\n",
      "phone                0\n",
      "email                0\n",
      "favorite_meal        0\n",
      "total_orders         0\n",
      "dtype: int64\n",
      "order_id        0\n",
      "user_id         0\n",
      "order_date      0\n",
      "meal_type       0\n",
      "dish_name       0\n",
      "order_status    0\n",
      "amount_(usd)    0\n",
      "time_of_day     0\n",
      "rating          2\n",
      "session_id      0\n",
      "dtype: int64\n",
      "session_id         0\n",
      "user_id            0\n",
      "dish_name          0\n",
      "meal_type          0\n",
      "session_start      0\n",
      "session_end        0\n",
      "duration_(mins)    0\n",
      "session_rating     0\n",
      "dtype: int64\n"
     ]
    }
   ],
   "source": [
    "# Step 3: Check for Missing Values and Handle Them\n",
    "# Check for missing values in each dataset\n",
    "print(user_details.isnull().sum())\n",
    "print(order_details.isnull().sum())\n",
    "print(cooking_sessions.isnull().sum())\n",
    "# Step 3: Convert 'amount (usd)' to 'amount' for consistency\n",
    "order_details.rename(columns={'amount_(usd)': 'amount'}, inplace=True)\n",
    "# Handle missing values (e.g., fill missing user data with 'Unknown', drop missing rows in order_details)\n",
    "user_details.fillna('Unknown', inplace=True)\n",
    "order_details.dropna(subset=['amount'], inplace=True)  # Drop rows with missing 'amount' in OrderDetails\n",
    "cooking_sessions.fillna({'rating': 'Unknown'}, inplace=True)  # For ratings, fill 'Unknown'\n"
   ]
  },
  {
   "cell_type": "code",
   "execution_count": 12,
   "id": "24e0edf1",
   "metadata": {},
   "outputs": [
    {
     "data": {
      "text/html": [
       "<div>\n",
       "<style scoped>\n",
       "    .dataframe tbody tr th:only-of-type {\n",
       "        vertical-align: middle;\n",
       "    }\n",
       "\n",
       "    .dataframe tbody tr th {\n",
       "        vertical-align: top;\n",
       "    }\n",
       "\n",
       "    .dataframe thead th {\n",
       "        text-align: right;\n",
       "    }\n",
       "</style>\n",
       "<table border=\"1\" class=\"dataframe\">\n",
       "  <thead>\n",
       "    <tr style=\"text-align: right;\">\n",
       "      <th></th>\n",
       "      <th>user_id</th>\n",
       "      <th>user_name</th>\n",
       "      <th>age</th>\n",
       "      <th>location</th>\n",
       "      <th>registration_date</th>\n",
       "      <th>phone</th>\n",
       "      <th>email</th>\n",
       "      <th>favorite_meal</th>\n",
       "      <th>total_orders</th>\n",
       "      <th>session_id_x</th>\n",
       "      <th>...</th>\n",
       "      <th>session_rating</th>\n",
       "      <th>order_id</th>\n",
       "      <th>order_date</th>\n",
       "      <th>meal_type_y</th>\n",
       "      <th>dish_name_y</th>\n",
       "      <th>order_status</th>\n",
       "      <th>amount</th>\n",
       "      <th>time_of_day</th>\n",
       "      <th>rating</th>\n",
       "      <th>session_id_y</th>\n",
       "    </tr>\n",
       "  </thead>\n",
       "  <tbody>\n",
       "    <tr>\n",
       "      <th>0</th>\n",
       "      <td>U001</td>\n",
       "      <td>Alice Johnson</td>\n",
       "      <td>28</td>\n",
       "      <td>New York</td>\n",
       "      <td>2023-01-15</td>\n",
       "      <td>123-456-7890</td>\n",
       "      <td>alice@email.com</td>\n",
       "      <td>Dinner</td>\n",
       "      <td>12</td>\n",
       "      <td>S001</td>\n",
       "      <td>...</td>\n",
       "      <td>4.5</td>\n",
       "      <td>1001</td>\n",
       "      <td>2024-12-01</td>\n",
       "      <td>Dinner</td>\n",
       "      <td>Spaghetti</td>\n",
       "      <td>Completed</td>\n",
       "      <td>15.0</td>\n",
       "      <td>Night</td>\n",
       "      <td>5.0</td>\n",
       "      <td>S001</td>\n",
       "    </tr>\n",
       "    <tr>\n",
       "      <th>1</th>\n",
       "      <td>U001</td>\n",
       "      <td>Alice Johnson</td>\n",
       "      <td>28</td>\n",
       "      <td>New York</td>\n",
       "      <td>2023-01-15</td>\n",
       "      <td>123-456-7890</td>\n",
       "      <td>alice@email.com</td>\n",
       "      <td>Dinner</td>\n",
       "      <td>12</td>\n",
       "      <td>S001</td>\n",
       "      <td>...</td>\n",
       "      <td>4.5</td>\n",
       "      <td>1004</td>\n",
       "      <td>2024-12-02</td>\n",
       "      <td>Breakfast</td>\n",
       "      <td>Pancakes</td>\n",
       "      <td>Completed</td>\n",
       "      <td>8.0</td>\n",
       "      <td>Morning</td>\n",
       "      <td>4.0</td>\n",
       "      <td>S004</td>\n",
       "    </tr>\n",
       "    <tr>\n",
       "      <th>2</th>\n",
       "      <td>U001</td>\n",
       "      <td>Alice Johnson</td>\n",
       "      <td>28</td>\n",
       "      <td>New York</td>\n",
       "      <td>2023-01-15</td>\n",
       "      <td>123-456-7890</td>\n",
       "      <td>alice@email.com</td>\n",
       "      <td>Dinner</td>\n",
       "      <td>12</td>\n",
       "      <td>S001</td>\n",
       "      <td>...</td>\n",
       "      <td>4.5</td>\n",
       "      <td>1009</td>\n",
       "      <td>2024-12-05</td>\n",
       "      <td>Dinner</td>\n",
       "      <td>Grilled Chicken</td>\n",
       "      <td>Completed</td>\n",
       "      <td>12.0</td>\n",
       "      <td>Night</td>\n",
       "      <td>5.0</td>\n",
       "      <td>S009</td>\n",
       "    </tr>\n",
       "    <tr>\n",
       "      <th>3</th>\n",
       "      <td>U001</td>\n",
       "      <td>Alice Johnson</td>\n",
       "      <td>28</td>\n",
       "      <td>New York</td>\n",
       "      <td>2023-01-15</td>\n",
       "      <td>123-456-7890</td>\n",
       "      <td>alice@email.com</td>\n",
       "      <td>Dinner</td>\n",
       "      <td>12</td>\n",
       "      <td>S004</td>\n",
       "      <td>...</td>\n",
       "      <td>4.2</td>\n",
       "      <td>1001</td>\n",
       "      <td>2024-12-01</td>\n",
       "      <td>Dinner</td>\n",
       "      <td>Spaghetti</td>\n",
       "      <td>Completed</td>\n",
       "      <td>15.0</td>\n",
       "      <td>Night</td>\n",
       "      <td>5.0</td>\n",
       "      <td>S001</td>\n",
       "    </tr>\n",
       "    <tr>\n",
       "      <th>4</th>\n",
       "      <td>U001</td>\n",
       "      <td>Alice Johnson</td>\n",
       "      <td>28</td>\n",
       "      <td>New York</td>\n",
       "      <td>2023-01-15</td>\n",
       "      <td>123-456-7890</td>\n",
       "      <td>alice@email.com</td>\n",
       "      <td>Dinner</td>\n",
       "      <td>12</td>\n",
       "      <td>S004</td>\n",
       "      <td>...</td>\n",
       "      <td>4.2</td>\n",
       "      <td>1004</td>\n",
       "      <td>2024-12-02</td>\n",
       "      <td>Breakfast</td>\n",
       "      <td>Pancakes</td>\n",
       "      <td>Completed</td>\n",
       "      <td>8.0</td>\n",
       "      <td>Morning</td>\n",
       "      <td>4.0</td>\n",
       "      <td>S004</td>\n",
       "    </tr>\n",
       "    <tr>\n",
       "      <th>5</th>\n",
       "      <td>U001</td>\n",
       "      <td>Alice Johnson</td>\n",
       "      <td>28</td>\n",
       "      <td>New York</td>\n",
       "      <td>2023-01-15</td>\n",
       "      <td>123-456-7890</td>\n",
       "      <td>alice@email.com</td>\n",
       "      <td>Dinner</td>\n",
       "      <td>12</td>\n",
       "      <td>S004</td>\n",
       "      <td>...</td>\n",
       "      <td>4.2</td>\n",
       "      <td>1009</td>\n",
       "      <td>2024-12-05</td>\n",
       "      <td>Dinner</td>\n",
       "      <td>Grilled Chicken</td>\n",
       "      <td>Completed</td>\n",
       "      <td>12.0</td>\n",
       "      <td>Night</td>\n",
       "      <td>5.0</td>\n",
       "      <td>S009</td>\n",
       "    </tr>\n",
       "    <tr>\n",
       "      <th>6</th>\n",
       "      <td>U001</td>\n",
       "      <td>Alice Johnson</td>\n",
       "      <td>28</td>\n",
       "      <td>New York</td>\n",
       "      <td>2023-01-15</td>\n",
       "      <td>123-456-7890</td>\n",
       "      <td>alice@email.com</td>\n",
       "      <td>Dinner</td>\n",
       "      <td>12</td>\n",
       "      <td>S009</td>\n",
       "      <td>...</td>\n",
       "      <td>4.9</td>\n",
       "      <td>1001</td>\n",
       "      <td>2024-12-01</td>\n",
       "      <td>Dinner</td>\n",
       "      <td>Spaghetti</td>\n",
       "      <td>Completed</td>\n",
       "      <td>15.0</td>\n",
       "      <td>Night</td>\n",
       "      <td>5.0</td>\n",
       "      <td>S001</td>\n",
       "    </tr>\n",
       "    <tr>\n",
       "      <th>7</th>\n",
       "      <td>U001</td>\n",
       "      <td>Alice Johnson</td>\n",
       "      <td>28</td>\n",
       "      <td>New York</td>\n",
       "      <td>2023-01-15</td>\n",
       "      <td>123-456-7890</td>\n",
       "      <td>alice@email.com</td>\n",
       "      <td>Dinner</td>\n",
       "      <td>12</td>\n",
       "      <td>S009</td>\n",
       "      <td>...</td>\n",
       "      <td>4.9</td>\n",
       "      <td>1004</td>\n",
       "      <td>2024-12-02</td>\n",
       "      <td>Breakfast</td>\n",
       "      <td>Pancakes</td>\n",
       "      <td>Completed</td>\n",
       "      <td>8.0</td>\n",
       "      <td>Morning</td>\n",
       "      <td>4.0</td>\n",
       "      <td>S004</td>\n",
       "    </tr>\n",
       "    <tr>\n",
       "      <th>8</th>\n",
       "      <td>U001</td>\n",
       "      <td>Alice Johnson</td>\n",
       "      <td>28</td>\n",
       "      <td>New York</td>\n",
       "      <td>2023-01-15</td>\n",
       "      <td>123-456-7890</td>\n",
       "      <td>alice@email.com</td>\n",
       "      <td>Dinner</td>\n",
       "      <td>12</td>\n",
       "      <td>S009</td>\n",
       "      <td>...</td>\n",
       "      <td>4.9</td>\n",
       "      <td>1009</td>\n",
       "      <td>2024-12-05</td>\n",
       "      <td>Dinner</td>\n",
       "      <td>Grilled Chicken</td>\n",
       "      <td>Completed</td>\n",
       "      <td>12.0</td>\n",
       "      <td>Night</td>\n",
       "      <td>5.0</td>\n",
       "      <td>S009</td>\n",
       "    </tr>\n",
       "    <tr>\n",
       "      <th>9</th>\n",
       "      <td>U002</td>\n",
       "      <td>Bob Smith</td>\n",
       "      <td>35</td>\n",
       "      <td>Los Angeles</td>\n",
       "      <td>2023-02-20</td>\n",
       "      <td>987-654-3210</td>\n",
       "      <td>bob@email.com</td>\n",
       "      <td>Lunch</td>\n",
       "      <td>8</td>\n",
       "      <td>S002</td>\n",
       "      <td>...</td>\n",
       "      <td>4.0</td>\n",
       "      <td>1002</td>\n",
       "      <td>2024-12-01</td>\n",
       "      <td>Lunch</td>\n",
       "      <td>Caesar Salad</td>\n",
       "      <td>Completed</td>\n",
       "      <td>10.0</td>\n",
       "      <td>Day</td>\n",
       "      <td>4.0</td>\n",
       "      <td>S002</td>\n",
       "    </tr>\n",
       "    <tr>\n",
       "      <th>10</th>\n",
       "      <td>U002</td>\n",
       "      <td>Bob Smith</td>\n",
       "      <td>35</td>\n",
       "      <td>Los Angeles</td>\n",
       "      <td>2023-02-20</td>\n",
       "      <td>987-654-3210</td>\n",
       "      <td>bob@email.com</td>\n",
       "      <td>Lunch</td>\n",
       "      <td>8</td>\n",
       "      <td>S002</td>\n",
       "      <td>...</td>\n",
       "      <td>4.0</td>\n",
       "      <td>1006</td>\n",
       "      <td>2024-12-03</td>\n",
       "      <td>Dinner</td>\n",
       "      <td>Spaghetti</td>\n",
       "      <td>Completed</td>\n",
       "      <td>14.0</td>\n",
       "      <td>Night</td>\n",
       "      <td>4.0</td>\n",
       "      <td>S006</td>\n",
       "    </tr>\n",
       "    <tr>\n",
       "      <th>11</th>\n",
       "      <td>U002</td>\n",
       "      <td>Bob Smith</td>\n",
       "      <td>35</td>\n",
       "      <td>Los Angeles</td>\n",
       "      <td>2023-02-20</td>\n",
       "      <td>987-654-3210</td>\n",
       "      <td>bob@email.com</td>\n",
       "      <td>Lunch</td>\n",
       "      <td>8</td>\n",
       "      <td>S002</td>\n",
       "      <td>...</td>\n",
       "      <td>4.0</td>\n",
       "      <td>1010</td>\n",
       "      <td>2024-12-05</td>\n",
       "      <td>Breakfast</td>\n",
       "      <td>Oatmeal</td>\n",
       "      <td>Completed</td>\n",
       "      <td>7.0</td>\n",
       "      <td>Morning</td>\n",
       "      <td>4.0</td>\n",
       "      <td>S010</td>\n",
       "    </tr>\n",
       "    <tr>\n",
       "      <th>12</th>\n",
       "      <td>U002</td>\n",
       "      <td>Bob Smith</td>\n",
       "      <td>35</td>\n",
       "      <td>Los Angeles</td>\n",
       "      <td>2023-02-20</td>\n",
       "      <td>987-654-3210</td>\n",
       "      <td>bob@email.com</td>\n",
       "      <td>Lunch</td>\n",
       "      <td>8</td>\n",
       "      <td>S006</td>\n",
       "      <td>...</td>\n",
       "      <td>4.3</td>\n",
       "      <td>1002</td>\n",
       "      <td>2024-12-01</td>\n",
       "      <td>Lunch</td>\n",
       "      <td>Caesar Salad</td>\n",
       "      <td>Completed</td>\n",
       "      <td>10.0</td>\n",
       "      <td>Day</td>\n",
       "      <td>4.0</td>\n",
       "      <td>S002</td>\n",
       "    </tr>\n",
       "    <tr>\n",
       "      <th>13</th>\n",
       "      <td>U002</td>\n",
       "      <td>Bob Smith</td>\n",
       "      <td>35</td>\n",
       "      <td>Los Angeles</td>\n",
       "      <td>2023-02-20</td>\n",
       "      <td>987-654-3210</td>\n",
       "      <td>bob@email.com</td>\n",
       "      <td>Lunch</td>\n",
       "      <td>8</td>\n",
       "      <td>S006</td>\n",
       "      <td>...</td>\n",
       "      <td>4.3</td>\n",
       "      <td>1006</td>\n",
       "      <td>2024-12-03</td>\n",
       "      <td>Dinner</td>\n",
       "      <td>Spaghetti</td>\n",
       "      <td>Completed</td>\n",
       "      <td>14.0</td>\n",
       "      <td>Night</td>\n",
       "      <td>4.0</td>\n",
       "      <td>S006</td>\n",
       "    </tr>\n",
       "    <tr>\n",
       "      <th>14</th>\n",
       "      <td>U002</td>\n",
       "      <td>Bob Smith</td>\n",
       "      <td>35</td>\n",
       "      <td>Los Angeles</td>\n",
       "      <td>2023-02-20</td>\n",
       "      <td>987-654-3210</td>\n",
       "      <td>bob@email.com</td>\n",
       "      <td>Lunch</td>\n",
       "      <td>8</td>\n",
       "      <td>S006</td>\n",
       "      <td>...</td>\n",
       "      <td>4.3</td>\n",
       "      <td>1010</td>\n",
       "      <td>2024-12-05</td>\n",
       "      <td>Breakfast</td>\n",
       "      <td>Oatmeal</td>\n",
       "      <td>Completed</td>\n",
       "      <td>7.0</td>\n",
       "      <td>Morning</td>\n",
       "      <td>4.0</td>\n",
       "      <td>S010</td>\n",
       "    </tr>\n",
       "    <tr>\n",
       "      <th>15</th>\n",
       "      <td>U002</td>\n",
       "      <td>Bob Smith</td>\n",
       "      <td>35</td>\n",
       "      <td>Los Angeles</td>\n",
       "      <td>2023-02-20</td>\n",
       "      <td>987-654-3210</td>\n",
       "      <td>bob@email.com</td>\n",
       "      <td>Lunch</td>\n",
       "      <td>8</td>\n",
       "      <td>S010</td>\n",
       "      <td>...</td>\n",
       "      <td>4.1</td>\n",
       "      <td>1002</td>\n",
       "      <td>2024-12-01</td>\n",
       "      <td>Lunch</td>\n",
       "      <td>Caesar Salad</td>\n",
       "      <td>Completed</td>\n",
       "      <td>10.0</td>\n",
       "      <td>Day</td>\n",
       "      <td>4.0</td>\n",
       "      <td>S002</td>\n",
       "    </tr>\n",
       "    <tr>\n",
       "      <th>16</th>\n",
       "      <td>U002</td>\n",
       "      <td>Bob Smith</td>\n",
       "      <td>35</td>\n",
       "      <td>Los Angeles</td>\n",
       "      <td>2023-02-20</td>\n",
       "      <td>987-654-3210</td>\n",
       "      <td>bob@email.com</td>\n",
       "      <td>Lunch</td>\n",
       "      <td>8</td>\n",
       "      <td>S010</td>\n",
       "      <td>...</td>\n",
       "      <td>4.1</td>\n",
       "      <td>1006</td>\n",
       "      <td>2024-12-03</td>\n",
       "      <td>Dinner</td>\n",
       "      <td>Spaghetti</td>\n",
       "      <td>Completed</td>\n",
       "      <td>14.0</td>\n",
       "      <td>Night</td>\n",
       "      <td>4.0</td>\n",
       "      <td>S006</td>\n",
       "    </tr>\n",
       "    <tr>\n",
       "      <th>17</th>\n",
       "      <td>U002</td>\n",
       "      <td>Bob Smith</td>\n",
       "      <td>35</td>\n",
       "      <td>Los Angeles</td>\n",
       "      <td>2023-02-20</td>\n",
       "      <td>987-654-3210</td>\n",
       "      <td>bob@email.com</td>\n",
       "      <td>Lunch</td>\n",
       "      <td>8</td>\n",
       "      <td>S010</td>\n",
       "      <td>...</td>\n",
       "      <td>4.1</td>\n",
       "      <td>1010</td>\n",
       "      <td>2024-12-05</td>\n",
       "      <td>Breakfast</td>\n",
       "      <td>Oatmeal</td>\n",
       "      <td>Completed</td>\n",
       "      <td>7.0</td>\n",
       "      <td>Morning</td>\n",
       "      <td>4.0</td>\n",
       "      <td>S010</td>\n",
       "    </tr>\n",
       "    <tr>\n",
       "      <th>18</th>\n",
       "      <td>U003</td>\n",
       "      <td>Charlie Lee</td>\n",
       "      <td>42</td>\n",
       "      <td>Chicago</td>\n",
       "      <td>2023-03-10</td>\n",
       "      <td>555-123-4567</td>\n",
       "      <td>charlie@email.com</td>\n",
       "      <td>Breakfast</td>\n",
       "      <td>15</td>\n",
       "      <td>S003</td>\n",
       "      <td>...</td>\n",
       "      <td>4.8</td>\n",
       "      <td>1003</td>\n",
       "      <td>2024-12-02</td>\n",
       "      <td>Dinner</td>\n",
       "      <td>Grilled Chicken</td>\n",
       "      <td>Canceled</td>\n",
       "      <td>12.5</td>\n",
       "      <td>Night</td>\n",
       "      <td>NaN</td>\n",
       "      <td>S003</td>\n",
       "    </tr>\n",
       "    <tr>\n",
       "      <th>19</th>\n",
       "      <td>U003</td>\n",
       "      <td>Charlie Lee</td>\n",
       "      <td>42</td>\n",
       "      <td>Chicago</td>\n",
       "      <td>2023-03-10</td>\n",
       "      <td>555-123-4567</td>\n",
       "      <td>charlie@email.com</td>\n",
       "      <td>Breakfast</td>\n",
       "      <td>15</td>\n",
       "      <td>S003</td>\n",
       "      <td>...</td>\n",
       "      <td>4.8</td>\n",
       "      <td>1008</td>\n",
       "      <td>2024-12-04</td>\n",
       "      <td>Lunch</td>\n",
       "      <td>Veggie Burger</td>\n",
       "      <td>Canceled</td>\n",
       "      <td>11.0</td>\n",
       "      <td>Day</td>\n",
       "      <td>NaN</td>\n",
       "      <td>S008</td>\n",
       "    </tr>\n",
       "    <tr>\n",
       "      <th>20</th>\n",
       "      <td>U003</td>\n",
       "      <td>Charlie Lee</td>\n",
       "      <td>42</td>\n",
       "      <td>Chicago</td>\n",
       "      <td>2023-03-10</td>\n",
       "      <td>555-123-4567</td>\n",
       "      <td>charlie@email.com</td>\n",
       "      <td>Breakfast</td>\n",
       "      <td>15</td>\n",
       "      <td>S003</td>\n",
       "      <td>...</td>\n",
       "      <td>4.8</td>\n",
       "      <td>1011</td>\n",
       "      <td>2024-12-06</td>\n",
       "      <td>Breakfast</td>\n",
       "      <td>Pancakes</td>\n",
       "      <td>Completed</td>\n",
       "      <td>8.5</td>\n",
       "      <td>Morning</td>\n",
       "      <td>4.0</td>\n",
       "      <td>S011</td>\n",
       "    </tr>\n",
       "    <tr>\n",
       "      <th>21</th>\n",
       "      <td>U003</td>\n",
       "      <td>Charlie Lee</td>\n",
       "      <td>42</td>\n",
       "      <td>Chicago</td>\n",
       "      <td>2023-03-10</td>\n",
       "      <td>555-123-4567</td>\n",
       "      <td>charlie@email.com</td>\n",
       "      <td>Breakfast</td>\n",
       "      <td>15</td>\n",
       "      <td>S008</td>\n",
       "      <td>...</td>\n",
       "      <td>4.4</td>\n",
       "      <td>1003</td>\n",
       "      <td>2024-12-02</td>\n",
       "      <td>Dinner</td>\n",
       "      <td>Grilled Chicken</td>\n",
       "      <td>Canceled</td>\n",
       "      <td>12.5</td>\n",
       "      <td>Night</td>\n",
       "      <td>NaN</td>\n",
       "      <td>S003</td>\n",
       "    </tr>\n",
       "    <tr>\n",
       "      <th>22</th>\n",
       "      <td>U003</td>\n",
       "      <td>Charlie Lee</td>\n",
       "      <td>42</td>\n",
       "      <td>Chicago</td>\n",
       "      <td>2023-03-10</td>\n",
       "      <td>555-123-4567</td>\n",
       "      <td>charlie@email.com</td>\n",
       "      <td>Breakfast</td>\n",
       "      <td>15</td>\n",
       "      <td>S008</td>\n",
       "      <td>...</td>\n",
       "      <td>4.4</td>\n",
       "      <td>1008</td>\n",
       "      <td>2024-12-04</td>\n",
       "      <td>Lunch</td>\n",
       "      <td>Veggie Burger</td>\n",
       "      <td>Canceled</td>\n",
       "      <td>11.0</td>\n",
       "      <td>Day</td>\n",
       "      <td>NaN</td>\n",
       "      <td>S008</td>\n",
       "    </tr>\n",
       "    <tr>\n",
       "      <th>23</th>\n",
       "      <td>U003</td>\n",
       "      <td>Charlie Lee</td>\n",
       "      <td>42</td>\n",
       "      <td>Chicago</td>\n",
       "      <td>2023-03-10</td>\n",
       "      <td>555-123-4567</td>\n",
       "      <td>charlie@email.com</td>\n",
       "      <td>Breakfast</td>\n",
       "      <td>15</td>\n",
       "      <td>S008</td>\n",
       "      <td>...</td>\n",
       "      <td>4.4</td>\n",
       "      <td>1011</td>\n",
       "      <td>2024-12-06</td>\n",
       "      <td>Breakfast</td>\n",
       "      <td>Pancakes</td>\n",
       "      <td>Completed</td>\n",
       "      <td>8.5</td>\n",
       "      <td>Morning</td>\n",
       "      <td>4.0</td>\n",
       "      <td>S011</td>\n",
       "    </tr>\n",
       "    <tr>\n",
       "      <th>24</th>\n",
       "      <td>U003</td>\n",
       "      <td>Charlie Lee</td>\n",
       "      <td>42</td>\n",
       "      <td>Chicago</td>\n",
       "      <td>2023-03-10</td>\n",
       "      <td>555-123-4567</td>\n",
       "      <td>charlie@email.com</td>\n",
       "      <td>Breakfast</td>\n",
       "      <td>15</td>\n",
       "      <td>S011</td>\n",
       "      <td>...</td>\n",
       "      <td>4.6</td>\n",
       "      <td>1003</td>\n",
       "      <td>2024-12-02</td>\n",
       "      <td>Dinner</td>\n",
       "      <td>Grilled Chicken</td>\n",
       "      <td>Canceled</td>\n",
       "      <td>12.5</td>\n",
       "      <td>Night</td>\n",
       "      <td>NaN</td>\n",
       "      <td>S003</td>\n",
       "    </tr>\n",
       "    <tr>\n",
       "      <th>25</th>\n",
       "      <td>U003</td>\n",
       "      <td>Charlie Lee</td>\n",
       "      <td>42</td>\n",
       "      <td>Chicago</td>\n",
       "      <td>2023-03-10</td>\n",
       "      <td>555-123-4567</td>\n",
       "      <td>charlie@email.com</td>\n",
       "      <td>Breakfast</td>\n",
       "      <td>15</td>\n",
       "      <td>S011</td>\n",
       "      <td>...</td>\n",
       "      <td>4.6</td>\n",
       "      <td>1008</td>\n",
       "      <td>2024-12-04</td>\n",
       "      <td>Lunch</td>\n",
       "      <td>Veggie Burger</td>\n",
       "      <td>Canceled</td>\n",
       "      <td>11.0</td>\n",
       "      <td>Day</td>\n",
       "      <td>NaN</td>\n",
       "      <td>S008</td>\n",
       "    </tr>\n",
       "    <tr>\n",
       "      <th>26</th>\n",
       "      <td>U003</td>\n",
       "      <td>Charlie Lee</td>\n",
       "      <td>42</td>\n",
       "      <td>Chicago</td>\n",
       "      <td>2023-03-10</td>\n",
       "      <td>555-123-4567</td>\n",
       "      <td>charlie@email.com</td>\n",
       "      <td>Breakfast</td>\n",
       "      <td>15</td>\n",
       "      <td>S011</td>\n",
       "      <td>...</td>\n",
       "      <td>4.6</td>\n",
       "      <td>1011</td>\n",
       "      <td>2024-12-06</td>\n",
       "      <td>Breakfast</td>\n",
       "      <td>Pancakes</td>\n",
       "      <td>Completed</td>\n",
       "      <td>8.5</td>\n",
       "      <td>Morning</td>\n",
       "      <td>4.0</td>\n",
       "      <td>S011</td>\n",
       "    </tr>\n",
       "    <tr>\n",
       "      <th>27</th>\n",
       "      <td>U004</td>\n",
       "      <td>David Brown</td>\n",
       "      <td>27</td>\n",
       "      <td>San Francisco</td>\n",
       "      <td>2023-04-05</td>\n",
       "      <td>444-333-2222</td>\n",
       "      <td>david@email.com</td>\n",
       "      <td>Dinner</td>\n",
       "      <td>10</td>\n",
       "      <td>S005</td>\n",
       "      <td>...</td>\n",
       "      <td>4.7</td>\n",
       "      <td>1005</td>\n",
       "      <td>2024-12-03</td>\n",
       "      <td>Lunch</td>\n",
       "      <td>Caesar Salad</td>\n",
       "      <td>Completed</td>\n",
       "      <td>9.0</td>\n",
       "      <td>Day</td>\n",
       "      <td>4.0</td>\n",
       "      <td>S005</td>\n",
       "    </tr>\n",
       "    <tr>\n",
       "      <th>28</th>\n",
       "      <td>U004</td>\n",
       "      <td>David Brown</td>\n",
       "      <td>27</td>\n",
       "      <td>San Francisco</td>\n",
       "      <td>2023-04-05</td>\n",
       "      <td>444-333-2222</td>\n",
       "      <td>david@email.com</td>\n",
       "      <td>Dinner</td>\n",
       "      <td>10</td>\n",
       "      <td>S005</td>\n",
       "      <td>...</td>\n",
       "      <td>4.7</td>\n",
       "      <td>1012</td>\n",
       "      <td>2024-12-06</td>\n",
       "      <td>Dinner</td>\n",
       "      <td>Spaghetti</td>\n",
       "      <td>Completed</td>\n",
       "      <td>12.5</td>\n",
       "      <td>Night</td>\n",
       "      <td>4.0</td>\n",
       "      <td>S012</td>\n",
       "    </tr>\n",
       "    <tr>\n",
       "      <th>29</th>\n",
       "      <td>U004</td>\n",
       "      <td>David Brown</td>\n",
       "      <td>27</td>\n",
       "      <td>San Francisco</td>\n",
       "      <td>2023-04-05</td>\n",
       "      <td>444-333-2222</td>\n",
       "      <td>david@email.com</td>\n",
       "      <td>Dinner</td>\n",
       "      <td>10</td>\n",
       "      <td>S012</td>\n",
       "      <td>...</td>\n",
       "      <td>4.7</td>\n",
       "      <td>1005</td>\n",
       "      <td>2024-12-03</td>\n",
       "      <td>Lunch</td>\n",
       "      <td>Caesar Salad</td>\n",
       "      <td>Completed</td>\n",
       "      <td>9.0</td>\n",
       "      <td>Day</td>\n",
       "      <td>4.0</td>\n",
       "      <td>S005</td>\n",
       "    </tr>\n",
       "    <tr>\n",
       "      <th>30</th>\n",
       "      <td>U004</td>\n",
       "      <td>David Brown</td>\n",
       "      <td>27</td>\n",
       "      <td>San Francisco</td>\n",
       "      <td>2023-04-05</td>\n",
       "      <td>444-333-2222</td>\n",
       "      <td>david@email.com</td>\n",
       "      <td>Dinner</td>\n",
       "      <td>10</td>\n",
       "      <td>S012</td>\n",
       "      <td>...</td>\n",
       "      <td>4.7</td>\n",
       "      <td>1012</td>\n",
       "      <td>2024-12-06</td>\n",
       "      <td>Dinner</td>\n",
       "      <td>Spaghetti</td>\n",
       "      <td>Completed</td>\n",
       "      <td>12.5</td>\n",
       "      <td>Night</td>\n",
       "      <td>4.0</td>\n",
       "      <td>S012</td>\n",
       "    </tr>\n",
       "    <tr>\n",
       "      <th>31</th>\n",
       "      <td>U005</td>\n",
       "      <td>Emma White</td>\n",
       "      <td>30</td>\n",
       "      <td>Seattle</td>\n",
       "      <td>2023-05-22</td>\n",
       "      <td>777-888-9999</td>\n",
       "      <td>emma@email.com</td>\n",
       "      <td>Lunch</td>\n",
       "      <td>9</td>\n",
       "      <td>S007</td>\n",
       "      <td>...</td>\n",
       "      <td>4.6</td>\n",
       "      <td>1007</td>\n",
       "      <td>2024-12-04</td>\n",
       "      <td>Dinner</td>\n",
       "      <td>Grilled Chicken</td>\n",
       "      <td>Completed</td>\n",
       "      <td>13.5</td>\n",
       "      <td>Night</td>\n",
       "      <td>4.0</td>\n",
       "      <td>S007</td>\n",
       "    </tr>\n",
       "    <tr>\n",
       "      <th>32</th>\n",
       "      <td>U005</td>\n",
       "      <td>Emma White</td>\n",
       "      <td>30</td>\n",
       "      <td>Seattle</td>\n",
       "      <td>2023-05-22</td>\n",
       "      <td>777-888-9999</td>\n",
       "      <td>emma@email.com</td>\n",
       "      <td>Lunch</td>\n",
       "      <td>9</td>\n",
       "      <td>S007</td>\n",
       "      <td>...</td>\n",
       "      <td>4.6</td>\n",
       "      <td>1013</td>\n",
       "      <td>2024-12-07</td>\n",
       "      <td>Lunch</td>\n",
       "      <td>Caesar Salad</td>\n",
       "      <td>Completed</td>\n",
       "      <td>9.0</td>\n",
       "      <td>Day</td>\n",
       "      <td>4.0</td>\n",
       "      <td>S013</td>\n",
       "    </tr>\n",
       "    <tr>\n",
       "      <th>33</th>\n",
       "      <td>U005</td>\n",
       "      <td>Emma White</td>\n",
       "      <td>30</td>\n",
       "      <td>Seattle</td>\n",
       "      <td>2023-05-22</td>\n",
       "      <td>777-888-9999</td>\n",
       "      <td>emma@email.com</td>\n",
       "      <td>Lunch</td>\n",
       "      <td>9</td>\n",
       "      <td>S013</td>\n",
       "      <td>...</td>\n",
       "      <td>4.4</td>\n",
       "      <td>1007</td>\n",
       "      <td>2024-12-04</td>\n",
       "      <td>Dinner</td>\n",
       "      <td>Grilled Chicken</td>\n",
       "      <td>Completed</td>\n",
       "      <td>13.5</td>\n",
       "      <td>Night</td>\n",
       "      <td>4.0</td>\n",
       "      <td>S007</td>\n",
       "    </tr>\n",
       "    <tr>\n",
       "      <th>34</th>\n",
       "      <td>U005</td>\n",
       "      <td>Emma White</td>\n",
       "      <td>30</td>\n",
       "      <td>Seattle</td>\n",
       "      <td>2023-05-22</td>\n",
       "      <td>777-888-9999</td>\n",
       "      <td>emma@email.com</td>\n",
       "      <td>Lunch</td>\n",
       "      <td>9</td>\n",
       "      <td>S013</td>\n",
       "      <td>...</td>\n",
       "      <td>4.4</td>\n",
       "      <td>1013</td>\n",
       "      <td>2024-12-07</td>\n",
       "      <td>Lunch</td>\n",
       "      <td>Caesar Salad</td>\n",
       "      <td>Completed</td>\n",
       "      <td>9.0</td>\n",
       "      <td>Day</td>\n",
       "      <td>4.0</td>\n",
       "      <td>S013</td>\n",
       "    </tr>\n",
       "    <tr>\n",
       "      <th>35</th>\n",
       "      <td>U006</td>\n",
       "      <td>Frank Green</td>\n",
       "      <td>25</td>\n",
       "      <td>Austin</td>\n",
       "      <td>2023-06-15</td>\n",
       "      <td>888-777-6666</td>\n",
       "      <td>frank@email.com</td>\n",
       "      <td>Dinner</td>\n",
       "      <td>7</td>\n",
       "      <td>S014</td>\n",
       "      <td>...</td>\n",
       "      <td>4.8</td>\n",
       "      <td>1014</td>\n",
       "      <td>2024-12-07</td>\n",
       "      <td>Dinner</td>\n",
       "      <td>Grilled Chicken</td>\n",
       "      <td>Completed</td>\n",
       "      <td>13.0</td>\n",
       "      <td>Night</td>\n",
       "      <td>5.0</td>\n",
       "      <td>S014</td>\n",
       "    </tr>\n",
       "    <tr>\n",
       "      <th>36</th>\n",
       "      <td>U007</td>\n",
       "      <td>Grace King</td>\n",
       "      <td>38</td>\n",
       "      <td>Boston</td>\n",
       "      <td>2023-07-02</td>\n",
       "      <td>999-888-7777</td>\n",
       "      <td>grace@email.com</td>\n",
       "      <td>Breakfast</td>\n",
       "      <td>14</td>\n",
       "      <td>S015</td>\n",
       "      <td>...</td>\n",
       "      <td>5.0</td>\n",
       "      <td>1015</td>\n",
       "      <td>2024-12-08</td>\n",
       "      <td>Dinner</td>\n",
       "      <td>Spaghetti</td>\n",
       "      <td>Completed</td>\n",
       "      <td>14.0</td>\n",
       "      <td>Night</td>\n",
       "      <td>5.0</td>\n",
       "      <td>S015</td>\n",
       "    </tr>\n",
       "    <tr>\n",
       "      <th>37</th>\n",
       "      <td>U008</td>\n",
       "      <td>Henry Lee</td>\n",
       "      <td>31</td>\n",
       "      <td>Miami</td>\n",
       "      <td>2023-08-11</td>\n",
       "      <td>101-202-3030</td>\n",
       "      <td>henry@email.com</td>\n",
       "      <td>Dinner</td>\n",
       "      <td>5</td>\n",
       "      <td>S016</td>\n",
       "      <td>...</td>\n",
       "      <td>4.3</td>\n",
       "      <td>1016</td>\n",
       "      <td>2024-12-08</td>\n",
       "      <td>Lunch</td>\n",
       "      <td>Veggie Burger</td>\n",
       "      <td>Completed</td>\n",
       "      <td>11.0</td>\n",
       "      <td>Day</td>\n",
       "      <td>4.0</td>\n",
       "      <td>S016</td>\n",
       "    </tr>\n",
       "  </tbody>\n",
       "</table>\n",
       "<p>38 rows × 25 columns</p>\n",
       "</div>"
      ],
      "text/plain": [
       "   user_id      user_name  age       location registration_date         phone  \\\n",
       "0     U001  Alice Johnson   28       New York        2023-01-15  123-456-7890   \n",
       "1     U001  Alice Johnson   28       New York        2023-01-15  123-456-7890   \n",
       "2     U001  Alice Johnson   28       New York        2023-01-15  123-456-7890   \n",
       "3     U001  Alice Johnson   28       New York        2023-01-15  123-456-7890   \n",
       "4     U001  Alice Johnson   28       New York        2023-01-15  123-456-7890   \n",
       "5     U001  Alice Johnson   28       New York        2023-01-15  123-456-7890   \n",
       "6     U001  Alice Johnson   28       New York        2023-01-15  123-456-7890   \n",
       "7     U001  Alice Johnson   28       New York        2023-01-15  123-456-7890   \n",
       "8     U001  Alice Johnson   28       New York        2023-01-15  123-456-7890   \n",
       "9     U002      Bob Smith   35    Los Angeles        2023-02-20  987-654-3210   \n",
       "10    U002      Bob Smith   35    Los Angeles        2023-02-20  987-654-3210   \n",
       "11    U002      Bob Smith   35    Los Angeles        2023-02-20  987-654-3210   \n",
       "12    U002      Bob Smith   35    Los Angeles        2023-02-20  987-654-3210   \n",
       "13    U002      Bob Smith   35    Los Angeles        2023-02-20  987-654-3210   \n",
       "14    U002      Bob Smith   35    Los Angeles        2023-02-20  987-654-3210   \n",
       "15    U002      Bob Smith   35    Los Angeles        2023-02-20  987-654-3210   \n",
       "16    U002      Bob Smith   35    Los Angeles        2023-02-20  987-654-3210   \n",
       "17    U002      Bob Smith   35    Los Angeles        2023-02-20  987-654-3210   \n",
       "18    U003    Charlie Lee   42        Chicago        2023-03-10  555-123-4567   \n",
       "19    U003    Charlie Lee   42        Chicago        2023-03-10  555-123-4567   \n",
       "20    U003    Charlie Lee   42        Chicago        2023-03-10  555-123-4567   \n",
       "21    U003    Charlie Lee   42        Chicago        2023-03-10  555-123-4567   \n",
       "22    U003    Charlie Lee   42        Chicago        2023-03-10  555-123-4567   \n",
       "23    U003    Charlie Lee   42        Chicago        2023-03-10  555-123-4567   \n",
       "24    U003    Charlie Lee   42        Chicago        2023-03-10  555-123-4567   \n",
       "25    U003    Charlie Lee   42        Chicago        2023-03-10  555-123-4567   \n",
       "26    U003    Charlie Lee   42        Chicago        2023-03-10  555-123-4567   \n",
       "27    U004    David Brown   27  San Francisco        2023-04-05  444-333-2222   \n",
       "28    U004    David Brown   27  San Francisco        2023-04-05  444-333-2222   \n",
       "29    U004    David Brown   27  San Francisco        2023-04-05  444-333-2222   \n",
       "30    U004    David Brown   27  San Francisco        2023-04-05  444-333-2222   \n",
       "31    U005     Emma White   30        Seattle        2023-05-22  777-888-9999   \n",
       "32    U005     Emma White   30        Seattle        2023-05-22  777-888-9999   \n",
       "33    U005     Emma White   30        Seattle        2023-05-22  777-888-9999   \n",
       "34    U005     Emma White   30        Seattle        2023-05-22  777-888-9999   \n",
       "35    U006    Frank Green   25         Austin        2023-06-15  888-777-6666   \n",
       "36    U007     Grace King   38         Boston        2023-07-02  999-888-7777   \n",
       "37    U008      Henry Lee   31          Miami        2023-08-11  101-202-3030   \n",
       "\n",
       "                email favorite_meal  total_orders session_id_x  ...  \\\n",
       "0     alice@email.com        Dinner            12         S001  ...   \n",
       "1     alice@email.com        Dinner            12         S001  ...   \n",
       "2     alice@email.com        Dinner            12         S001  ...   \n",
       "3     alice@email.com        Dinner            12         S004  ...   \n",
       "4     alice@email.com        Dinner            12         S004  ...   \n",
       "5     alice@email.com        Dinner            12         S004  ...   \n",
       "6     alice@email.com        Dinner            12         S009  ...   \n",
       "7     alice@email.com        Dinner            12         S009  ...   \n",
       "8     alice@email.com        Dinner            12         S009  ...   \n",
       "9       bob@email.com         Lunch             8         S002  ...   \n",
       "10      bob@email.com         Lunch             8         S002  ...   \n",
       "11      bob@email.com         Lunch             8         S002  ...   \n",
       "12      bob@email.com         Lunch             8         S006  ...   \n",
       "13      bob@email.com         Lunch             8         S006  ...   \n",
       "14      bob@email.com         Lunch             8         S006  ...   \n",
       "15      bob@email.com         Lunch             8         S010  ...   \n",
       "16      bob@email.com         Lunch             8         S010  ...   \n",
       "17      bob@email.com         Lunch             8         S010  ...   \n",
       "18  charlie@email.com     Breakfast            15         S003  ...   \n",
       "19  charlie@email.com     Breakfast            15         S003  ...   \n",
       "20  charlie@email.com     Breakfast            15         S003  ...   \n",
       "21  charlie@email.com     Breakfast            15         S008  ...   \n",
       "22  charlie@email.com     Breakfast            15         S008  ...   \n",
       "23  charlie@email.com     Breakfast            15         S008  ...   \n",
       "24  charlie@email.com     Breakfast            15         S011  ...   \n",
       "25  charlie@email.com     Breakfast            15         S011  ...   \n",
       "26  charlie@email.com     Breakfast            15         S011  ...   \n",
       "27    david@email.com        Dinner            10         S005  ...   \n",
       "28    david@email.com        Dinner            10         S005  ...   \n",
       "29    david@email.com        Dinner            10         S012  ...   \n",
       "30    david@email.com        Dinner            10         S012  ...   \n",
       "31     emma@email.com         Lunch             9         S007  ...   \n",
       "32     emma@email.com         Lunch             9         S007  ...   \n",
       "33     emma@email.com         Lunch             9         S013  ...   \n",
       "34     emma@email.com         Lunch             9         S013  ...   \n",
       "35    frank@email.com        Dinner             7         S014  ...   \n",
       "36    grace@email.com     Breakfast            14         S015  ...   \n",
       "37    henry@email.com        Dinner             5         S016  ...   \n",
       "\n",
       "   session_rating order_id order_date meal_type_y      dish_name_y  \\\n",
       "0             4.5     1001 2024-12-01      Dinner        Spaghetti   \n",
       "1             4.5     1004 2024-12-02   Breakfast         Pancakes   \n",
       "2             4.5     1009 2024-12-05      Dinner  Grilled Chicken   \n",
       "3             4.2     1001 2024-12-01      Dinner        Spaghetti   \n",
       "4             4.2     1004 2024-12-02   Breakfast         Pancakes   \n",
       "5             4.2     1009 2024-12-05      Dinner  Grilled Chicken   \n",
       "6             4.9     1001 2024-12-01      Dinner        Spaghetti   \n",
       "7             4.9     1004 2024-12-02   Breakfast         Pancakes   \n",
       "8             4.9     1009 2024-12-05      Dinner  Grilled Chicken   \n",
       "9             4.0     1002 2024-12-01       Lunch     Caesar Salad   \n",
       "10            4.0     1006 2024-12-03      Dinner        Spaghetti   \n",
       "11            4.0     1010 2024-12-05   Breakfast          Oatmeal   \n",
       "12            4.3     1002 2024-12-01       Lunch     Caesar Salad   \n",
       "13            4.3     1006 2024-12-03      Dinner        Spaghetti   \n",
       "14            4.3     1010 2024-12-05   Breakfast          Oatmeal   \n",
       "15            4.1     1002 2024-12-01       Lunch     Caesar Salad   \n",
       "16            4.1     1006 2024-12-03      Dinner        Spaghetti   \n",
       "17            4.1     1010 2024-12-05   Breakfast          Oatmeal   \n",
       "18            4.8     1003 2024-12-02      Dinner  Grilled Chicken   \n",
       "19            4.8     1008 2024-12-04       Lunch    Veggie Burger   \n",
       "20            4.8     1011 2024-12-06   Breakfast         Pancakes   \n",
       "21            4.4     1003 2024-12-02      Dinner  Grilled Chicken   \n",
       "22            4.4     1008 2024-12-04       Lunch    Veggie Burger   \n",
       "23            4.4     1011 2024-12-06   Breakfast         Pancakes   \n",
       "24            4.6     1003 2024-12-02      Dinner  Grilled Chicken   \n",
       "25            4.6     1008 2024-12-04       Lunch    Veggie Burger   \n",
       "26            4.6     1011 2024-12-06   Breakfast         Pancakes   \n",
       "27            4.7     1005 2024-12-03       Lunch     Caesar Salad   \n",
       "28            4.7     1012 2024-12-06      Dinner        Spaghetti   \n",
       "29            4.7     1005 2024-12-03       Lunch     Caesar Salad   \n",
       "30            4.7     1012 2024-12-06      Dinner        Spaghetti   \n",
       "31            4.6     1007 2024-12-04      Dinner  Grilled Chicken   \n",
       "32            4.6     1013 2024-12-07       Lunch     Caesar Salad   \n",
       "33            4.4     1007 2024-12-04      Dinner  Grilled Chicken   \n",
       "34            4.4     1013 2024-12-07       Lunch     Caesar Salad   \n",
       "35            4.8     1014 2024-12-07      Dinner  Grilled Chicken   \n",
       "36            5.0     1015 2024-12-08      Dinner        Spaghetti   \n",
       "37            4.3     1016 2024-12-08       Lunch    Veggie Burger   \n",
       "\n",
       "    order_status  amount time_of_day rating session_id_y  \n",
       "0      Completed    15.0       Night    5.0         S001  \n",
       "1      Completed     8.0     Morning    4.0         S004  \n",
       "2      Completed    12.0       Night    5.0         S009  \n",
       "3      Completed    15.0       Night    5.0         S001  \n",
       "4      Completed     8.0     Morning    4.0         S004  \n",
       "5      Completed    12.0       Night    5.0         S009  \n",
       "6      Completed    15.0       Night    5.0         S001  \n",
       "7      Completed     8.0     Morning    4.0         S004  \n",
       "8      Completed    12.0       Night    5.0         S009  \n",
       "9      Completed    10.0         Day    4.0         S002  \n",
       "10     Completed    14.0       Night    4.0         S006  \n",
       "11     Completed     7.0     Morning    4.0         S010  \n",
       "12     Completed    10.0         Day    4.0         S002  \n",
       "13     Completed    14.0       Night    4.0         S006  \n",
       "14     Completed     7.0     Morning    4.0         S010  \n",
       "15     Completed    10.0         Day    4.0         S002  \n",
       "16     Completed    14.0       Night    4.0         S006  \n",
       "17     Completed     7.0     Morning    4.0         S010  \n",
       "18      Canceled    12.5       Night    NaN         S003  \n",
       "19      Canceled    11.0         Day    NaN         S008  \n",
       "20     Completed     8.5     Morning    4.0         S011  \n",
       "21      Canceled    12.5       Night    NaN         S003  \n",
       "22      Canceled    11.0         Day    NaN         S008  \n",
       "23     Completed     8.5     Morning    4.0         S011  \n",
       "24      Canceled    12.5       Night    NaN         S003  \n",
       "25      Canceled    11.0         Day    NaN         S008  \n",
       "26     Completed     8.5     Morning    4.0         S011  \n",
       "27     Completed     9.0         Day    4.0         S005  \n",
       "28     Completed    12.5       Night    4.0         S012  \n",
       "29     Completed     9.0         Day    4.0         S005  \n",
       "30     Completed    12.5       Night    4.0         S012  \n",
       "31     Completed    13.5       Night    4.0         S007  \n",
       "32     Completed     9.0         Day    4.0         S013  \n",
       "33     Completed    13.5       Night    4.0         S007  \n",
       "34     Completed     9.0         Day    4.0         S013  \n",
       "35     Completed    13.0       Night    5.0         S014  \n",
       "36     Completed    14.0       Night    5.0         S015  \n",
       "37     Completed    11.0         Day    4.0         S016  \n",
       "\n",
       "[38 rows x 25 columns]"
      ]
     },
     "execution_count": 12,
     "metadata": {},
     "output_type": "execute_result"
    }
   ],
   "source": [
    "# Step 4: Merging the Datasets\n",
    "# Merging UserDetails with CookingSessions and then merging with OrderDetails\n",
    "merged_data = pd.merge(user_details, cooking_sessions, on='user_id', how='inner')\n",
    "final_data = pd.merge(merged_data, order_details, on='user_id', how='inner')\n",
    "final_data\n"
   ]
  },
  {
   "cell_type": "code",
   "execution_count": 14,
   "id": "1235f1cd",
   "metadata": {},
   "outputs": [
    {
     "data": {
      "image/png": "[encoded data removed]",
      "text/plain": [
       "<Figure size 800x600 with 1 Axes>"
      ]
     },
     "metadata": {},
     "output_type": "display_data"
    }
   ],
   "source": [
    "# Step 5.1: Distribution of Age Group\n",
    "plt.figure(figsize=(8, 6))\n",
    "sns.countplot(x='age', data=final_data, palette='Blues')\n",
    "plt.title('User Age Group Distribution')\n",
    "plt.xlabel('Age Group')\n",
    "plt.ylabel('Count')\n",
    "plt.show()\n",
    "\n"
   ]
  },
  {
   "cell_type": "code",
   "execution_count": 15,
   "id": "7764954f",
   "metadata": {},
   "outputs": [
    {
     "data": {
      "image/png": "[encoded data removed]",
      "text/plain": [
       "<Figure size 800x600 with 1 Axes>"
      ]
     },
     "metadata": {},
     "output_type": "display_data"
    }
   ],
   "source": [
    "# Step 5.2: Distribution of Order Amount (USD)\n",
    "plt.figure(figsize=(8, 6))\n",
    "sns.histplot(final_data['amount'], kde=True, color='blue')\n",
    "plt.title('Order Amount Distribution')\n",
    "plt.xlabel('Amount (USD)')\n",
    "plt.ylabel('Frequency')\n",
    "plt.show()\n",
    "\n"
   ]
  },
  {
   "cell_type": "code",
   "execution_count": 16,
   "id": "e09a45ab",
   "metadata": {},
   "outputs": [
    {
     "data": {
      "image/png": "[encoded data removed]",
      "text/plain": [
       "<Figure size 1000x600 with 1 Axes>"
      ]
     },
     "metadata": {},
     "output_type": "display_data"
    }
   ],
   "source": [
    "# Step 5.3: Distribution of Meal Types Ordered\n",
    "plt.figure(figsize=(10, 6))\n",
    "sns.countplot(x='meal_type_y', data=final_data, palette='Blues')\n",
    "plt.title('Distribution of Meal Types Ordered')\n",
    "plt.xlabel('Meal Type')\n",
    "plt.ylabel('Count')\n",
    "plt.xticks(rotation=45)\n",
    "plt.show()\n",
    "\n"
   ]
  },
  {
   "cell_type": "code",
   "execution_count": 17,
   "id": "a789e08a",
   "metadata": {},
   "outputs": [
    {
     "data": {
      "image/png": "[encoded data removed]",
      "text/plain": [
       "<Figure size 800x600 with 1 Axes>"
      ]
     },
     "metadata": {},
     "output_type": "display_data"
    }
   ],
   "source": [
    "# Step 5.4: Distribution of Order Status (Completed vs Canceled)\n",
    "plt.figure(figsize=(8, 6))\n",
    "sns.countplot(x='order_status', data=final_data, palette='Blues')\n",
    "plt.title('Distribution of Order Status (Completed vs Canceled)')\n",
    "plt.xlabel('Order Status')\n",
    "plt.ylabel('Count')\n",
    "plt.show()\n",
    "\n"
   ]
  },
  {
   "cell_type": "code",
   "execution_count": 18,
   "id": "51811574",
   "metadata": {},
   "outputs": [
    {
     "data": {
      "image/png": "[encoded data removed]",
      "text/plain": [
       "<Figure size 800x600 with 1 Axes>"
      ]
     },
     "metadata": {},
     "output_type": "display_data"
    }
   ],
   "source": [
    "# Step 5.5: Time of Day Distribution\n",
    "plt.figure(figsize=(8, 6))\n",
    "sns.countplot(x='time_of_day', data=final_data, palette='Blues')\n",
    "plt.title('Order Distribution by Time of Day')\n",
    "plt.xlabel('Time of Day')\n",
    "plt.ylabel('Count')\n",
    "plt.show()\n",
    "\n"
   ]
  },
  {
   "cell_type": "code",
   "execution_count": 22,
   "id": "6bf988e3",
   "metadata": {},
   "outputs": [
    {
     "data": {
      "image/png": "[encoded data removed]",
      "text/plain": [
       "<Figure size 800x600 with 1 Axes>"
      ]
     },
     "metadata": {},
     "output_type": "display_data"
    }
   ],
   "source": [
    "# Step 5.6: Distribution of Ratings\n",
    "plt.figure(figsize=(8, 6))\n",
    "sns.countplot(x='rating', data=final_data, palette='Blues')\n",
    "plt.title('Rating Distribution')\n",
    "plt.xlabel('Rating')\n",
    "plt.ylabel('Count')\n",
    "plt.show()"
   ]
  },
  {
   "cell_type": "code",
   "execution_count": 27,
   "id": "e1b9d2ab",
   "metadata": {},
   "outputs": [
    {
     "name": "stderr",
     "output_type": "stream",
     "text": [
      "C:\\Users\\saksh\\AppData\\Local\\Temp\\ipykernel_13580\\1887933530.py:10: FutureWarning:\n",
      "\n",
      "The default value of numeric_only in DataFrame.corr is deprecated. In a future version, it will default to False. Select only valid columns or specify the value of numeric_only to silence this warning.\n",
      "\n"
     ]
    },
    {
     "data": {
      "application/vnd.plotly.v1+json": {
       "config": {
        "plotlyServerURL": "https://plot.ly"
       },
       "data": [
        {
         "colorscale": [
          [
           0,
           "#440154"
          ],
          [
           0.1111111111111111,
           "#482878"
          ],
          [
           0.2222222222222222,
           "#3e4989"
          ],
          [
           0.3333333333333333,
           "#31688e"
          ],
          [
           0.4444444444444444,
           "#26828e"
          ],
          [
           0.5555555555555556,
           "#1f9e89"
          ],
          [
           0.6666666666666666,
           "#35b779"
          ],
          [
           0.7777777777777778,
           "#6ece58"
          ],
          [
           0.8888888888888888,
           "#b5de2b"
          ],
          [
           1,
           "#fde725"
          ]
         ],
         "hoverongaps": false,
         "type": "heatmap",
         "x": [
          "age",
          "total_orders",
          "duration_(mins)",
          "session_rating",
          "order_id",
          "amount",
          "rating"
         ],
         "y": [
          "age",
          "total_orders",
          "duration_(mins)",
          "session_rating",
          "order_id",
          "amount",
          "rating"
         ],
         "z": [
          [
           1,
           0.5278524484915813,
           -0.18100265367871282,
           -0.06611433594725646,
           0.003125852836386177,
           -0.12652066686682406,
           -0.34506105622812605
          ],
          [
           0.5278524484915813,
           1,
           0.2517626403001903,
           0.47133292972117097,
           -0.15162341084417802,
           0.045035453662502854,
           0.32519170884445187
          ],
          [
           -0.18100265367871282,
           0.2517626403001903,
           1,
           0.6933153233994026,
           0.12359403668093782,
           0.16050407445187811,
           0.35338262674546056
          ],
          [
           -0.06611433594725646,
           0.47133292972117097,
           0.6933153233994026,
           1,
           0.193751766082873,
           0.15463242281812484,
           0.3269549968514475
          ],
          [
           0.003125852836386177,
           -0.15162341084417802,
           0.12359403668093782,
           0.193751766082873,
           1,
           -0.20712183835163195,
           -0.04975185951050395
          ],
          [
           -0.12652066686682406,
           0.045035453662502854,
           0.16050407445187811,
           0.15463242281812484,
           -0.20712183835163195,
           1,
           0.5669701385160418
          ],
          [
           -0.34506105622812605,
           0.32519170884445187,
           0.35338262674546056,
           0.3269549968514475,
           -0.04975185951050395,
           0.5669701385160418,
           1
          ]
         ]
        }
       ],
       "layout": {
        "autosize": true,
        "template": {
         "data": {
          "bar": [
           {
            "error_x": {
             "color": "#2a3f5f"
            },
            "error_y": {
             "color": "#2a3f5f"
            },
            "marker": {
             "line": {
              "color": "#E5ECF6",
              "width": 0.5
             },
             "pattern": {
              "fillmode": "overlay",
              "size": 10,
              "solidity": 0.2
             }
            },
            "type": "bar"
           }
          ],
          "barpolar": [
           {
            "marker": {
             "line": {
              "color": "#E5ECF6",
              "width": 0.5
             },
             "pattern": {
              "fillmode": "overlay",
              "size": 10,
              "solidity": 0.2
             }
            },
            "type": "barpolar"
           }
          ],
          "carpet": [
           {
            "aaxis": {
             "endlinecolor": "#2a3f5f",
             "gridcolor": "white",
             "linecolor": "white",
             "minorgridcolor": "white",
             "startlinecolor": "#2a3f5f"
            },
            "baxis": {
             "endlinecolor": "#2a3f5f",
             "gridcolor": "white",
             "linecolor": "white",
             "minorgridcolor": "white",
             "startlinecolor": "#2a3f5f"
            },
            "type": "carpet"
           }
          ],
          "choropleth": [
           {
            "colorbar": {
             "outlinewidth": 0,
             "ticks": ""
            },
            "type": "choropleth"
           }
          ],
          "contour": [
           {
            "colorbar": {
             "outlinewidth": 0,
             "ticks": ""
            },
            "colorscale": [
             [
              0,
              "#0d0887"
             ],
             [
              0.1111111111111111,
              "#46039f"
             ],
             [
              0.2222222222222222,
              "#7201a8"
             ],
             [
              0.3333333333333333,
              "#9c179e"
             ],
             [
              0.4444444444444444,
              "#bd3786"
             ],
             [
              0.5555555555555556,
              "#d8576b"
             ],
             [
              0.6666666666666666,
              "#ed7953"
             ],
             [
              0.7777777777777778,
              "#fb9f3a"
             ],
             [
              0.8888888888888888,
              "#fdca26"
             ],
             [
              1,
              "#f0f921"
             ]
            ],
            "type": "contour"
           }
          ],
          "contourcarpet": [
           {
            "colorbar": {
             "outlinewidth": 0,
             "ticks": ""
            },
            "type": "contourcarpet"
           }
          ],
          "heatmap": [
           {
            "colorbar": {
             "outlinewidth": 0,
             "ticks": ""
            },
            "colorscale": [
             [
              0,
              "#0d0887"
             ],
             [
              0.1111111111111111,
              "#46039f"
             ],
             [
              0.2222222222222222,
              "#7201a8"
             ],
             [
              0.3333333333333333,
              "#9c179e"
             ],
             [
              0.4444444444444444,
              "#bd3786"
             ],
             [
              0.5555555555555556,
              "#d8576b"
             ],
             [
              0.6666666666666666,
              "#ed7953"
             ],
             [
              0.7777777777777778,
              "#fb9f3a"
             ],
             [
              0.8888888888888888,
              "#fdca26"
             ],
             [
              1,
              "#f0f921"
             ]
            ],
            "type": "heatmap"
           }
          ],
          "heatmapgl": [
           {
            "colorbar": {
             "outlinewidth": 0,
             "ticks": ""
            },
            "colorscale": [
             [
              0,
              "#0d0887"
             ],
             [
              0.1111111111111111,
              "#46039f"
             ],
             [
              0.2222222222222222,
              "#7201a8"
             ],
             [
              0.3333333333333333,
              "#9c179e"
             ],
             [
              0.4444444444444444,
              "#bd3786"
             ],
             [
              0.5555555555555556,
              "#d8576b"
             ],
             [
              0.6666666666666666,
              "#ed7953"
             ],
             [
              0.7777777777777778,
              "#fb9f3a"
             ],
             [
              0.8888888888888888,
              "#fdca26"
             ],
             [
              1,
              "#f0f921"
             ]
            ],
            "type": "heatmapgl"
           }
          ],
          "histogram": [
           {
            "marker": {
             "pattern": {
              "fillmode": "overlay",
              "size": 10,
              "solidity": 0.2
             }
            },
            "type": "histogram"
           }
          ],
          "histogram2d": [
           {
            "colorbar": {
             "outlinewidth": 0,
             "ticks": ""
            },
            "colorscale": [
             [
              0,
              "#0d0887"
             ],
             [
              0.1111111111111111,
              "#46039f"
             ],
             [
              0.2222222222222222,
              "#7201a8"
             ],
             [
              0.3333333333333333,
              "#9c179e"
             ],
             [
              0.4444444444444444,
              "#bd3786"
             ],
             [
              0.5555555555555556,
              "#d8576b"
             ],
             [
              0.6666666666666666,
              "#ed7953"
             ],
             [
              0.7777777777777778,
              "#fb9f3a"
             ],
             [
              0.8888888888888888,
              "#fdca26"
             ],
             [
              1,
              "#f0f921"
             ]
            ],
            "type": "histogram2d"
           }
          ],
          "histogram2dcontour": [
           {
            "colorbar": {
             "outlinewidth": 0,
             "ticks": ""
            },
            "colorscale": [
             [
              0,
              "#0d0887"
             ],
             [
              0.1111111111111111,
              "#46039f"
             ],
             [
              0.2222222222222222,
              "#7201a8"
             ],
             [
              0.3333333333333333,
              "#9c179e"
             ],
             [
              0.4444444444444444,
              "#bd3786"
             ],
             [
              0.5555555555555556,
              "#d8576b"
             ],
             [
              0.6666666666666666,
              "#ed7953"
             ],
             [
              0.7777777777777778,
              "#fb9f3a"
             ],
             [
              0.8888888888888888,
              "#fdca26"
             ],
             [
              1,
              "#f0f921"
             ]
            ],
            "type": "histogram2dcontour"
           }
          ],
          "mesh3d": [
           {
            "colorbar": {
             "outlinewidth": 0,
             "ticks": ""
            },
            "type": "mesh3d"
           }
          ],
          "parcoords": [
           {
            "line": {
             "colorbar": {
              "outlinewidth": 0,
              "ticks": ""
             }
            },
            "type": "parcoords"
           }
          ],
          "pie": [
           {
            "automargin": true,
            "type": "pie"
           }
          ],
          "scatter": [
           {
            "fillpattern": {
             "fillmode": "overlay",
             "size": 10,
             "solidity": 0.2
            },
            "type": "scatter"
           }
          ],
          "scatter3d": [
           {
            "line": {
             "colorbar": {
              "outlinewidth": 0,
              "ticks": ""
             }
            },
            "marker": {
             "colorbar": {
              "outlinewidth": 0,
              "ticks": ""
             }
            },
            "type": "scatter3d"
           }
          ],
          "scattercarpet": [
           {
            "marker": {
             "colorbar": {
              "outlinewidth": 0,
              "ticks": ""
             }
            },
            "type": "scattercarpet"
           }
          ],
          "scattergeo": [
           {
            "marker": {
             "colorbar": {
              "outlinewidth": 0,
              "ticks": ""
             }
            },
            "type": "scattergeo"
           }
          ],
          "scattergl": [
           {
            "marker": {
             "colorbar": {
              "outlinewidth": 0,
              "ticks": ""
             }
            },
            "type": "scattergl"
           }
          ],
          "scattermapbox": [
           {
            "marker": {
             "colorbar": {
              "outlinewidth": 0,
              "ticks": ""
             }
            },
            "type": "scattermapbox"
           }
          ],
          "scatterpolar": [
           {
            "marker": {
             "colorbar": {
              "outlinewidth": 0,
              "ticks": ""
             }
            },
            "type": "scatterpolar"
           }
          ],
          "scatterpolargl": [
           {
            "marker": {
             "colorbar": {
              "outlinewidth": 0,
              "ticks": ""
             }
            },
            "type": "scatterpolargl"
           }
          ],
          "scatterternary": [
           {
            "marker": {
             "colorbar": {
              "outlinewidth": 0,
              "ticks": ""
             }
            },
            "type": "scatterternary"
           }
          ],
          "surface": [
           {
            "colorbar": {
             "outlinewidth": 0,
             "ticks": ""
            },
            "colorscale": [
             [
              0,
              "#0d0887"
             ],
             [
              0.1111111111111111,
              "#46039f"
             ],
             [
              0.2222222222222222,
              "#7201a8"
             ],
             [
              0.3333333333333333,
              "#9c179e"
             ],
             [
              0.4444444444444444,
              "#bd3786"
             ],
             [
              0.5555555555555556,
              "#d8576b"
             ],
             [
              0.6666666666666666,
              "#ed7953"
             ],
             [
              0.7777777777777778,
              "#fb9f3a"
             ],
             [
              0.8888888888888888,
              "#fdca26"
             ],
             [
              1,
              "#f0f921"
             ]
            ],
            "type": "surface"
           }
          ],
          "table": [
           {
            "cells": {
             "fill": {
              "color": "#EBF0F8"
             },
             "line": {
              "color": "white"
             }
            },
            "header": {
             "fill": {
              "color": "#C8D4E3"
             },
             "line": {
              "color": "white"
             }
            },
            "type": "table"
           }
          ]
         },
         "layout": {
          "annotationdefaults": {
           "arrowcolor": "#2a3f5f",
           "arrowhead": 0,
           "arrowwidth": 1
          },
          "autotypenumbers": "strict",
          "coloraxis": {
           "colorbar": {
            "outlinewidth": 0,
            "ticks": ""
           }
          },
          "colorscale": {
           "diverging": [
            [
             0,
             "#8e0152"
            ],
            [
             0.1,
             "#c51b7d"
            ],
            [
             0.2,
             "#de77ae"
            ],
            [
             0.3,
             "#f1b6da"
            ],
            [
             0.4,
             "#fde0ef"
            ],
            [
             0.5,
             "#f7f7f7"
            ],
            [
             0.6,
             "#e6f5d0"
            ],
            [
             0.7,
             "#b8e186"
            ],
            [
             0.8,
             "#7fbc41"
            ],
            [
             0.9,
             "#4d9221"
            ],
            [
             1,
             "#276419"
            ]
           ],
           "sequential": [
            [
             0,
             "#0d0887"
            ],
            [
             0.1111111111111111,
             "#46039f"
            ],
            [
             0.2222222222222222,
             "#7201a8"
            ],
            [
             0.3333333333333333,
             "#9c179e"
            ],
            [
             0.4444444444444444,
             "#bd3786"
            ],
            [
             0.5555555555555556,
             "#d8576b"
            ],
            [
             0.6666666666666666,
             "#ed7953"
            ],
            [
             0.7777777777777778,
             "#fb9f3a"
            ],
            [
             0.8888888888888888,
             "#fdca26"
            ],
            [
             1,
             "#f0f921"
            ]
           ],
           "sequentialminus": [
            [
             0,
             "#0d0887"
            ],
            [
             0.1111111111111111,
             "#46039f"
            ],
            [
             0.2222222222222222,
             "#7201a8"
            ],
            [
             0.3333333333333333,
             "#9c179e"
            ],
            [
             0.4444444444444444,
             "#bd3786"
            ],
            [
             0.5555555555555556,
             "#d8576b"
            ],
            [
             0.6666666666666666,
             "#ed7953"
            ],
            [
             0.7777777777777778,
             "#fb9f3a"
            ],
            [
             0.8888888888888888,
             "#fdca26"
            ],
            [
             1,
             "#f0f921"
            ]
           ]
          },
          "colorway": [
           "#636efa",
           "#EF553B",
           "#00cc96",
           "#ab63fa",
           "#FFA15A",
           "#19d3f3",
           "#FF6692",
           "#B6E880",
           "#FF97FF",
           "#FECB52"
          ],
          "font": {
           "color": "#2a3f5f"
          },
          "geo": {
           "bgcolor": "white",
           "lakecolor": "white",
           "landcolor": "#E5ECF6",
           "showlakes": true,
           "showland": true,
           "subunitcolor": "white"
          },
          "hoverlabel": {
           "align": "left"
          },
          "hovermode": "closest",
          "mapbox": {
           "style": "light"
          },
          "paper_bgcolor": "white",
          "plot_bgcolor": "#E5ECF6",
          "polar": {
           "angularaxis": {
            "gridcolor": "white",
            "linecolor": "white",
            "ticks": ""
           },
           "bgcolor": "#E5ECF6",
           "radialaxis": {
            "gridcolor": "white",
            "linecolor": "white",
            "ticks": ""
           }
          },
          "scene": {
           "xaxis": {
            "backgroundcolor": "#E5ECF6",
            "gridcolor": "white",
            "gridwidth": 2,
            "linecolor": "white",
            "showbackground": true,
            "ticks": "",
            "zerolinecolor": "white"
           },
           "yaxis": {
            "backgroundcolor": "#E5ECF6",
            "gridcolor": "white",
            "gridwidth": 2,
            "linecolor": "white",
            "showbackground": true,
            "ticks": "",
            "zerolinecolor": "white"
           },
           "zaxis": {
            "backgroundcolor": "#E5ECF6",
            "gridcolor": "white",
            "gridwidth": 2,
            "linecolor": "white",
            "showbackground": true,
            "ticks": "",
            "zerolinecolor": "white"
           }
          },
          "shapedefaults": {
           "line": {
            "color": "#2a3f5f"
           }
          },
          "ternary": {
           "aaxis": {
            "gridcolor": "white",
            "linecolor": "white",
            "ticks": ""
           },
           "baxis": {
            "gridcolor": "white",
            "linecolor": "white",
            "ticks": ""
           },
           "bgcolor": "#E5ECF6",
           "caxis": {
            "gridcolor": "white",
            "linecolor": "white",
            "ticks": ""
           }
          },
          "title": {
           "x": 0.05
          },
          "xaxis": {
           "automargin": true,
           "gridcolor": "white",
           "linecolor": "white",
           "ticks": "",
           "title": {
            "standoff": 15
           },
           "zerolinecolor": "white",
           "zerolinewidth": 2
          },
          "yaxis": {
           "automargin": true,
           "gridcolor": "white",
           "linecolor": "white",
           "ticks": "",
           "title": {
            "standoff": 15
           },
           "zerolinecolor": "white",
           "zerolinewidth": 2
          }
         }
        },
        "title": {
         "text": "Correlation Heatmap"
        },
        "xaxis": {
         "title": {
          "text": "Features"
         }
        },
        "yaxis": {
         "title": {
          "text": "Features"
         }
        }
       }
      },
      "text/html": [
       "<div>                            <div id=\"53a40767-32aa-4078-ba05-888f9b9ed77f\" class=\"plotly-graph-div\" style=\"height:525px; width:100%;\"></div>            <script type=\"text/javascript\">                require([\"plotly\"], function(Plotly) {                    window.PLOTLYENV=window.PLOTLYENV || {};                                    if (document.getElementById(\"53a40767-32aa-4078-ba05-888f9b9ed77f\")) {                    Plotly.newPlot(                        \"53a40767-32aa-4078-ba05-888f9b9ed77f\",                        [{\"colorscale\":[[0.0,\"#440154\"],[0.1111111111111111,\"#482878\"],[0.2222222222222222,\"#3e4989\"],[0.3333333333333333,\"#31688e\"],[0.4444444444444444,\"#26828e\"],[0.5555555555555556,\"#1f9e89\"],[0.6666666666666666,\"#35b779\"],[0.7777777777777778,\"#6ece58\"],[0.8888888888888888,\"#b5de2b\"],[1.0,\"#fde725\"]],\"hoverongaps\":false,\"x\":[\"age\",\"total_orders\",\"duration_(mins)\",\"session_rating\",\"order_id\",\"amount\",\"rating\"],\"y\":[\"age\",\"total_orders\",\"duration_(mins)\",\"session_rating\",\"order_id\",\"amount\",\"rating\"],\"z\":[[1.0,0.5278524484915813,-0.18100265367871282,-0.06611433594725646,0.003125852836386177,-0.12652066686682406,-0.34506105622812605],[0.5278524484915813,1.0,0.2517626403001903,0.47133292972117097,-0.15162341084417802,0.045035453662502854,0.32519170884445187],[-0.18100265367871282,0.2517626403001903,1.0,0.6933153233994026,0.12359403668093782,0.16050407445187811,0.35338262674546056],[-0.06611433594725646,0.47133292972117097,0.6933153233994026,1.0,0.193751766082873,0.15463242281812484,0.3269549968514475],[0.003125852836386177,-0.15162341084417802,0.12359403668093782,0.193751766082873,1.0,-0.20712183835163195,-0.04975185951050395],[-0.12652066686682406,0.045035453662502854,0.16050407445187811,0.15463242281812484,-0.20712183835163195,1.0,0.5669701385160418],[-0.34506105622812605,0.32519170884445187,0.35338262674546056,0.3269549968514475,-0.04975185951050395,0.5669701385160418,1.0]],\"type\":\"heatmap\"}],                        {\"template\":{\"data\":{\"histogram2dcontour\":[{\"type\":\"histogram2dcontour\",\"colorbar\":{\"outlinewidth\":0,\"ticks\":\"\"},\"colorscale\":[[0.0,\"#0d0887\"],[0.1111111111111111,\"#46039f\"],[0.2222222222222222,\"#7201a8\"],[0.3333333333333333,\"#9c179e\"],[0.4444444444444444,\"#bd3786\"],[0.5555555555555556,\"#d8576b\"],[0.6666666666666666,\"#ed7953\"],[0.7777777777777778,\"#fb9f3a\"],[0.8888888888888888,\"#fdca26\"],[1.0,\"#f0f921\"]]}],\"choropleth\":[{\"type\":\"choropleth\",\"colorbar\":{\"outlinewidth\":0,\"ticks\":\"\"}}],\"histogram2d\":[{\"type\":\"histogram2d\",\"colorbar\":{\"outlinewidth\":0,\"ticks\":\"\"},\"colorscale\":[[0.0,\"#0d0887\"],[0.1111111111111111,\"#46039f\"],[0.2222222222222222,\"#7201a8\"],[0.3333333333333333,\"#9c179e\"],[0.4444444444444444,\"#bd3786\"],[0.5555555555555556,\"#d8576b\"],[0.6666666666666666,\"#ed7953\"],[0.7777777777777778,\"#fb9f3a\"],[0.8888888888888888,\"#fdca26\"],[1.0,\"#f0f921\"]]}],\"heatmap\":[{\"type\":\"heatmap\",\"colorbar\":{\"outlinewidth\":0,\"ticks\":\"\"},\"colorscale\":[[0.0,\"#0d0887\"],[0.1111111111111111,\"#46039f\"],[0.2222222222222222,\"#7201a8\"],[0.3333333333333333,\"#9c179e\"],[0.4444444444444444,\"#bd3786\"],[0.5555555555555556,\"#d8576b\"],[0.6666666666666666,\"#ed7953\"],[0.7777777777777778,\"#fb9f3a\"],[0.8888888888888888,\"#fdca26\"],[1.0,\"#f0f921\"]]}],\"heatmapgl\":[{\"type\":\"heatmapgl\",\"colorbar\":{\"outlinewidth\":0,\"ticks\":\"\"},\"colorscale\":[[0.0,\"#0d0887\"],[0.1111111111111111,\"#46039f\"],[0.2222222222222222,\"#7201a8\"],[0.3333333333333333,\"#9c179e\"],[0.4444444444444444,\"#bd3786\"],[0.5555555555555556,\"#d8576b\"],[0.6666666666666666,\"#ed7953\"],[0.7777777777777778,\"#fb9f3a\"],[0.8888888888888888,\"#fdca26\"],[1.0,\"#f0f921\"]]}],\"contourcarpet\":[{\"type\":\"contourcarpet\",\"colorbar\":{\"outlinewidth\":0,\"ticks\":\"\"}}],\"contour\":[{\"type\":\"contour\",\"colorbar\":{\"outlinewidth\":0,\"ticks\":\"\"},\"colorscale\":[[0.0,\"#0d0887\"],[0.1111111111111111,\"#46039f\"],[0.2222222222222222,\"#7201a8\"],[0.3333333333333333,\"#9c179e\"],[0.4444444444444444,\"#bd3786\"],[0.5555555555555556,\"#d8576b\"],[0.6666666666666666,\"#ed7953\"],[0.7777777777777778,\"#fb9f3a\"],[0.8888888888888888,\"#fdca26\"],[1.0,\"#f0f921\"]]}],\"surface\":[{\"type\":\"surface\",\"colorbar\":{\"outlinewidth\":0,\"ticks\":\"\"},\"colorscale\":[[0.0,\"#0d0887\"],[0.1111111111111111,\"#46039f\"],[0.2222222222222222,\"#7201a8\"],[0.3333333333333333,\"#9c179e\"],[0.4444444444444444,\"#bd3786\"],[0.5555555555555556,\"#d8576b\"],[0.6666666666666666,\"#ed7953\"],[0.7777777777777778,\"#fb9f3a\"],[0.8888888888888888,\"#fdca26\"],[1.0,\"#f0f921\"]]}],\"mesh3d\":[{\"type\":\"mesh3d\",\"colorbar\":{\"outlinewidth\":0,\"ticks\":\"\"}}],\"scatter\":[{\"fillpattern\":{\"fillmode\":\"overlay\",\"size\":10,\"solidity\":0.2},\"type\":\"scatter\"}],\"parcoords\":[{\"type\":\"parcoords\",\"line\":{\"colorbar\":{\"outlinewidth\":0,\"ticks\":\"\"}}}],\"scatterpolargl\":[{\"type\":\"scatterpolargl\",\"marker\":{\"colorbar\":{\"outlinewidth\":0,\"ticks\":\"\"}}}],\"bar\":[{\"error_x\":{\"color\":\"#2a3f5f\"},\"error_y\":{\"color\":\"#2a3f5f\"},\"marker\":{\"line\":{\"color\":\"#E5ECF6\",\"width\":0.5},\"pattern\":{\"fillmode\":\"overlay\",\"size\":10,\"solidity\":0.2}},\"type\":\"bar\"}],\"scattergeo\":[{\"type\":\"scattergeo\",\"marker\":{\"colorbar\":{\"outlinewidth\":0,\"ticks\":\"\"}}}],\"scatterpolar\":[{\"type\":\"scatterpolar\",\"marker\":{\"colorbar\":{\"outlinewidth\":0,\"ticks\":\"\"}}}],\"histogram\":[{\"marker\":{\"pattern\":{\"fillmode\":\"overlay\",\"size\":10,\"solidity\":0.2}},\"type\":\"histogram\"}],\"scattergl\":[{\"type\":\"scattergl\",\"marker\":{\"colorbar\":{\"outlinewidth\":0,\"ticks\":\"\"}}}],\"scatter3d\":[{\"type\":\"scatter3d\",\"line\":{\"colorbar\":{\"outlinewidth\":0,\"ticks\":\"\"}},\"marker\":{\"colorbar\":{\"outlinewidth\":0,\"ticks\":\"\"}}}],\"scattermapbox\":[{\"type\":\"scattermapbox\",\"marker\":{\"colorbar\":{\"outlinewidth\":0,\"ticks\":\"\"}}}],\"scatterternary\":[{\"type\":\"scatterternary\",\"marker\":{\"colorbar\":{\"outlinewidth\":0,\"ticks\":\"\"}}}],\"scattercarpet\":[{\"type\":\"scattercarpet\",\"marker\":{\"colorbar\":{\"outlinewidth\":0,\"ticks\":\"\"}}}],\"carpet\":[{\"aaxis\":{\"endlinecolor\":\"#2a3f5f\",\"gridcolor\":\"white\",\"linecolor\":\"white\",\"minorgridcolor\":\"white\",\"startlinecolor\":\"#2a3f5f\"},\"baxis\":{\"endlinecolor\":\"#2a3f5f\",\"gridcolor\":\"white\",\"linecolor\":\"white\",\"minorgridcolor\":\"white\",\"startlinecolor\":\"#2a3f5f\"},\"type\":\"carpet\"}],\"table\":[{\"cells\":{\"fill\":{\"color\":\"#EBF0F8\"},\"line\":{\"color\":\"white\"}},\"header\":{\"fill\":{\"color\":\"#C8D4E3\"},\"line\":{\"color\":\"white\"}},\"type\":\"table\"}],\"barpolar\":[{\"marker\":{\"line\":{\"color\":\"#E5ECF6\",\"width\":0.5},\"pattern\":{\"fillmode\":\"overlay\",\"size\":10,\"solidity\":0.2}},\"type\":\"barpolar\"}],\"pie\":[{\"automargin\":true,\"type\":\"pie\"}]},\"layout\":{\"autotypenumbers\":\"strict\",\"colorway\":[\"#636efa\",\"#EF553B\",\"#00cc96\",\"#ab63fa\",\"#FFA15A\",\"#19d3f3\",\"#FF6692\",\"#B6E880\",\"#FF97FF\",\"#FECB52\"],\"font\":{\"color\":\"#2a3f5f\"},\"hovermode\":\"closest\",\"hoverlabel\":{\"align\":\"left\"},\"paper_bgcolor\":\"white\",\"plot_bgcolor\":\"#E5ECF6\",\"polar\":{\"bgcolor\":\"#E5ECF6\",\"angularaxis\":{\"gridcolor\":\"white\",\"linecolor\":\"white\",\"ticks\":\"\"},\"radialaxis\":{\"gridcolor\":\"white\",\"linecolor\":\"white\",\"ticks\":\"\"}},\"ternary\":{\"bgcolor\":\"#E5ECF6\",\"aaxis\":{\"gridcolor\":\"white\",\"linecolor\":\"white\",\"ticks\":\"\"},\"baxis\":{\"gridcolor\":\"white\",\"linecolor\":\"white\",\"ticks\":\"\"},\"caxis\":{\"gridcolor\":\"white\",\"linecolor\":\"white\",\"ticks\":\"\"}},\"coloraxis\":{\"colorbar\":{\"outlinewidth\":0,\"ticks\":\"\"}},\"colorscale\":{\"sequential\":[[0.0,\"#0d0887\"],[0.1111111111111111,\"#46039f\"],[0.2222222222222222,\"#7201a8\"],[0.3333333333333333,\"#9c179e\"],[0.4444444444444444,\"#bd3786\"],[0.5555555555555556,\"#d8576b\"],[0.6666666666666666,\"#ed7953\"],[0.7777777777777778,\"#fb9f3a\"],[0.8888888888888888,\"#fdca26\"],[1.0,\"#f0f921\"]],\"sequentialminus\":[[0.0,\"#0d0887\"],[0.1111111111111111,\"#46039f\"],[0.2222222222222222,\"#7201a8\"],[0.3333333333333333,\"#9c179e\"],[0.4444444444444444,\"#bd3786\"],[0.5555555555555556,\"#d8576b\"],[0.6666666666666666,\"#ed7953\"],[0.7777777777777778,\"#fb9f3a\"],[0.8888888888888888,\"#fdca26\"],[1.0,\"#f0f921\"]],\"diverging\":[[0,\"#8e0152\"],[0.1,\"#c51b7d\"],[0.2,\"#de77ae\"],[0.3,\"#f1b6da\"],[0.4,\"#fde0ef\"],[0.5,\"#f7f7f7\"],[0.6,\"#e6f5d0\"],[0.7,\"#b8e186\"],[0.8,\"#7fbc41\"],[0.9,\"#4d9221\"],[1,\"#276419\"]]},\"xaxis\":{\"gridcolor\":\"white\",\"linecolor\":\"white\",\"ticks\":\"\",\"title\":{\"standoff\":15},\"zerolinecolor\":\"white\",\"automargin\":true,\"zerolinewidth\":2},\"yaxis\":{\"gridcolor\":\"white\",\"linecolor\":\"white\",\"ticks\":\"\",\"title\":{\"standoff\":15},\"zerolinecolor\":\"white\",\"automargin\":true,\"zerolinewidth\":2},\"scene\":{\"xaxis\":{\"backgroundcolor\":\"#E5ECF6\",\"gridcolor\":\"white\",\"linecolor\":\"white\",\"showbackground\":true,\"ticks\":\"\",\"zerolinecolor\":\"white\",\"gridwidth\":2},\"yaxis\":{\"backgroundcolor\":\"#E5ECF6\",\"gridcolor\":\"white\",\"linecolor\":\"white\",\"showbackground\":true,\"ticks\":\"\",\"zerolinecolor\":\"white\",\"gridwidth\":2},\"zaxis\":{\"backgroundcolor\":\"#E5ECF6\",\"gridcolor\":\"white\",\"linecolor\":\"white\",\"showbackground\":true,\"ticks\":\"\",\"zerolinecolor\":\"white\",\"gridwidth\":2}},\"shapedefaults\":{\"line\":{\"color\":\"#2a3f5f\"}},\"annotationdefaults\":{\"arrowcolor\":\"#2a3f5f\",\"arrowhead\":0,\"arrowwidth\":1},\"geo\":{\"bgcolor\":\"white\",\"landcolor\":\"#E5ECF6\",\"subunitcolor\":\"white\",\"showland\":true,\"showlakes\":true,\"lakecolor\":\"white\"},\"title\":{\"x\":0.05},\"mapbox\":{\"style\":\"light\"}}},\"title\":{\"text\":\"Correlation Heatmap\"},\"xaxis\":{\"title\":{\"text\":\"Features\"}},\"yaxis\":{\"title\":{\"text\":\"Features\"}},\"autosize\":true},                        {\"responsive\": true}                    ).then(function(){\n",
       "                            \n",
       "var gd = document.getElementById('53a40767-32aa-4078-ba05-888f9b9ed77f');\n",
       "var x = new MutationObserver(function (mutations, observer) {{\n",
       "        var display = window.getComputedStyle(gd).display;\n",
       "        if (!display || display === 'none') {{\n",
       "            console.log([gd, 'removed!']);\n",
       "            Plotly.purge(gd);\n",
       "            observer.disconnect();\n",
       "        }}\n",
       "}});\n",
       "\n",
       "// Listen for the removal of the full notebook cells\n",
       "var notebookContainer = gd.closest('#notebook-container');\n",
       "if (notebookContainer) {{\n",
       "    x.observe(notebookContainer, {childList: true});\n",
       "}}\n",
       "\n",
       "// Listen for the clearing of the current output cell\n",
       "var outputEl = gd.closest('.output');\n",
       "if (outputEl) {{\n",
       "    x.observe(outputEl, {childList: true});\n",
       "}}\n",
       "\n",
       "                        })                };                });            </script>        </div>"
      ]
     },
     "metadata": {},
     "output_type": "display_data"
    }
   ],
   "source": [
    "import plotly.express as px\n",
    "import plotly.graph_objects as go\n",
    "import pandas as pd\n",
    "import seaborn as sns\n",
    "import matplotlib.pyplot as plt\n",
    "\n",
    "df = pd.DataFrame(final_data)\n",
    "\n",
    "# Calculate the correlation matrix\n",
    "corr_matrix = df.corr()\n",
    "\n",
    "# Create an interactive heatmap with Plotly\n",
    "fig = go.Figure(data=go.Heatmap(\n",
    "    z=corr_matrix.values,\n",
    "    x=corr_matrix.columns,\n",
    "    y=corr_matrix.index,\n",
    "    colorscale='Viridis',\n",
    "    hoverongaps=False,\n",
    "))\n",
    "\n",
    "fig.update_layout(\n",
    "    title='Correlation Heatmap',\n",
    "    xaxis_title='Features',\n",
    "    yaxis_title='Features',\n",
    "    autosize=True,\n",
    ")\n",
    "\n",
    "fig.show()\n"
   ]
  },
  {
   "cell_type": "code",
   "execution_count": 43,
   "id": "00c1eb36",
   "metadata": {},
   "outputs": [
    {
     "name": "stdout",
     "output_type": "stream",
     "text": [
      "Index(['user_id', 'dish_name_y', 'order_count'], dtype='object')\n"
     ]
    }
   ],
   "source": [
    "print(final_data.columns)\n"
   ]
  },
  {
   "cell_type": "code",
   "execution_count": 40,
   "id": "91feefb4",
   "metadata": {},
   "outputs": [
    {
     "data": {
      "application/vnd.plotly.v1+json": {
       "config": {
        "plotlyServerURL": "https://plot.ly"
       },
       "data": [
        {
         "alignmentgroup": "True",
         "hovertemplate": "Dish=%{x}<br>Total Orders=%{y}<extra></extra>",
         "legendgroup": "",
         "marker": {
          "color": "#636efa",
          "pattern": {
           "shape": ""
          }
         },
         "name": "",
         "offsetgroup": "",
         "orientation": "v",
         "showlegend": false,
         "textposition": "auto",
         "type": "bar",
         "x": [
          "Grilled Chicken",
          "Spaghetti",
          "Pizza",
          "Pancakes",
          "Tacos",
          "Caesar Salad",
          "Veggie Burger",
          "Pasta"
         ],
         "xaxis": "x",
         "y": [
          15,
          12,
          11,
          10,
          9,
          8,
          7,
          5
         ],
         "yaxis": "y"
        }
       ],
       "layout": {
        "barmode": "relative",
        "legend": {
         "tracegroupgap": 0
        },
        "plot_bgcolor": "white",
        "template": {
         "data": {
          "bar": [
           {
            "error_x": {
             "color": "#2a3f5f"
            },
            "error_y": {
             "color": "#2a3f5f"
            },
            "marker": {
             "line": {
              "color": "#E5ECF6",
              "width": 0.5
             },
             "pattern": {
              "fillmode": "overlay",
              "size": 10,
              "solidity": 0.2
             }
            },
            "type": "bar"
           }
          ],
          "barpolar": [
           {
            "marker": {
             "line": {
              "color": "#E5ECF6",
              "width": 0.5
             },
             "pattern": {
              "fillmode": "overlay",
              "size": 10,
              "solidity": 0.2
             }
            },
            "type": "barpolar"
           }
          ],
          "carpet": [
           {
            "aaxis": {
             "endlinecolor": "#2a3f5f",
             "gridcolor": "white",
             "linecolor": "white",
             "minorgridcolor": "white",
             "startlinecolor": "#2a3f5f"
            },
            "baxis": {
             "endlinecolor": "#2a3f5f",
             "gridcolor": "white",
             "linecolor": "white",
             "minorgridcolor": "white",
             "startlinecolor": "#2a3f5f"
            },
            "type": "carpet"
           }
          ],
          "choropleth": [
           {
            "colorbar": {
             "outlinewidth": 0,
             "ticks": ""
            },
            "type": "choropleth"
           }
          ],
          "contour": [
           {
            "colorbar": {
             "outlinewidth": 0,
             "ticks": ""
            },
            "colorscale": [
             [
              0,
              "#0d0887"
             ],
             [
              0.1111111111111111,
              "#46039f"
             ],
             [
              0.2222222222222222,
              "#7201a8"
             ],
             [
              0.3333333333333333,
              "#9c179e"
             ],
             [
              0.4444444444444444,
              "#bd3786"
             ],
             [
              0.5555555555555556,
              "#d8576b"
             ],
             [
              0.6666666666666666,
              "#ed7953"
             ],
             [
              0.7777777777777778,
              "#fb9f3a"
             ],
             [
              0.8888888888888888,
              "#fdca26"
             ],
             [
              1,
              "#f0f921"
             ]
            ],
            "type": "contour"
           }
          ],
          "contourcarpet": [
           {
            "colorbar": {
             "outlinewidth": 0,
             "ticks": ""
            },
            "type": "contourcarpet"
           }
          ],
          "heatmap": [
           {
            "colorbar": {
             "outlinewidth": 0,
             "ticks": ""
            },
            "colorscale": [
             [
              0,
              "#0d0887"
             ],
             [
              0.1111111111111111,
              "#46039f"
             ],
             [
              0.2222222222222222,
              "#7201a8"
             ],
             [
              0.3333333333333333,
              "#9c179e"
             ],
             [
              0.4444444444444444,
              "#bd3786"
             ],
             [
              0.5555555555555556,
              "#d8576b"
             ],
             [
              0.6666666666666666,
              "#ed7953"
             ],
             [
              0.7777777777777778,
              "#fb9f3a"
             ],
             [
              0.8888888888888888,
              "#fdca26"
             ],
             [
              1,
              "#f0f921"
             ]
            ],
            "type": "heatmap"
           }
          ],
          "heatmapgl": [
           {
            "colorbar": {
             "outlinewidth": 0,
             "ticks": ""
            },
            "colorscale": [
             [
              0,
              "#0d0887"
             ],
             [
              0.1111111111111111,
              "#46039f"
             ],
             [
              0.2222222222222222,
              "#7201a8"
             ],
             [
              0.3333333333333333,
              "#9c179e"
             ],
             [
              0.4444444444444444,
              "#bd3786"
             ],
             [
              0.5555555555555556,
              "#d8576b"
             ],
             [
              0.6666666666666666,
              "#ed7953"
             ],
             [
              0.7777777777777778,
              "#fb9f3a"
             ],
             [
              0.8888888888888888,
              "#fdca26"
             ],
             [
              1,
              "#f0f921"
             ]
            ],
            "type": "heatmapgl"
           }
          ],
          "histogram": [
           {
            "marker": {
             "pattern": {
              "fillmode": "overlay",
              "size": 10,
              "solidity": 0.2
             }
            },
            "type": "histogram"
           }
          ],
          "histogram2d": [
           {
            "colorbar": {
             "outlinewidth": 0,
             "ticks": ""
            },
            "colorscale": [
             [
              0,
              "#0d0887"
             ],
             [
              0.1111111111111111,
              "#46039f"
             ],
             [
              0.2222222222222222,
              "#7201a8"
             ],
             [
              0.3333333333333333,
              "#9c179e"
             ],
             [
              0.4444444444444444,
              "#bd3786"
             ],
             [
              0.5555555555555556,
              "#d8576b"
             ],
             [
              0.6666666666666666,
              "#ed7953"
             ],
             [
              0.7777777777777778,
              "#fb9f3a"
             ],
             [
              0.8888888888888888,
              "#fdca26"
             ],
             [
              1,
              "#f0f921"
             ]
            ],
            "type": "histogram2d"
           }
          ],
          "histogram2dcontour": [
           {
            "colorbar": {
             "outlinewidth": 0,
             "ticks": ""
            },
            "colorscale": [
             [
              0,
              "#0d0887"
             ],
             [
              0.1111111111111111,
              "#46039f"
             ],
             [
              0.2222222222222222,
              "#7201a8"
             ],
             [
              0.3333333333333333,
              "#9c179e"
             ],
             [
              0.4444444444444444,
              "#bd3786"
             ],
             [
              0.5555555555555556,
              "#d8576b"
             ],
             [
              0.6666666666666666,
              "#ed7953"
             ],
             [
              0.7777777777777778,
              "#fb9f3a"
             ],
             [
              0.8888888888888888,
              "#fdca26"
             ],
             [
              1,
              "#f0f921"
             ]
            ],
            "type": "histogram2dcontour"
           }
          ],
          "mesh3d": [
           {
            "colorbar": {
             "outlinewidth": 0,
             "ticks": ""
            },
            "type": "mesh3d"
           }
          ],
          "parcoords": [
           {
            "line": {
             "colorbar": {
              "outlinewidth": 0,
              "ticks": ""
             }
            },
            "type": "parcoords"
           }
          ],
          "pie": [
           {
            "automargin": true,
            "type": "pie"
           }
          ],
          "scatter": [
           {
            "fillpattern": {
             "fillmode": "overlay",
             "size": 10,
             "solidity": 0.2
            },
            "type": "scatter"
           }
          ],
          "scatter3d": [
           {
            "line": {
             "colorbar": {
              "outlinewidth": 0,
              "ticks": ""
             }
            },
            "marker": {
             "colorbar": {
              "outlinewidth": 0,
              "ticks": ""
             }
            },
            "type": "scatter3d"
           }
          ],
          "scattercarpet": [
           {
            "marker": {
             "colorbar": {
              "outlinewidth": 0,
              "ticks": ""
             }
            },
            "type": "scattercarpet"
           }
          ],
          "scattergeo": [
           {
            "marker": {
             "colorbar": {
              "outlinewidth": 0,
              "ticks": ""
             }
            },
            "type": "scattergeo"
           }
          ],
          "scattergl": [
           {
            "marker": {
             "colorbar": {
              "outlinewidth": 0,
              "ticks": ""
             }
            },
            "type": "scattergl"
           }
          ],
          "scattermapbox": [
           {
            "marker": {
             "colorbar": {
              "outlinewidth": 0,
              "ticks": ""
             }
            },
            "type": "scattermapbox"
           }
          ],
          "scatterpolar": [
           {
            "marker": {
             "colorbar": {
              "outlinewidth": 0,
              "ticks": ""
             }
            },
            "type": "scatterpolar"
           }
          ],
          "scatterpolargl": [
           {
            "marker": {
             "colorbar": {
              "outlinewidth": 0,
              "ticks": ""
             }
            },
            "type": "scatterpolargl"
           }
          ],
          "scatterternary": [
           {
            "marker": {
             "colorbar": {
              "outlinewidth": 0,
              "ticks": ""
             }
            },
            "type": "scatterternary"
           }
          ],
          "surface": [
           {
            "colorbar": {
             "outlinewidth": 0,
             "ticks": ""
            },
            "colorscale": [
             [
              0,
              "#0d0887"
             ],
             [
              0.1111111111111111,
              "#46039f"
             ],
             [
              0.2222222222222222,
              "#7201a8"
             ],
             [
              0.3333333333333333,
              "#9c179e"
             ],
             [
              0.4444444444444444,
              "#bd3786"
             ],
             [
              0.5555555555555556,
              "#d8576b"
             ],
             [
              0.6666666666666666,
              "#ed7953"
             ],
             [
              0.7777777777777778,
              "#fb9f3a"
             ],
             [
              0.8888888888888888,
              "#fdca26"
             ],
             [
              1,
              "#f0f921"
             ]
            ],
            "type": "surface"
           }
          ],
          "table": [
           {
            "cells": {
             "fill": {
              "color": "#EBF0F8"
             },
             "line": {
              "color": "white"
             }
            },
            "header": {
             "fill": {
              "color": "#C8D4E3"
             },
             "line": {
              "color": "white"
             }
            },
            "type": "table"
           }
          ]
         },
         "layout": {
          "annotationdefaults": {
           "arrowcolor": "#2a3f5f",
           "arrowhead": 0,
           "arrowwidth": 1
          },
          "autotypenumbers": "strict",
          "coloraxis": {
           "colorbar": {
            "outlinewidth": 0,
            "ticks": ""
           }
          },
          "colorscale": {
           "diverging": [
            [
             0,
             "#8e0152"
            ],
            [
             0.1,
             "#c51b7d"
            ],
            [
             0.2,
             "#de77ae"
            ],
            [
             0.3,
             "#f1b6da"
            ],
            [
             0.4,
             "#fde0ef"
            ],
            [
             0.5,
             "#f7f7f7"
            ],
            [
             0.6,
             "#e6f5d0"
            ],
            [
             0.7,
             "#b8e186"
            ],
            [
             0.8,
             "#7fbc41"
            ],
            [
             0.9,
             "#4d9221"
            ],
            [
             1,
             "#276419"
            ]
           ],
           "sequential": [
            [
             0,
             "#0d0887"
            ],
            [
             0.1111111111111111,
             "#46039f"
            ],
            [
             0.2222222222222222,
             "#7201a8"
            ],
            [
             0.3333333333333333,
             "#9c179e"
            ],
            [
             0.4444444444444444,
             "#bd3786"
            ],
            [
             0.5555555555555556,
             "#d8576b"
            ],
            [
             0.6666666666666666,
             "#ed7953"
            ],
            [
             0.7777777777777778,
             "#fb9f3a"
            ],
            [
             0.8888888888888888,
             "#fdca26"
            ],
            [
             1,
             "#f0f921"
            ]
           ],
           "sequentialminus": [
            [
             0,
             "#0d0887"
            ],
            [
             0.1111111111111111,
             "#46039f"
            ],
            [
             0.2222222222222222,
             "#7201a8"
            ],
            [
             0.3333333333333333,
             "#9c179e"
            ],
            [
             0.4444444444444444,
             "#bd3786"
            ],
            [
             0.5555555555555556,
             "#d8576b"
            ],
            [
             0.6666666666666666,
             "#ed7953"
            ],
            [
             0.7777777777777778,
             "#fb9f3a"
            ],
            [
             0.8888888888888888,
             "#fdca26"
            ],
            [
             1,
             "#f0f921"
            ]
           ]
          },
          "colorway": [
           "#636efa",
           "#EF553B",
           "#00cc96",
           "#ab63fa",
           "#FFA15A",
           "#19d3f3",
           "#FF6692",
           "#B6E880",
           "#FF97FF",
           "#FECB52"
          ],
          "font": {
           "color": "#2a3f5f"
          },
          "geo": {
           "bgcolor": "white",
           "lakecolor": "white",
           "landcolor": "#E5ECF6",
           "showlakes": true,
           "showland": true,
           "subunitcolor": "white"
          },
          "hoverlabel": {
           "align": "left"
          },
          "hovermode": "closest",
          "mapbox": {
           "style": "light"
          },
          "paper_bgcolor": "white",
          "plot_bgcolor": "#E5ECF6",
          "polar": {
           "angularaxis": {
            "gridcolor": "white",
            "linecolor": "white",
            "ticks": ""
           },
           "bgcolor": "#E5ECF6",
           "radialaxis": {
            "gridcolor": "white",
            "linecolor": "white",
            "ticks": ""
           }
          },
          "scene": {
           "xaxis": {
            "backgroundcolor": "#E5ECF6",
            "gridcolor": "white",
            "gridwidth": 2,
            "linecolor": "white",
            "showbackground": true,
            "ticks": "",
            "zerolinecolor": "white"
           },
           "yaxis": {
            "backgroundcolor": "#E5ECF6",
            "gridcolor": "white",
            "gridwidth": 2,
            "linecolor": "white",
            "showbackground": true,
            "ticks": "",
            "zerolinecolor": "white"
           },
           "zaxis": {
            "backgroundcolor": "#E5ECF6",
            "gridcolor": "white",
            "gridwidth": 2,
            "linecolor": "white",
            "showbackground": true,
            "ticks": "",
            "zerolinecolor": "white"
           }
          },
          "shapedefaults": {
           "line": {
            "color": "#2a3f5f"
           }
          },
          "ternary": {
           "aaxis": {
            "gridcolor": "white",
            "linecolor": "white",
            "ticks": ""
           },
           "baxis": {
            "gridcolor": "white",
            "linecolor": "white",
            "ticks": ""
           },
           "bgcolor": "#E5ECF6",
           "caxis": {
            "gridcolor": "white",
            "linecolor": "white",
            "ticks": ""
           }
          },
          "title": {
           "x": 0.05
          },
          "xaxis": {
           "automargin": true,
           "gridcolor": "white",
           "linecolor": "white",
           "ticks": "",
           "title": {
            "standoff": 15
           },
           "zerolinecolor": "white",
           "zerolinewidth": 2
          },
          "yaxis": {
           "automargin": true,
           "gridcolor": "white",
           "linecolor": "white",
           "ticks": "",
           "title": {
            "standoff": 15
           },
           "zerolinecolor": "white",
           "zerolinewidth": 2
          }
         }
        },
        "title": {
         "text": "Most Popular Dishes"
        },
        "xaxis": {
         "anchor": "y",
         "domain": [
          0,
          1
         ],
         "title": {
          "text": "Dish Name"
         }
        },
        "yaxis": {
         "anchor": "x",
         "domain": [
          0,
          1
         ],
         "title": {
          "text": "Total Orders"
         }
        }
       }
      },
      "text/html": [
       "<div>                            <div id=\"01653c19-f7b4-4543-ab58-b6c51dab8fd3\" class=\"plotly-graph-div\" style=\"height:525px; width:100%;\"></div>            <script type=\"text/javascript\">                require([\"plotly\"], function(Plotly) {                    window.PLOTLYENV=window.PLOTLYENV || {};                                    if (document.getElementById(\"01653c19-f7b4-4543-ab58-b6c51dab8fd3\")) {                    Plotly.newPlot(                        \"01653c19-f7b4-4543-ab58-b6c51dab8fd3\",                        [{\"alignmentgroup\":\"True\",\"hovertemplate\":\"Dish=%{x}<br>Total Orders=%{y}<extra></extra>\",\"legendgroup\":\"\",\"marker\":{\"color\":\"#636efa\",\"pattern\":{\"shape\":\"\"}},\"name\":\"\",\"offsetgroup\":\"\",\"orientation\":\"v\",\"showlegend\":false,\"textposition\":\"auto\",\"x\":[\"Grilled Chicken\",\"Spaghetti\",\"Pizza\",\"Pancakes\",\"Tacos\",\"Caesar Salad\",\"Veggie Burger\",\"Pasta\"],\"xaxis\":\"x\",\"y\":[15,12,11,10,9,8,7,5],\"yaxis\":\"y\",\"type\":\"bar\"}],                        {\"template\":{\"data\":{\"histogram2dcontour\":[{\"type\":\"histogram2dcontour\",\"colorbar\":{\"outlinewidth\":0,\"ticks\":\"\"},\"colorscale\":[[0.0,\"#0d0887\"],[0.1111111111111111,\"#46039f\"],[0.2222222222222222,\"#7201a8\"],[0.3333333333333333,\"#9c179e\"],[0.4444444444444444,\"#bd3786\"],[0.5555555555555556,\"#d8576b\"],[0.6666666666666666,\"#ed7953\"],[0.7777777777777778,\"#fb9f3a\"],[0.8888888888888888,\"#fdca26\"],[1.0,\"#f0f921\"]]}],\"choropleth\":[{\"type\":\"choropleth\",\"colorbar\":{\"outlinewidth\":0,\"ticks\":\"\"}}],\"histogram2d\":[{\"type\":\"histogram2d\",\"colorbar\":{\"outlinewidth\":0,\"ticks\":\"\"},\"colorscale\":[[0.0,\"#0d0887\"],[0.1111111111111111,\"#46039f\"],[0.2222222222222222,\"#7201a8\"],[0.3333333333333333,\"#9c179e\"],[0.4444444444444444,\"#bd3786\"],[0.5555555555555556,\"#d8576b\"],[0.6666666666666666,\"#ed7953\"],[0.7777777777777778,\"#fb9f3a\"],[0.8888888888888888,\"#fdca26\"],[1.0,\"#f0f921\"]]}],\"heatmap\":[{\"type\":\"heatmap\",\"colorbar\":{\"outlinewidth\":0,\"ticks\":\"\"},\"colorscale\":[[0.0,\"#0d0887\"],[0.1111111111111111,\"#46039f\"],[0.2222222222222222,\"#7201a8\"],[0.3333333333333333,\"#9c179e\"],[0.4444444444444444,\"#bd3786\"],[0.5555555555555556,\"#d8576b\"],[0.6666666666666666,\"#ed7953\"],[0.7777777777777778,\"#fb9f3a\"],[0.8888888888888888,\"#fdca26\"],[1.0,\"#f0f921\"]]}],\"heatmapgl\":[{\"type\":\"heatmapgl\",\"colorbar\":{\"outlinewidth\":0,\"ticks\":\"\"},\"colorscale\":[[0.0,\"#0d0887\"],[0.1111111111111111,\"#46039f\"],[0.2222222222222222,\"#7201a8\"],[0.3333333333333333,\"#9c179e\"],[0.4444444444444444,\"#bd3786\"],[0.5555555555555556,\"#d8576b\"],[0.6666666666666666,\"#ed7953\"],[0.7777777777777778,\"#fb9f3a\"],[0.8888888888888888,\"#fdca26\"],[1.0,\"#f0f921\"]]}],\"contourcarpet\":[{\"type\":\"contourcarpet\",\"colorbar\":{\"outlinewidth\":0,\"ticks\":\"\"}}],\"contour\":[{\"type\":\"contour\",\"colorbar\":{\"outlinewidth\":0,\"ticks\":\"\"},\"colorscale\":[[0.0,\"#0d0887\"],[0.1111111111111111,\"#46039f\"],[0.2222222222222222,\"#7201a8\"],[0.3333333333333333,\"#9c179e\"],[0.4444444444444444,\"#bd3786\"],[0.5555555555555556,\"#d8576b\"],[0.6666666666666666,\"#ed7953\"],[0.7777777777777778,\"#fb9f3a\"],[0.8888888888888888,\"#fdca26\"],[1.0,\"#f0f921\"]]}],\"surface\":[{\"type\":\"surface\",\"colorbar\":{\"outlinewidth\":0,\"ticks\":\"\"},\"colorscale\":[[0.0,\"#0d0887\"],[0.1111111111111111,\"#46039f\"],[0.2222222222222222,\"#7201a8\"],[0.3333333333333333,\"#9c179e\"],[0.4444444444444444,\"#bd3786\"],[0.5555555555555556,\"#d8576b\"],[0.6666666666666666,\"#ed7953\"],[0.7777777777777778,\"#fb9f3a\"],[0.8888888888888888,\"#fdca26\"],[1.0,\"#f0f921\"]]}],\"mesh3d\":[{\"type\":\"mesh3d\",\"colorbar\":{\"outlinewidth\":0,\"ticks\":\"\"}}],\"scatter\":[{\"fillpattern\":{\"fillmode\":\"overlay\",\"size\":10,\"solidity\":0.2},\"type\":\"scatter\"}],\"parcoords\":[{\"type\":\"parcoords\",\"line\":{\"colorbar\":{\"outlinewidth\":0,\"ticks\":\"\"}}}],\"scatterpolargl\":[{\"type\":\"scatterpolargl\",\"marker\":{\"colorbar\":{\"outlinewidth\":0,\"ticks\":\"\"}}}],\"bar\":[{\"error_x\":{\"color\":\"#2a3f5f\"},\"error_y\":{\"color\":\"#2a3f5f\"},\"marker\":{\"line\":{\"color\":\"#E5ECF6\",\"width\":0.5},\"pattern\":{\"fillmode\":\"overlay\",\"size\":10,\"solidity\":0.2}},\"type\":\"bar\"}],\"scattergeo\":[{\"type\":\"scattergeo\",\"marker\":{\"colorbar\":{\"outlinewidth\":0,\"ticks\":\"\"}}}],\"scatterpolar\":[{\"type\":\"scatterpolar\",\"marker\":{\"colorbar\":{\"outlinewidth\":0,\"ticks\":\"\"}}}],\"histogram\":[{\"marker\":{\"pattern\":{\"fillmode\":\"overlay\",\"size\":10,\"solidity\":0.2}},\"type\":\"histogram\"}],\"scattergl\":[{\"type\":\"scattergl\",\"marker\":{\"colorbar\":{\"outlinewidth\":0,\"ticks\":\"\"}}}],\"scatter3d\":[{\"type\":\"scatter3d\",\"line\":{\"colorbar\":{\"outlinewidth\":0,\"ticks\":\"\"}},\"marker\":{\"colorbar\":{\"outlinewidth\":0,\"ticks\":\"\"}}}],\"scattermapbox\":[{\"type\":\"scattermapbox\",\"marker\":{\"colorbar\":{\"outlinewidth\":0,\"ticks\":\"\"}}}],\"scatterternary\":[{\"type\":\"scatterternary\",\"marker\":{\"colorbar\":{\"outlinewidth\":0,\"ticks\":\"\"}}}],\"scattercarpet\":[{\"type\":\"scattercarpet\",\"marker\":{\"colorbar\":{\"outlinewidth\":0,\"ticks\":\"\"}}}],\"carpet\":[{\"aaxis\":{\"endlinecolor\":\"#2a3f5f\",\"gridcolor\":\"white\",\"linecolor\":\"white\",\"minorgridcolor\":\"white\",\"startlinecolor\":\"#2a3f5f\"},\"baxis\":{\"endlinecolor\":\"#2a3f5f\",\"gridcolor\":\"white\",\"linecolor\":\"white\",\"minorgridcolor\":\"white\",\"startlinecolor\":\"#2a3f5f\"},\"type\":\"carpet\"}],\"table\":[{\"cells\":{\"fill\":{\"color\":\"#EBF0F8\"},\"line\":{\"color\":\"white\"}},\"header\":{\"fill\":{\"color\":\"#C8D4E3\"},\"line\":{\"color\":\"white\"}},\"type\":\"table\"}],\"barpolar\":[{\"marker\":{\"line\":{\"color\":\"#E5ECF6\",\"width\":0.5},\"pattern\":{\"fillmode\":\"overlay\",\"size\":10,\"solidity\":0.2}},\"type\":\"barpolar\"}],\"pie\":[{\"automargin\":true,\"type\":\"pie\"}]},\"layout\":{\"autotypenumbers\":\"strict\",\"colorway\":[\"#636efa\",\"#EF553B\",\"#00cc96\",\"#ab63fa\",\"#FFA15A\",\"#19d3f3\",\"#FF6692\",\"#B6E880\",\"#FF97FF\",\"#FECB52\"],\"font\":{\"color\":\"#2a3f5f\"},\"hovermode\":\"closest\",\"hoverlabel\":{\"align\":\"left\"},\"paper_bgcolor\":\"white\",\"plot_bgcolor\":\"#E5ECF6\",\"polar\":{\"bgcolor\":\"#E5ECF6\",\"angularaxis\":{\"gridcolor\":\"white\",\"linecolor\":\"white\",\"ticks\":\"\"},\"radialaxis\":{\"gridcolor\":\"white\",\"linecolor\":\"white\",\"ticks\":\"\"}},\"ternary\":{\"bgcolor\":\"#E5ECF6\",\"aaxis\":{\"gridcolor\":\"white\",\"linecolor\":\"white\",\"ticks\":\"\"},\"baxis\":{\"gridcolor\":\"white\",\"linecolor\":\"white\",\"ticks\":\"\"},\"caxis\":{\"gridcolor\":\"white\",\"linecolor\":\"white\",\"ticks\":\"\"}},\"coloraxis\":{\"colorbar\":{\"outlinewidth\":0,\"ticks\":\"\"}},\"colorscale\":{\"sequential\":[[0.0,\"#0d0887\"],[0.1111111111111111,\"#46039f\"],[0.2222222222222222,\"#7201a8\"],[0.3333333333333333,\"#9c179e\"],[0.4444444444444444,\"#bd3786\"],[0.5555555555555556,\"#d8576b\"],[0.6666666666666666,\"#ed7953\"],[0.7777777777777778,\"#fb9f3a\"],[0.8888888888888888,\"#fdca26\"],[1.0,\"#f0f921\"]],\"sequentialminus\":[[0.0,\"#0d0887\"],[0.1111111111111111,\"#46039f\"],[0.2222222222222222,\"#7201a8\"],[0.3333333333333333,\"#9c179e\"],[0.4444444444444444,\"#bd3786\"],[0.5555555555555556,\"#d8576b\"],[0.6666666666666666,\"#ed7953\"],[0.7777777777777778,\"#fb9f3a\"],[0.8888888888888888,\"#fdca26\"],[1.0,\"#f0f921\"]],\"diverging\":[[0,\"#8e0152\"],[0.1,\"#c51b7d\"],[0.2,\"#de77ae\"],[0.3,\"#f1b6da\"],[0.4,\"#fde0ef\"],[0.5,\"#f7f7f7\"],[0.6,\"#e6f5d0\"],[0.7,\"#b8e186\"],[0.8,\"#7fbc41\"],[0.9,\"#4d9221\"],[1,\"#276419\"]]},\"xaxis\":{\"gridcolor\":\"white\",\"linecolor\":\"white\",\"ticks\":\"\",\"title\":{\"standoff\":15},\"zerolinecolor\":\"white\",\"automargin\":true,\"zerolinewidth\":2},\"yaxis\":{\"gridcolor\":\"white\",\"linecolor\":\"white\",\"ticks\":\"\",\"title\":{\"standoff\":15},\"zerolinecolor\":\"white\",\"automargin\":true,\"zerolinewidth\":2},\"scene\":{\"xaxis\":{\"backgroundcolor\":\"#E5ECF6\",\"gridcolor\":\"white\",\"linecolor\":\"white\",\"showbackground\":true,\"ticks\":\"\",\"zerolinecolor\":\"white\",\"gridwidth\":2},\"yaxis\":{\"backgroundcolor\":\"#E5ECF6\",\"gridcolor\":\"white\",\"linecolor\":\"white\",\"showbackground\":true,\"ticks\":\"\",\"zerolinecolor\":\"white\",\"gridwidth\":2},\"zaxis\":{\"backgroundcolor\":\"#E5ECF6\",\"gridcolor\":\"white\",\"linecolor\":\"white\",\"showbackground\":true,\"ticks\":\"\",\"zerolinecolor\":\"white\",\"gridwidth\":2}},\"shapedefaults\":{\"line\":{\"color\":\"#2a3f5f\"}},\"annotationdefaults\":{\"arrowcolor\":\"#2a3f5f\",\"arrowhead\":0,\"arrowwidth\":1},\"geo\":{\"bgcolor\":\"white\",\"landcolor\":\"#E5ECF6\",\"subunitcolor\":\"white\",\"showland\":true,\"showlakes\":true,\"lakecolor\":\"white\"},\"title\":{\"x\":0.05},\"mapbox\":{\"style\":\"light\"}}},\"xaxis\":{\"anchor\":\"y\",\"domain\":[0.0,1.0],\"title\":{\"text\":\"Dish Name\"}},\"yaxis\":{\"anchor\":\"x\",\"domain\":[0.0,1.0],\"title\":{\"text\":\"Total Orders\"}},\"legend\":{\"tracegroupgap\":0},\"title\":{\"text\":\"Most Popular Dishes\"},\"barmode\":\"relative\",\"plot_bgcolor\":\"white\"},                        {\"responsive\": true}                    ).then(function(){\n",
       "                            \n",
       "var gd = document.getElementById('01653c19-f7b4-4543-ab58-b6c51dab8fd3');\n",
       "var x = new MutationObserver(function (mutations, observer) {{\n",
       "        var display = window.getComputedStyle(gd).display;\n",
       "        if (!display || display === 'none') {{\n",
       "            console.log([gd, 'removed!']);\n",
       "            Plotly.purge(gd);\n",
       "            observer.disconnect();\n",
       "        }}\n",
       "}});\n",
       "\n",
       "// Listen for the removal of the full notebook cells\n",
       "var notebookContainer = gd.closest('#notebook-container');\n",
       "if (notebookContainer) {{\n",
       "    x.observe(notebookContainer, {childList: true});\n",
       "}}\n",
       "\n",
       "// Listen for the clearing of the current output cell\n",
       "var outputEl = gd.closest('.output');\n",
       "if (outputEl) {{\n",
       "    x.observe(outputEl, {childList: true});\n",
       "}}\n",
       "\n",
       "                        })                };                });            </script>        </div>"
      ]
     },
     "metadata": {},
     "output_type": "display_data"
    }
   ],
   "source": [
    "data = {\n",
    "    'user_id': ['U001', 'U002', 'U003', 'U004', 'U005', 'U006', 'U007', 'U008'],\n",
    "    'dish_name_y': ['Spaghetti', 'Pancakes', 'Grilled Chicken', 'Caesar Salad', 'Veggie Burger', 'Pasta', 'Tacos', 'Pizza'],\n",
    "    'order_count': [12, 10, 15, 8, 7, 5, 9, 11]\n",
    "}\n",
    "\n",
    "# Convert to DataFrame\n",
    "datad = pd.DataFrame(data)\n",
    "\n",
    "# Aggregate data to find the total order count for each dish\n",
    "dish_popularity = datad.groupby('dish_name_y')['order_count'].sum().reset_index()\n",
    "dish_popularity.columns = ['Dish Name', 'Order Count']\n",
    "\n",
    "# Create a bar chart\n",
    "fig = px.bar(\n",
    "    dish_popularity.sort_values(by='Order Count', ascending=False),\n",
    "    x='Dish Name',\n",
    "    y='Order Count',\n",
    "    title='Most Popular Dishes',\n",
    "    labels={'Dish Name': 'Dish', 'Order Count': 'Total Orders'}\n",
    ")\n",
    "\n",
    "fig.update_layout(\n",
    "    xaxis_title='Dish Name',\n",
    "    yaxis_title='Total Orders',\n",
    "    plot_bgcolor='white',\n",
    ")\n",
    "fig.show()"
   ]
  },
  {
   "cell_type": "code",
   "execution_count": 44,
   "id": "bb696160",
   "metadata": {},
   "outputs": [],
   "source": [
    "# Ensure age and total_orders are included in the final DataFrame\n",
    "final_data = pd.merge(\n",
    "    user_details[['user_id', 'age', 'total_orders']], \n",
    "    final_data, \n",
    "    on='user_id', \n",
    "    how='inner'\n",
    ")"
   ]
  },
  {
   "cell_type": "code",
   "execution_count": 45,
   "id": "47efb0cd",
   "metadata": {},
   "outputs": [
    {
     "name": "stdout",
     "output_type": "stream",
     "text": [
      "Index(['user_id', 'age', 'total_orders', 'dish_name_y', 'order_count'], dtype='object')\n"
     ]
    }
   ],
   "source": [
    "print(final_data.columns)\n"
   ]
  },
  {
   "cell_type": "code",
   "execution_count": 46,
   "id": "84351d30",
   "metadata": {},
   "outputs": [],
   "source": [
    "# Assuming 'user_details' contains 'age_group' and 'total_orders'\n",
    "\n",
    "# Group by age group and calculate the average order count\n",
    "age_group_behavior = user_details.groupby('age')['total_orders'].mean().reset_index()\n",
    "\n",
    "# Rename columns for easier understanding\n",
    "age_group_behavior.columns = ['Age Group', 'Average Order Count']"
   ]
  },
  {
   "cell_type": "code",
   "execution_count": 47,
   "id": "171701de",
   "metadata": {},
   "outputs": [
    {
     "data": {
      "application/vnd.plotly.v1+json": {
       "config": {
        "plotlyServerURL": "https://plot.ly"
       },
       "data": [
        {
         "alignmentgroup": "True",
         "hovertemplate": "Age Group=%{x}<br>Average Order Count=%{y}<extra></extra>",
         "legendgroup": "",
         "marker": {
          "color": "#636efa",
          "pattern": {
           "shape": ""
          }
         },
         "name": "",
         "offsetgroup": "",
         "orientation": "v",
         "showlegend": false,
         "textposition": "auto",
         "type": "bar",
         "x": [
          "18-25",
          "26-35",
          "36-50"
         ],
         "xaxis": "x",
         "y": [
          7,
          8.8,
          14.5
         ],
         "yaxis": "y"
        }
       ],
       "layout": {
        "barmode": "relative",
        "legend": {
         "tracegroupgap": 0
        },
        "plot_bgcolor": "white",
        "template": {
         "data": {
          "bar": [
           {
            "error_x": {
             "color": "#2a3f5f"
            },
            "error_y": {
             "color": "#2a3f5f"
            },
            "marker": {
             "line": {
              "color": "#E5ECF6",
              "width": 0.5
             },
             "pattern": {
              "fillmode": "overlay",
              "size": 10,
              "solidity": 0.2
             }
            },
            "type": "bar"
           }
          ],
          "barpolar": [
           {
            "marker": {
             "line": {
              "color": "#E5ECF6",
              "width": 0.5
             },
             "pattern": {
              "fillmode": "overlay",
              "size": 10,
              "solidity": 0.2
             }
            },
            "type": "barpolar"
           }
          ],
          "carpet": [
           {
            "aaxis": {
             "endlinecolor": "#2a3f5f",
             "gridcolor": "white",
             "linecolor": "white",
             "minorgridcolor": "white",
             "startlinecolor": "#2a3f5f"
            },
            "baxis": {
             "endlinecolor": "#2a3f5f",
             "gridcolor": "white",
             "linecolor": "white",
             "minorgridcolor": "white",
             "startlinecolor": "#2a3f5f"
            },
            "type": "carpet"
           }
          ],
          "choropleth": [
           {
            "colorbar": {
             "outlinewidth": 0,
             "ticks": ""
            },
            "type": "choropleth"
           }
          ],
          "contour": [
           {
            "colorbar": {
             "outlinewidth": 0,
             "ticks": ""
            },
            "colorscale": [
             [
              0,
              "#0d0887"
             ],
             [
              0.1111111111111111,
              "#46039f"
             ],
             [
              0.2222222222222222,
              "#7201a8"
             ],
             [
              0.3333333333333333,
              "#9c179e"
             ],
             [
              0.4444444444444444,
              "#bd3786"
             ],
             [
              0.5555555555555556,
              "#d8576b"
             ],
             [
              0.6666666666666666,
              "#ed7953"
             ],
             [
              0.7777777777777778,
              "#fb9f3a"
             ],
             [
              0.8888888888888888,
              "#fdca26"
             ],
             [
              1,
              "#f0f921"
             ]
            ],
            "type": "contour"
           }
          ],
          "contourcarpet": [
           {
            "colorbar": {
             "outlinewidth": 0,
             "ticks": ""
            },
            "type": "contourcarpet"
           }
          ],
          "heatmap": [
           {
            "colorbar": {
             "outlinewidth": 0,
             "ticks": ""
            },
            "colorscale": [
             [
              0,
              "#0d0887"
             ],
             [
              0.1111111111111111,
              "#46039f"
             ],
             [
              0.2222222222222222,
              "#7201a8"
             ],
             [
              0.3333333333333333,
              "#9c179e"
             ],
             [
              0.4444444444444444,
              "#bd3786"
             ],
             [
              0.5555555555555556,
              "#d8576b"
             ],
             [
              0.6666666666666666,
              "#ed7953"
             ],
             [
              0.7777777777777778,
              "#fb9f3a"
             ],
             [
              0.8888888888888888,
              "#fdca26"
             ],
             [
              1,
              "#f0f921"
             ]
            ],
            "type": "heatmap"
           }
          ],
          "heatmapgl": [
           {
            "colorbar": {
             "outlinewidth": 0,
             "ticks": ""
            },
            "colorscale": [
             [
              0,
              "#0d0887"
             ],
             [
              0.1111111111111111,
              "#46039f"
             ],
             [
              0.2222222222222222,
              "#7201a8"
             ],
             [
              0.3333333333333333,
              "#9c179e"
             ],
             [
              0.4444444444444444,
              "#bd3786"
             ],
             [
              0.5555555555555556,
              "#d8576b"
             ],
             [
              0.6666666666666666,
              "#ed7953"
             ],
             [
              0.7777777777777778,
              "#fb9f3a"
             ],
             [
              0.8888888888888888,
              "#fdca26"
             ],
             [
              1,
              "#f0f921"
             ]
            ],
            "type": "heatmapgl"
           }
          ],
          "histogram": [
           {
            "marker": {
             "pattern": {
              "fillmode": "overlay",
              "size": 10,
              "solidity": 0.2
             }
            },
            "type": "histogram"
           }
          ],
          "histogram2d": [
           {
            "colorbar": {
             "outlinewidth": 0,
             "ticks": ""
            },
            "colorscale": [
             [
              0,
              "#0d0887"
             ],
             [
              0.1111111111111111,
              "#46039f"
             ],
             [
              0.2222222222222222,
              "#7201a8"
             ],
             [
              0.3333333333333333,
              "#9c179e"
             ],
             [
              0.4444444444444444,
              "#bd3786"
             ],
             [
              0.5555555555555556,
              "#d8576b"
             ],
             [
              0.6666666666666666,
              "#ed7953"
             ],
             [
              0.7777777777777778,
              "#fb9f3a"
             ],
             [
              0.8888888888888888,
              "#fdca26"
             ],
             [
              1,
              "#f0f921"
             ]
            ],
            "type": "histogram2d"
           }
          ],
          "histogram2dcontour": [
           {
            "colorbar": {
             "outlinewidth": 0,
             "ticks": ""
            },
            "colorscale": [
             [
              0,
              "#0d0887"
             ],
             [
              0.1111111111111111,
              "#46039f"
             ],
             [
              0.2222222222222222,
              "#7201a8"
             ],
             [
              0.3333333333333333,
              "#9c179e"
             ],
             [
              0.4444444444444444,
              "#bd3786"
             ],
             [
              0.5555555555555556,
              "#d8576b"
             ],
             [
              0.6666666666666666,
              "#ed7953"
             ],
             [
              0.7777777777777778,
              "#fb9f3a"
             ],
             [
              0.8888888888888888,
              "#fdca26"
             ],
             [
              1,
              "#f0f921"
             ]
            ],
            "type": "histogram2dcontour"
           }
          ],
          "mesh3d": [
           {
            "colorbar": {
             "outlinewidth": 0,
             "ticks": ""
            },
            "type": "mesh3d"
           }
          ],
          "parcoords": [
           {
            "line": {
             "colorbar": {
              "outlinewidth": 0,
              "ticks": ""
             }
            },
            "type": "parcoords"
           }
          ],
          "pie": [
           {
            "automargin": true,
            "type": "pie"
           }
          ],
          "scatter": [
           {
            "fillpattern": {
             "fillmode": "overlay",
             "size": 10,
             "solidity": 0.2
            },
            "type": "scatter"
           }
          ],
          "scatter3d": [
           {
            "line": {
             "colorbar": {
              "outlinewidth": 0,
              "ticks": ""
             }
            },
            "marker": {
             "colorbar": {
              "outlinewidth": 0,
              "ticks": ""
             }
            },
            "type": "scatter3d"
           }
          ],
          "scattercarpet": [
           {
            "marker": {
             "colorbar": {
              "outlinewidth": 0,
              "ticks": ""
             }
            },
            "type": "scattercarpet"
           }
          ],
          "scattergeo": [
           {
            "marker": {
             "colorbar": {
              "outlinewidth": 0,
              "ticks": ""
             }
            },
            "type": "scattergeo"
           }
          ],
          "scattergl": [
           {
            "marker": {
             "colorbar": {
              "outlinewidth": 0,
              "ticks": ""
             }
            },
            "type": "scattergl"
           }
          ],
          "scattermapbox": [
           {
            "marker": {
             "colorbar": {
              "outlinewidth": 0,
              "ticks": ""
             }
            },
            "type": "scattermapbox"
           }
          ],
          "scatterpolar": [
           {
            "marker": {
             "colorbar": {
              "outlinewidth": 0,
              "ticks": ""
             }
            },
            "type": "scatterpolar"
           }
          ],
          "scatterpolargl": [
           {
            "marker": {
             "colorbar": {
              "outlinewidth": 0,
              "ticks": ""
             }
            },
            "type": "scatterpolargl"
           }
          ],
          "scatterternary": [
           {
            "marker": {
             "colorbar": {
              "outlinewidth": 0,
              "ticks": ""
             }
            },
            "type": "scatterternary"
           }
          ],
          "surface": [
           {
            "colorbar": {
             "outlinewidth": 0,
             "ticks": ""
            },
            "colorscale": [
             [
              0,
              "#0d0887"
             ],
             [
              0.1111111111111111,
              "#46039f"
             ],
             [
              0.2222222222222222,
              "#7201a8"
             ],
             [
              0.3333333333333333,
              "#9c179e"
             ],
             [
              0.4444444444444444,
              "#bd3786"
             ],
             [
              0.5555555555555556,
              "#d8576b"
             ],
             [
              0.6666666666666666,
              "#ed7953"
             ],
             [
              0.7777777777777778,
              "#fb9f3a"
             ],
             [
              0.8888888888888888,
              "#fdca26"
             ],
             [
              1,
              "#f0f921"
             ]
            ],
            "type": "surface"
           }
          ],
          "table": [
           {
            "cells": {
             "fill": {
              "color": "#EBF0F8"
             },
             "line": {
              "color": "white"
             }
            },
            "header": {
             "fill": {
              "color": "#C8D4E3"
             },
             "line": {
              "color": "white"
             }
            },
            "type": "table"
           }
          ]
         },
         "layout": {
          "annotationdefaults": {
           "arrowcolor": "#2a3f5f",
           "arrowhead": 0,
           "arrowwidth": 1
          },
          "autotypenumbers": "strict",
          "coloraxis": {
           "colorbar": {
            "outlinewidth": 0,
            "ticks": ""
           }
          },
          "colorscale": {
           "diverging": [
            [
             0,
             "#8e0152"
            ],
            [
             0.1,
             "#c51b7d"
            ],
            [
             0.2,
             "#de77ae"
            ],
            [
             0.3,
             "#f1b6da"
            ],
            [
             0.4,
             "#fde0ef"
            ],
            [
             0.5,
             "#f7f7f7"
            ],
            [
             0.6,
             "#e6f5d0"
            ],
            [
             0.7,
             "#b8e186"
            ],
            [
             0.8,
             "#7fbc41"
            ],
            [
             0.9,
             "#4d9221"
            ],
            [
             1,
             "#276419"
            ]
           ],
           "sequential": [
            [
             0,
             "#0d0887"
            ],
            [
             0.1111111111111111,
             "#46039f"
            ],
            [
             0.2222222222222222,
             "#7201a8"
            ],
            [
             0.3333333333333333,
             "#9c179e"
            ],
            [
             0.4444444444444444,
             "#bd3786"
            ],
            [
             0.5555555555555556,
             "#d8576b"
            ],
            [
             0.6666666666666666,
             "#ed7953"
            ],
            [
             0.7777777777777778,
             "#fb9f3a"
            ],
            [
             0.8888888888888888,
             "#fdca26"
            ],
            [
             1,
             "#f0f921"
            ]
           ],
           "sequentialminus": [
            [
             0,
             "#0d0887"
            ],
            [
             0.1111111111111111,
             "#46039f"
            ],
            [
             0.2222222222222222,
             "#7201a8"
            ],
            [
             0.3333333333333333,
             "#9c179e"
            ],
            [
             0.4444444444444444,
             "#bd3786"
            ],
            [
             0.5555555555555556,
             "#d8576b"
            ],
            [
             0.6666666666666666,
             "#ed7953"
            ],
            [
             0.7777777777777778,
             "#fb9f3a"
            ],
            [
             0.8888888888888888,
             "#fdca26"
            ],
            [
             1,
             "#f0f921"
            ]
           ]
          },
          "colorway": [
           "#636efa",
           "#EF553B",
           "#00cc96",
           "#ab63fa",
           "#FFA15A",
           "#19d3f3",
           "#FF6692",
           "#B6E880",
           "#FF97FF",
           "#FECB52"
          ],
          "font": {
           "color": "#2a3f5f"
          },
          "geo": {
           "bgcolor": "white",
           "lakecolor": "white",
           "landcolor": "#E5ECF6",
           "showlakes": true,
           "showland": true,
           "subunitcolor": "white"
          },
          "hoverlabel": {
           "align": "left"
          },
          "hovermode": "closest",
          "mapbox": {
           "style": "light"
          },
          "paper_bgcolor": "white",
          "plot_bgcolor": "#E5ECF6",
          "polar": {
           "angularaxis": {
            "gridcolor": "white",
            "linecolor": "white",
            "ticks": ""
           },
           "bgcolor": "#E5ECF6",
           "radialaxis": {
            "gridcolor": "white",
            "linecolor": "white",
            "ticks": ""
           }
          },
          "scene": {
           "xaxis": {
            "backgroundcolor": "#E5ECF6",
            "gridcolor": "white",
            "gridwidth": 2,
            "linecolor": "white",
            "showbackground": true,
            "ticks": "",
            "zerolinecolor": "white"
           },
           "yaxis": {
            "backgroundcolor": "#E5ECF6",
            "gridcolor": "white",
            "gridwidth": 2,
            "linecolor": "white",
            "showbackground": true,
            "ticks": "",
            "zerolinecolor": "white"
           },
           "zaxis": {
            "backgroundcolor": "#E5ECF6",
            "gridcolor": "white",
            "gridwidth": 2,
            "linecolor": "white",
            "showbackground": true,
            "ticks": "",
            "zerolinecolor": "white"
           }
          },
          "shapedefaults": {
           "line": {
            "color": "#2a3f5f"
           }
          },
          "ternary": {
           "aaxis": {
            "gridcolor": "white",
            "linecolor": "white",
            "ticks": ""
           },
           "baxis": {
            "gridcolor": "white",
            "linecolor": "white",
            "ticks": ""
           },
           "bgcolor": "#E5ECF6",
           "caxis": {
            "gridcolor": "white",
            "linecolor": "white",
            "ticks": ""
           }
          },
          "title": {
           "x": 0.05
          },
          "xaxis": {
           "automargin": true,
           "gridcolor": "white",
           "linecolor": "white",
           "ticks": "",
           "title": {
            "standoff": 15
           },
           "zerolinecolor": "white",
           "zerolinewidth": 2
          },
          "yaxis": {
           "automargin": true,
           "gridcolor": "white",
           "linecolor": "white",
           "ticks": "",
           "title": {
            "standoff": 15
           },
           "zerolinecolor": "white",
           "zerolinewidth": 2
          }
         }
        },
        "title": {
         "text": "Average Order Count by Age Group"
        },
        "xaxis": {
         "anchor": "y",
         "domain": [
          0,
          1
         ],
         "title": {
          "text": "Age Group"
         }
        },
        "yaxis": {
         "anchor": "x",
         "domain": [
          0,
          1
         ],
         "title": {
          "text": "Average Order Count"
         }
        }
       }
      },
      "text/html": [
       "<div>                            <div id=\"547d3305-b227-4d1a-a277-5cce9e648927\" class=\"plotly-graph-div\" style=\"height:525px; width:100%;\"></div>            <script type=\"text/javascript\">                require([\"plotly\"], function(Plotly) {                    window.PLOTLYENV=window.PLOTLYENV || {};                                    if (document.getElementById(\"547d3305-b227-4d1a-a277-5cce9e648927\")) {                    Plotly.newPlot(                        \"547d3305-b227-4d1a-a277-5cce9e648927\",                        [{\"alignmentgroup\":\"True\",\"hovertemplate\":\"Age Group=%{x}<br>Average Order Count=%{y}<extra></extra>\",\"legendgroup\":\"\",\"marker\":{\"color\":\"#636efa\",\"pattern\":{\"shape\":\"\"}},\"name\":\"\",\"offsetgroup\":\"\",\"orientation\":\"v\",\"showlegend\":false,\"textposition\":\"auto\",\"x\":[\"18-25\",\"26-35\",\"36-50\"],\"xaxis\":\"x\",\"y\":[7.0,8.8,14.5],\"yaxis\":\"y\",\"type\":\"bar\"}],                        {\"template\":{\"data\":{\"histogram2dcontour\":[{\"type\":\"histogram2dcontour\",\"colorbar\":{\"outlinewidth\":0,\"ticks\":\"\"},\"colorscale\":[[0.0,\"#0d0887\"],[0.1111111111111111,\"#46039f\"],[0.2222222222222222,\"#7201a8\"],[0.3333333333333333,\"#9c179e\"],[0.4444444444444444,\"#bd3786\"],[0.5555555555555556,\"#d8576b\"],[0.6666666666666666,\"#ed7953\"],[0.7777777777777778,\"#fb9f3a\"],[0.8888888888888888,\"#fdca26\"],[1.0,\"#f0f921\"]]}],\"choropleth\":[{\"type\":\"choropleth\",\"colorbar\":{\"outlinewidth\":0,\"ticks\":\"\"}}],\"histogram2d\":[{\"type\":\"histogram2d\",\"colorbar\":{\"outlinewidth\":0,\"ticks\":\"\"},\"colorscale\":[[0.0,\"#0d0887\"],[0.1111111111111111,\"#46039f\"],[0.2222222222222222,\"#7201a8\"],[0.3333333333333333,\"#9c179e\"],[0.4444444444444444,\"#bd3786\"],[0.5555555555555556,\"#d8576b\"],[0.6666666666666666,\"#ed7953\"],[0.7777777777777778,\"#fb9f3a\"],[0.8888888888888888,\"#fdca26\"],[1.0,\"#f0f921\"]]}],\"heatmap\":[{\"type\":\"heatmap\",\"colorbar\":{\"outlinewidth\":0,\"ticks\":\"\"},\"colorscale\":[[0.0,\"#0d0887\"],[0.1111111111111111,\"#46039f\"],[0.2222222222222222,\"#7201a8\"],[0.3333333333333333,\"#9c179e\"],[0.4444444444444444,\"#bd3786\"],[0.5555555555555556,\"#d8576b\"],[0.6666666666666666,\"#ed7953\"],[0.7777777777777778,\"#fb9f3a\"],[0.8888888888888888,\"#fdca26\"],[1.0,\"#f0f921\"]]}],\"heatmapgl\":[{\"type\":\"heatmapgl\",\"colorbar\":{\"outlinewidth\":0,\"ticks\":\"\"},\"colorscale\":[[0.0,\"#0d0887\"],[0.1111111111111111,\"#46039f\"],[0.2222222222222222,\"#7201a8\"],[0.3333333333333333,\"#9c179e\"],[0.4444444444444444,\"#bd3786\"],[0.5555555555555556,\"#d8576b\"],[0.6666666666666666,\"#ed7953\"],[0.7777777777777778,\"#fb9f3a\"],[0.8888888888888888,\"#fdca26\"],[1.0,\"#f0f921\"]]}],\"contourcarpet\":[{\"type\":\"contourcarpet\",\"colorbar\":{\"outlinewidth\":0,\"ticks\":\"\"}}],\"contour\":[{\"type\":\"contour\",\"colorbar\":{\"outlinewidth\":0,\"ticks\":\"\"},\"colorscale\":[[0.0,\"#0d0887\"],[0.1111111111111111,\"#46039f\"],[0.2222222222222222,\"#7201a8\"],[0.3333333333333333,\"#9c179e\"],[0.4444444444444444,\"#bd3786\"],[0.5555555555555556,\"#d8576b\"],[0.6666666666666666,\"#ed7953\"],[0.7777777777777778,\"#fb9f3a\"],[0.8888888888888888,\"#fdca26\"],[1.0,\"#f0f921\"]]}],\"surface\":[{\"type\":\"surface\",\"colorbar\":{\"outlinewidth\":0,\"ticks\":\"\"},\"colorscale\":[[0.0,\"#0d0887\"],[0.1111111111111111,\"#46039f\"],[0.2222222222222222,\"#7201a8\"],[0.3333333333333333,\"#9c179e\"],[0.4444444444444444,\"#bd3786\"],[0.5555555555555556,\"#d8576b\"],[0.6666666666666666,\"#ed7953\"],[0.7777777777777778,\"#fb9f3a\"],[0.8888888888888888,\"#fdca26\"],[1.0,\"#f0f921\"]]}],\"mesh3d\":[{\"type\":\"mesh3d\",\"colorbar\":{\"outlinewidth\":0,\"ticks\":\"\"}}],\"scatter\":[{\"fillpattern\":{\"fillmode\":\"overlay\",\"size\":10,\"solidity\":0.2},\"type\":\"scatter\"}],\"parcoords\":[{\"type\":\"parcoords\",\"line\":{\"colorbar\":{\"outlinewidth\":0,\"ticks\":\"\"}}}],\"scatterpolargl\":[{\"type\":\"scatterpolargl\",\"marker\":{\"colorbar\":{\"outlinewidth\":0,\"ticks\":\"\"}}}],\"bar\":[{\"error_x\":{\"color\":\"#2a3f5f\"},\"error_y\":{\"color\":\"#2a3f5f\"},\"marker\":{\"line\":{\"color\":\"#E5ECF6\",\"width\":0.5},\"pattern\":{\"fillmode\":\"overlay\",\"size\":10,\"solidity\":0.2}},\"type\":\"bar\"}],\"scattergeo\":[{\"type\":\"scattergeo\",\"marker\":{\"colorbar\":{\"outlinewidth\":0,\"ticks\":\"\"}}}],\"scatterpolar\":[{\"type\":\"scatterpolar\",\"marker\":{\"colorbar\":{\"outlinewidth\":0,\"ticks\":\"\"}}}],\"histogram\":[{\"marker\":{\"pattern\":{\"fillmode\":\"overlay\",\"size\":10,\"solidity\":0.2}},\"type\":\"histogram\"}],\"scattergl\":[{\"type\":\"scattergl\",\"marker\":{\"colorbar\":{\"outlinewidth\":0,\"ticks\":\"\"}}}],\"scatter3d\":[{\"type\":\"scatter3d\",\"line\":{\"colorbar\":{\"outlinewidth\":0,\"ticks\":\"\"}},\"marker\":{\"colorbar\":{\"outlinewidth\":0,\"ticks\":\"\"}}}],\"scattermapbox\":[{\"type\":\"scattermapbox\",\"marker\":{\"colorbar\":{\"outlinewidth\":0,\"ticks\":\"\"}}}],\"scatterternary\":[{\"type\":\"scatterternary\",\"marker\":{\"colorbar\":{\"outlinewidth\":0,\"ticks\":\"\"}}}],\"scattercarpet\":[{\"type\":\"scattercarpet\",\"marker\":{\"colorbar\":{\"outlinewidth\":0,\"ticks\":\"\"}}}],\"carpet\":[{\"aaxis\":{\"endlinecolor\":\"#2a3f5f\",\"gridcolor\":\"white\",\"linecolor\":\"white\",\"minorgridcolor\":\"white\",\"startlinecolor\":\"#2a3f5f\"},\"baxis\":{\"endlinecolor\":\"#2a3f5f\",\"gridcolor\":\"white\",\"linecolor\":\"white\",\"minorgridcolor\":\"white\",\"startlinecolor\":\"#2a3f5f\"},\"type\":\"carpet\"}],\"table\":[{\"cells\":{\"fill\":{\"color\":\"#EBF0F8\"},\"line\":{\"color\":\"white\"}},\"header\":{\"fill\":{\"color\":\"#C8D4E3\"},\"line\":{\"color\":\"white\"}},\"type\":\"table\"}],\"barpolar\":[{\"marker\":{\"line\":{\"color\":\"#E5ECF6\",\"width\":0.5},\"pattern\":{\"fillmode\":\"overlay\",\"size\":10,\"solidity\":0.2}},\"type\":\"barpolar\"}],\"pie\":[{\"automargin\":true,\"type\":\"pie\"}]},\"layout\":{\"autotypenumbers\":\"strict\",\"colorway\":[\"#636efa\",\"#EF553B\",\"#00cc96\",\"#ab63fa\",\"#FFA15A\",\"#19d3f3\",\"#FF6692\",\"#B6E880\",\"#FF97FF\",\"#FECB52\"],\"font\":{\"color\":\"#2a3f5f\"},\"hovermode\":\"closest\",\"hoverlabel\":{\"align\":\"left\"},\"paper_bgcolor\":\"white\",\"plot_bgcolor\":\"#E5ECF6\",\"polar\":{\"bgcolor\":\"#E5ECF6\",\"angularaxis\":{\"gridcolor\":\"white\",\"linecolor\":\"white\",\"ticks\":\"\"},\"radialaxis\":{\"gridcolor\":\"white\",\"linecolor\":\"white\",\"ticks\":\"\"}},\"ternary\":{\"bgcolor\":\"#E5ECF6\",\"aaxis\":{\"gridcolor\":\"white\",\"linecolor\":\"white\",\"ticks\":\"\"},\"baxis\":{\"gridcolor\":\"white\",\"linecolor\":\"white\",\"ticks\":\"\"},\"caxis\":{\"gridcolor\":\"white\",\"linecolor\":\"white\",\"ticks\":\"\"}},\"coloraxis\":{\"colorbar\":{\"outlinewidth\":0,\"ticks\":\"\"}},\"colorscale\":{\"sequential\":[[0.0,\"#0d0887\"],[0.1111111111111111,\"#46039f\"],[0.2222222222222222,\"#7201a8\"],[0.3333333333333333,\"#9c179e\"],[0.4444444444444444,\"#bd3786\"],[0.5555555555555556,\"#d8576b\"],[0.6666666666666666,\"#ed7953\"],[0.7777777777777778,\"#fb9f3a\"],[0.8888888888888888,\"#fdca26\"],[1.0,\"#f0f921\"]],\"sequentialminus\":[[0.0,\"#0d0887\"],[0.1111111111111111,\"#46039f\"],[0.2222222222222222,\"#7201a8\"],[0.3333333333333333,\"#9c179e\"],[0.4444444444444444,\"#bd3786\"],[0.5555555555555556,\"#d8576b\"],[0.6666666666666666,\"#ed7953\"],[0.7777777777777778,\"#fb9f3a\"],[0.8888888888888888,\"#fdca26\"],[1.0,\"#f0f921\"]],\"diverging\":[[0,\"#8e0152\"],[0.1,\"#c51b7d\"],[0.2,\"#de77ae\"],[0.3,\"#f1b6da\"],[0.4,\"#fde0ef\"],[0.5,\"#f7f7f7\"],[0.6,\"#e6f5d0\"],[0.7,\"#b8e186\"],[0.8,\"#7fbc41\"],[0.9,\"#4d9221\"],[1,\"#276419\"]]},\"xaxis\":{\"gridcolor\":\"white\",\"linecolor\":\"white\",\"ticks\":\"\",\"title\":{\"standoff\":15},\"zerolinecolor\":\"white\",\"automargin\":true,\"zerolinewidth\":2},\"yaxis\":{\"gridcolor\":\"white\",\"linecolor\":\"white\",\"ticks\":\"\",\"title\":{\"standoff\":15},\"zerolinecolor\":\"white\",\"automargin\":true,\"zerolinewidth\":2},\"scene\":{\"xaxis\":{\"backgroundcolor\":\"#E5ECF6\",\"gridcolor\":\"white\",\"linecolor\":\"white\",\"showbackground\":true,\"ticks\":\"\",\"zerolinecolor\":\"white\",\"gridwidth\":2},\"yaxis\":{\"backgroundcolor\":\"#E5ECF6\",\"gridcolor\":\"white\",\"linecolor\":\"white\",\"showbackground\":true,\"ticks\":\"\",\"zerolinecolor\":\"white\",\"gridwidth\":2},\"zaxis\":{\"backgroundcolor\":\"#E5ECF6\",\"gridcolor\":\"white\",\"linecolor\":\"white\",\"showbackground\":true,\"ticks\":\"\",\"zerolinecolor\":\"white\",\"gridwidth\":2}},\"shapedefaults\":{\"line\":{\"color\":\"#2a3f5f\"}},\"annotationdefaults\":{\"arrowcolor\":\"#2a3f5f\",\"arrowhead\":0,\"arrowwidth\":1},\"geo\":{\"bgcolor\":\"white\",\"landcolor\":\"#E5ECF6\",\"subunitcolor\":\"white\",\"showland\":true,\"showlakes\":true,\"lakecolor\":\"white\"},\"title\":{\"x\":0.05},\"mapbox\":{\"style\":\"light\"}}},\"xaxis\":{\"anchor\":\"y\",\"domain\":[0.0,1.0],\"title\":{\"text\":\"Age Group\"}},\"yaxis\":{\"anchor\":\"x\",\"domain\":[0.0,1.0],\"title\":{\"text\":\"Average Order Count\"}},\"legend\":{\"tracegroupgap\":0},\"title\":{\"text\":\"Average Order Count by Age Group\"},\"barmode\":\"relative\",\"plot_bgcolor\":\"white\"},                        {\"responsive\": true}                    ).then(function(){\n",
       "                            \n",
       "var gd = document.getElementById('547d3305-b227-4d1a-a277-5cce9e648927');\n",
       "var x = new MutationObserver(function (mutations, observer) {{\n",
       "        var display = window.getComputedStyle(gd).display;\n",
       "        if (!display || display === 'none') {{\n",
       "            console.log([gd, 'removed!']);\n",
       "            Plotly.purge(gd);\n",
       "            observer.disconnect();\n",
       "        }}\n",
       "}});\n",
       "\n",
       "// Listen for the removal of the full notebook cells\n",
       "var notebookContainer = gd.closest('#notebook-container');\n",
       "if (notebookContainer) {{\n",
       "    x.observe(notebookContainer, {childList: true});\n",
       "}}\n",
       "\n",
       "// Listen for the clearing of the current output cell\n",
       "var outputEl = gd.closest('.output');\n",
       "if (outputEl) {{\n",
       "    x.observe(outputEl, {childList: true});\n",
       "}}\n",
       "\n",
       "                        })                };                });            </script>        </div>"
      ]
     },
     "metadata": {},
     "output_type": "display_data"
    }
   ],
   "source": [
    "# Define age groups\n",
    "bins = [0, 25, 35, 50]\n",
    "labels = ['18-25', '26-35', '36-50']\n",
    "final_data['age_group'] = pd.cut(final_data['age'], bins=bins, labels=labels, right=True)\n",
    "\n",
    "# Group by age group and calculate the average order count\n",
    "age_group_behavior = final_data.groupby('age_group')['total_orders'].mean().reset_index()\n",
    "\n",
    "# Rename columns for readability\n",
    "age_group_behavior.columns = ['Age Group', 'Average Order Count']\n",
    "\n",
    "# Create an interactive bar chart\n",
    "import plotly.express as px\n",
    "\n",
    "fig = px.bar(\n",
    "    age_group_behavior, \n",
    "    x='Age Group', \n",
    "    y='Average Order Count', \n",
    "    title='Average Order Count by Age Group',\n",
    "    labels={'Age Group': 'Age Group', 'Average Order Count': 'Average Order Count'}\n",
    ")\n",
    "\n",
    "fig.update_layout(\n",
    "    xaxis_title='Age Group',\n",
    "    yaxis_title='Average Order Count',\n",
    "    plot_bgcolor='white',\n",
    ")\n",
    "fig.show()\n"
   ]
  },
  {
   "cell_type": "code",
   "execution_count": 49,
   "id": "a870fc9f",
   "metadata": {},
   "outputs": [
    {
     "name": "stdout",
     "output_type": "stream",
     "text": [
      "  session_id user_id        dish_name  meal_type       session_start  \\\n",
      "0       S001    U001        Spaghetti     Dinner 2024-12-01 19:00:00   \n",
      "1       S002    U002     Caesar Salad      Lunch 2024-12-01 12:00:00   \n",
      "2       S003    U003  Grilled Chicken     Dinner 2024-12-02 19:30:00   \n",
      "3       S004    U001         Pancakes  Breakfast 2024-12-02 07:30:00   \n",
      "4       S005    U004     Caesar Salad      Lunch 2024-12-03 13:00:00   \n",
      "\n",
      "          session_end  duration_(mins)  session_rating  age  \n",
      "0 2024-12-01 19:30:00               30             4.5   28  \n",
      "1 2024-12-01 12:20:00               20             4.0   35  \n",
      "2 2024-12-02 20:10:00               40             4.8   42  \n",
      "3 2024-12-02 08:00:00               30             4.2   28  \n",
      "4 2024-12-03 13:15:00               15             4.7   27  \n"
     ]
    }
   ],
   "source": [
    "# Merge the cooking_sessions DataFrame with the user_details DataFrame on 'user_id'\n",
    "merged_df = pd.merge(cooking_sessions, user_details[['user_id', 'age']], on='user_id', how='left')\n",
    "\n",
    "# Check the merged DataFrame\n",
    "print(merged_df.head())"
   ]
  },
  {
   "cell_type": "code",
   "execution_count": 50,
   "id": "1e26c96e",
   "metadata": {},
   "outputs": [
    {
     "name": "stdout",
     "output_type": "stream",
     "text": [
      "   Age Group  Cooking Sessions\n",
      "0         25                 1\n",
      "1         27                 2\n",
      "2         28                 3\n",
      "3         30                 2\n",
      "4         31                 1\n",
      "5         35                 3\n",
      "6         38                 1\n",
      "7         42                 3\n"
     ]
    }
   ],
   "source": [
    "# Group by age group and count the unique session_id\n",
    "cooking_session_trends = merged_df.groupby('age')['session_id'].nunique().reset_index()\n",
    "\n",
    "# Rename columns for clarity\n",
    "cooking_session_trends.columns = ['Age Group', 'Cooking Sessions']\n",
    "\n",
    "# Check the grouped data\n",
    "print(cooking_session_trends)"
   ]
  },
  {
   "cell_type": "code",
   "execution_count": 52,
   "id": "3f5172c6",
   "metadata": {},
   "outputs": [
    {
     "data": {
      "application/vnd.plotly.v1+json": {
       "config": {
        "plotlyServerURL": "https://plot.ly"
       },
       "data": [
        {
         "hovertemplate": "Age Group=%{x}<br>Number of Cooking Sessions=%{y}<extra></extra>",
         "legendgroup": "",
         "line": {
          "color": "#636efa",
          "dash": "solid"
         },
         "marker": {
          "symbol": "circle"
         },
         "mode": "lines+markers",
         "name": "",
         "orientation": "v",
         "showlegend": false,
         "type": "scatter",
         "x": [
          25,
          27,
          28,
          30,
          31,
          35,
          38,
          42
         ],
         "xaxis": "x",
         "y": [
          1,
          2,
          3,
          2,
          1,
          3,
          1,
          3
         ],
         "yaxis": "y"
        }
       ],
       "layout": {
        "legend": {
         "tracegroupgap": 0
        },
        "plot_bgcolor": "white",
        "template": {
         "data": {
          "bar": [
           {
            "error_x": {
             "color": "#2a3f5f"
            },
            "error_y": {
             "color": "#2a3f5f"
            },
            "marker": {
             "line": {
              "color": "#E5ECF6",
              "width": 0.5
             },
             "pattern": {
              "fillmode": "overlay",
              "size": 10,
              "solidity": 0.2
             }
            },
            "type": "bar"
           }
          ],
          "barpolar": [
           {
            "marker": {
             "line": {
              "color": "#E5ECF6",
              "width": 0.5
             },
             "pattern": {
              "fillmode": "overlay",
              "size": 10,
              "solidity": 0.2
             }
            },
            "type": "barpolar"
           }
          ],
          "carpet": [
           {
            "aaxis": {
             "endlinecolor": "#2a3f5f",
             "gridcolor": "white",
             "linecolor": "white",
             "minorgridcolor": "white",
             "startlinecolor": "#2a3f5f"
            },
            "baxis": {
             "endlinecolor": "#2a3f5f",
             "gridcolor": "white",
             "linecolor": "white",
             "minorgridcolor": "white",
             "startlinecolor": "#2a3f5f"
            },
            "type": "carpet"
           }
          ],
          "choropleth": [
           {
            "colorbar": {
             "outlinewidth": 0,
             "ticks": ""
            },
            "type": "choropleth"
           }
          ],
          "contour": [
           {
            "colorbar": {
             "outlinewidth": 0,
             "ticks": ""
            },
            "colorscale": [
             [
              0,
              "#0d0887"
             ],
             [
              0.1111111111111111,
              "#46039f"
             ],
             [
              0.2222222222222222,
              "#7201a8"
             ],
             [
              0.3333333333333333,
              "#9c179e"
             ],
             [
              0.4444444444444444,
              "#bd3786"
             ],
             [
              0.5555555555555556,
              "#d8576b"
             ],
             [
              0.6666666666666666,
              "#ed7953"
             ],
             [
              0.7777777777777778,
              "#fb9f3a"
             ],
             [
              0.8888888888888888,
              "#fdca26"
             ],
             [
              1,
              "#f0f921"
             ]
            ],
            "type": "contour"
           }
          ],
          "contourcarpet": [
           {
            "colorbar": {
             "outlinewidth": 0,
             "ticks": ""
            },
            "type": "contourcarpet"
           }
          ],
          "heatmap": [
           {
            "colorbar": {
             "outlinewidth": 0,
             "ticks": ""
            },
            "colorscale": [
             [
              0,
              "#0d0887"
             ],
             [
              0.1111111111111111,
              "#46039f"
             ],
             [
              0.2222222222222222,
              "#7201a8"
             ],
             [
              0.3333333333333333,
              "#9c179e"
             ],
             [
              0.4444444444444444,
              "#bd3786"
             ],
             [
              0.5555555555555556,
              "#d8576b"
             ],
             [
              0.6666666666666666,
              "#ed7953"
             ],
             [
              0.7777777777777778,
              "#fb9f3a"
             ],
             [
              0.8888888888888888,
              "#fdca26"
             ],
             [
              1,
              "#f0f921"
             ]
            ],
            "type": "heatmap"
           }
          ],
          "heatmapgl": [
           {
            "colorbar": {
             "outlinewidth": 0,
             "ticks": ""
            },
            "colorscale": [
             [
              0,
              "#0d0887"
             ],
             [
              0.1111111111111111,
              "#46039f"
             ],
             [
              0.2222222222222222,
              "#7201a8"
             ],
             [
              0.3333333333333333,
              "#9c179e"
             ],
             [
              0.4444444444444444,
              "#bd3786"
             ],
             [
              0.5555555555555556,
              "#d8576b"
             ],
             [
              0.6666666666666666,
              "#ed7953"
             ],
             [
              0.7777777777777778,
              "#fb9f3a"
             ],
             [
              0.8888888888888888,
              "#fdca26"
             ],
             [
              1,
              "#f0f921"
             ]
            ],
            "type": "heatmapgl"
           }
          ],
          "histogram": [
           {
            "marker": {
             "pattern": {
              "fillmode": "overlay",
              "size": 10,
              "solidity": 0.2
             }
            },
            "type": "histogram"
           }
          ],
          "histogram2d": [
           {
            "colorbar": {
             "outlinewidth": 0,
             "ticks": ""
            },
            "colorscale": [
             [
              0,
              "#0d0887"
             ],
             [
              0.1111111111111111,
              "#46039f"
             ],
             [
              0.2222222222222222,
              "#7201a8"
             ],
             [
              0.3333333333333333,
              "#9c179e"
             ],
             [
              0.4444444444444444,
              "#bd3786"
             ],
             [
              0.5555555555555556,
              "#d8576b"
             ],
             [
              0.6666666666666666,
              "#ed7953"
             ],
             [
              0.7777777777777778,
              "#fb9f3a"
             ],
             [
              0.8888888888888888,
              "#fdca26"
             ],
             [
              1,
              "#f0f921"
             ]
            ],
            "type": "histogram2d"
           }
          ],
          "histogram2dcontour": [
           {
            "colorbar": {
             "outlinewidth": 0,
             "ticks": ""
            },
            "colorscale": [
             [
              0,
              "#0d0887"
             ],
             [
              0.1111111111111111,
              "#46039f"
             ],
             [
              0.2222222222222222,
              "#7201a8"
             ],
             [
              0.3333333333333333,
              "#9c179e"
             ],
             [
              0.4444444444444444,
              "#bd3786"
             ],
             [
              0.5555555555555556,
              "#d8576b"
             ],
             [
              0.6666666666666666,
              "#ed7953"
             ],
             [
              0.7777777777777778,
              "#fb9f3a"
             ],
             [
              0.8888888888888888,
              "#fdca26"
             ],
             [
              1,
              "#f0f921"
             ]
            ],
            "type": "histogram2dcontour"
           }
          ],
          "mesh3d": [
           {
            "colorbar": {
             "outlinewidth": 0,
             "ticks": ""
            },
            "type": "mesh3d"
           }
          ],
          "parcoords": [
           {
            "line": {
             "colorbar": {
              "outlinewidth": 0,
              "ticks": ""
             }
            },
            "type": "parcoords"
           }
          ],
          "pie": [
           {
            "automargin": true,
            "type": "pie"
           }
          ],
          "scatter": [
           {
            "fillpattern": {
             "fillmode": "overlay",
             "size": 10,
             "solidity": 0.2
            },
            "type": "scatter"
           }
          ],
          "scatter3d": [
           {
            "line": {
             "colorbar": {
              "outlinewidth": 0,
              "ticks": ""
             }
            },
            "marker": {
             "colorbar": {
              "outlinewidth": 0,
              "ticks": ""
             }
            },
            "type": "scatter3d"
           }
          ],
          "scattercarpet": [
           {
            "marker": {
             "colorbar": {
              "outlinewidth": 0,
              "ticks": ""
             }
            },
            "type": "scattercarpet"
           }
          ],
          "scattergeo": [
           {
            "marker": {
             "colorbar": {
              "outlinewidth": 0,
              "ticks": ""
             }
            },
            "type": "scattergeo"
           }
          ],
          "scattergl": [
           {
            "marker": {
             "colorbar": {
              "outlinewidth": 0,
              "ticks": ""
             }
            },
            "type": "scattergl"
           }
          ],
          "scattermapbox": [
           {
            "marker": {
             "colorbar": {
              "outlinewidth": 0,
              "ticks": ""
             }
            },
            "type": "scattermapbox"
           }
          ],
          "scatterpolar": [
           {
            "marker": {
             "colorbar": {
              "outlinewidth": 0,
              "ticks": ""
             }
            },
            "type": "scatterpolar"
           }
          ],
          "scatterpolargl": [
           {
            "marker": {
             "colorbar": {
              "outlinewidth": 0,
              "ticks": ""
             }
            },
            "type": "scatterpolargl"
           }
          ],
          "scatterternary": [
           {
            "marker": {
             "colorbar": {
              "outlinewidth": 0,
              "ticks": ""
             }
            },
            "type": "scatterternary"
           }
          ],
          "surface": [
           {
            "colorbar": {
             "outlinewidth": 0,
             "ticks": ""
            },
            "colorscale": [
             [
              0,
              "#0d0887"
             ],
             [
              0.1111111111111111,
              "#46039f"
             ],
             [
              0.2222222222222222,
              "#7201a8"
             ],
             [
              0.3333333333333333,
              "#9c179e"
             ],
             [
              0.4444444444444444,
              "#bd3786"
             ],
             [
              0.5555555555555556,
              "#d8576b"
             ],
             [
              0.6666666666666666,
              "#ed7953"
             ],
             [
              0.7777777777777778,
              "#fb9f3a"
             ],
             [
              0.8888888888888888,
              "#fdca26"
             ],
             [
              1,
              "#f0f921"
             ]
            ],
            "type": "surface"
           }
          ],
          "table": [
           {
            "cells": {
             "fill": {
              "color": "#EBF0F8"
             },
             "line": {
              "color": "white"
             }
            },
            "header": {
             "fill": {
              "color": "#C8D4E3"
             },
             "line": {
              "color": "white"
             }
            },
            "type": "table"
           }
          ]
         },
         "layout": {
          "annotationdefaults": {
           "arrowcolor": "#2a3f5f",
           "arrowhead": 0,
           "arrowwidth": 1
          },
          "autotypenumbers": "strict",
          "coloraxis": {
           "colorbar": {
            "outlinewidth": 0,
            "ticks": ""
           }
          },
          "colorscale": {
           "diverging": [
            [
             0,
             "#8e0152"
            ],
            [
             0.1,
             "#c51b7d"
            ],
            [
             0.2,
             "#de77ae"
            ],
            [
             0.3,
             "#f1b6da"
            ],
            [
             0.4,
             "#fde0ef"
            ],
            [
             0.5,
             "#f7f7f7"
            ],
            [
             0.6,
             "#e6f5d0"
            ],
            [
             0.7,
             "#b8e186"
            ],
            [
             0.8,
             "#7fbc41"
            ],
            [
             0.9,
             "#4d9221"
            ],
            [
             1,
             "#276419"
            ]
           ],
           "sequential": [
            [
             0,
             "#0d0887"
            ],
            [
             0.1111111111111111,
             "#46039f"
            ],
            [
             0.2222222222222222,
             "#7201a8"
            ],
            [
             0.3333333333333333,
             "#9c179e"
            ],
            [
             0.4444444444444444,
             "#bd3786"
            ],
            [
             0.5555555555555556,
             "#d8576b"
            ],
            [
             0.6666666666666666,
             "#ed7953"
            ],
            [
             0.7777777777777778,
             "#fb9f3a"
            ],
            [
             0.8888888888888888,
             "#fdca26"
            ],
            [
             1,
             "#f0f921"
            ]
           ],
           "sequentialminus": [
            [
             0,
             "#0d0887"
            ],
            [
             0.1111111111111111,
             "#46039f"
            ],
            [
             0.2222222222222222,
             "#7201a8"
            ],
            [
             0.3333333333333333,
             "#9c179e"
            ],
            [
             0.4444444444444444,
             "#bd3786"
            ],
            [
             0.5555555555555556,
             "#d8576b"
            ],
            [
             0.6666666666666666,
             "#ed7953"
            ],
            [
             0.7777777777777778,
             "#fb9f3a"
            ],
            [
             0.8888888888888888,
             "#fdca26"
            ],
            [
             1,
             "#f0f921"
            ]
           ]
          },
          "colorway": [
           "#636efa",
           "#EF553B",
           "#00cc96",
           "#ab63fa",
           "#FFA15A",
           "#19d3f3",
           "#FF6692",
           "#B6E880",
           "#FF97FF",
           "#FECB52"
          ],
          "font": {
           "color": "#2a3f5f"
          },
          "geo": {
           "bgcolor": "white",
           "lakecolor": "white",
           "landcolor": "#E5ECF6",
           "showlakes": true,
           "showland": true,
           "subunitcolor": "white"
          },
          "hoverlabel": {
           "align": "left"
          },
          "hovermode": "closest",
          "mapbox": {
           "style": "light"
          },
          "paper_bgcolor": "white",
          "plot_bgcolor": "#E5ECF6",
          "polar": {
           "angularaxis": {
            "gridcolor": "white",
            "linecolor": "white",
            "ticks": ""
           },
           "bgcolor": "#E5ECF6",
           "radialaxis": {
            "gridcolor": "white",
            "linecolor": "white",
            "ticks": ""
           }
          },
          "scene": {
           "xaxis": {
            "backgroundcolor": "#E5ECF6",
            "gridcolor": "white",
            "gridwidth": 2,
            "linecolor": "white",
            "showbackground": true,
            "ticks": "",
            "zerolinecolor": "white"
           },
           "yaxis": {
            "backgroundcolor": "#E5ECF6",
            "gridcolor": "white",
            "gridwidth": 2,
            "linecolor": "white",
            "showbackground": true,
            "ticks": "",
            "zerolinecolor": "white"
           },
           "zaxis": {
            "backgroundcolor": "#E5ECF6",
            "gridcolor": "white",
            "gridwidth": 2,
            "linecolor": "white",
            "showbackground": true,
            "ticks": "",
            "zerolinecolor": "white"
           }
          },
          "shapedefaults": {
           "line": {
            "color": "#2a3f5f"
           }
          },
          "ternary": {
           "aaxis": {
            "gridcolor": "white",
            "linecolor": "white",
            "ticks": ""
           },
           "baxis": {
            "gridcolor": "white",
            "linecolor": "white",
            "ticks": ""
           },
           "bgcolor": "#E5ECF6",
           "caxis": {
            "gridcolor": "white",
            "linecolor": "white",
            "ticks": ""
           }
          },
          "title": {
           "x": 0.05
          },
          "xaxis": {
           "automargin": true,
           "gridcolor": "white",
           "linecolor": "white",
           "ticks": "",
           "title": {
            "standoff": 15
           },
           "zerolinecolor": "white",
           "zerolinewidth": 2
          },
          "yaxis": {
           "automargin": true,
           "gridcolor": "white",
           "linecolor": "white",
           "ticks": "",
           "title": {
            "standoff": 15
           },
           "zerolinecolor": "white",
           "zerolinewidth": 2
          }
         }
        },
        "title": {
         "text": "Cooking Session Trends by Age Group"
        },
        "xaxis": {
         "anchor": "y",
         "domain": [
          0,
          1
         ],
         "title": {
          "text": "Age Group"
         }
        },
        "yaxis": {
         "anchor": "x",
         "domain": [
          0,
          1
         ],
         "title": {
          "text": "Number of Cooking Sessions"
         }
        }
       }
      },
      "text/html": [
       "<div>                            <div id=\"6eb18b69-044f-45ae-9a4c-ede4bc82ce50\" class=\"plotly-graph-div\" style=\"height:525px; width:100%;\"></div>            <script type=\"text/javascript\">                require([\"plotly\"], function(Plotly) {                    window.PLOTLYENV=window.PLOTLYENV || {};                                    if (document.getElementById(\"6eb18b69-044f-45ae-9a4c-ede4bc82ce50\")) {                    Plotly.newPlot(                        \"6eb18b69-044f-45ae-9a4c-ede4bc82ce50\",                        [{\"hovertemplate\":\"Age Group=%{x}<br>Number of Cooking Sessions=%{y}<extra></extra>\",\"legendgroup\":\"\",\"line\":{\"color\":\"#636efa\",\"dash\":\"solid\"},\"marker\":{\"symbol\":\"circle\"},\"mode\":\"lines+markers\",\"name\":\"\",\"orientation\":\"v\",\"showlegend\":false,\"x\":[25,27,28,30,31,35,38,42],\"xaxis\":\"x\",\"y\":[1,2,3,2,1,3,1,3],\"yaxis\":\"y\",\"type\":\"scatter\"}],                        {\"template\":{\"data\":{\"histogram2dcontour\":[{\"type\":\"histogram2dcontour\",\"colorbar\":{\"outlinewidth\":0,\"ticks\":\"\"},\"colorscale\":[[0.0,\"#0d0887\"],[0.1111111111111111,\"#46039f\"],[0.2222222222222222,\"#7201a8\"],[0.3333333333333333,\"#9c179e\"],[0.4444444444444444,\"#bd3786\"],[0.5555555555555556,\"#d8576b\"],[0.6666666666666666,\"#ed7953\"],[0.7777777777777778,\"#fb9f3a\"],[0.8888888888888888,\"#fdca26\"],[1.0,\"#f0f921\"]]}],\"choropleth\":[{\"type\":\"choropleth\",\"colorbar\":{\"outlinewidth\":0,\"ticks\":\"\"}}],\"histogram2d\":[{\"type\":\"histogram2d\",\"colorbar\":{\"outlinewidth\":0,\"ticks\":\"\"},\"colorscale\":[[0.0,\"#0d0887\"],[0.1111111111111111,\"#46039f\"],[0.2222222222222222,\"#7201a8\"],[0.3333333333333333,\"#9c179e\"],[0.4444444444444444,\"#bd3786\"],[0.5555555555555556,\"#d8576b\"],[0.6666666666666666,\"#ed7953\"],[0.7777777777777778,\"#fb9f3a\"],[0.8888888888888888,\"#fdca26\"],[1.0,\"#f0f921\"]]}],\"heatmap\":[{\"type\":\"heatmap\",\"colorbar\":{\"outlinewidth\":0,\"ticks\":\"\"},\"colorscale\":[[0.0,\"#0d0887\"],[0.1111111111111111,\"#46039f\"],[0.2222222222222222,\"#7201a8\"],[0.3333333333333333,\"#9c179e\"],[0.4444444444444444,\"#bd3786\"],[0.5555555555555556,\"#d8576b\"],[0.6666666666666666,\"#ed7953\"],[0.7777777777777778,\"#fb9f3a\"],[0.8888888888888888,\"#fdca26\"],[1.0,\"#f0f921\"]]}],\"heatmapgl\":[{\"type\":\"heatmapgl\",\"colorbar\":{\"outlinewidth\":0,\"ticks\":\"\"},\"colorscale\":[[0.0,\"#0d0887\"],[0.1111111111111111,\"#46039f\"],[0.2222222222222222,\"#7201a8\"],[0.3333333333333333,\"#9c179e\"],[0.4444444444444444,\"#bd3786\"],[0.5555555555555556,\"#d8576b\"],[0.6666666666666666,\"#ed7953\"],[0.7777777777777778,\"#fb9f3a\"],[0.8888888888888888,\"#fdca26\"],[1.0,\"#f0f921\"]]}],\"contourcarpet\":[{\"type\":\"contourcarpet\",\"colorbar\":{\"outlinewidth\":0,\"ticks\":\"\"}}],\"contour\":[{\"type\":\"contour\",\"colorbar\":{\"outlinewidth\":0,\"ticks\":\"\"},\"colorscale\":[[0.0,\"#0d0887\"],[0.1111111111111111,\"#46039f\"],[0.2222222222222222,\"#7201a8\"],[0.3333333333333333,\"#9c179e\"],[0.4444444444444444,\"#bd3786\"],[0.5555555555555556,\"#d8576b\"],[0.6666666666666666,\"#ed7953\"],[0.7777777777777778,\"#fb9f3a\"],[0.8888888888888888,\"#fdca26\"],[1.0,\"#f0f921\"]]}],\"surface\":[{\"type\":\"surface\",\"colorbar\":{\"outlinewidth\":0,\"ticks\":\"\"},\"colorscale\":[[0.0,\"#0d0887\"],[0.1111111111111111,\"#46039f\"],[0.2222222222222222,\"#7201a8\"],[0.3333333333333333,\"#9c179e\"],[0.4444444444444444,\"#bd3786\"],[0.5555555555555556,\"#d8576b\"],[0.6666666666666666,\"#ed7953\"],[0.7777777777777778,\"#fb9f3a\"],[0.8888888888888888,\"#fdca26\"],[1.0,\"#f0f921\"]]}],\"mesh3d\":[{\"type\":\"mesh3d\",\"colorbar\":{\"outlinewidth\":0,\"ticks\":\"\"}}],\"scatter\":[{\"fillpattern\":{\"fillmode\":\"overlay\",\"size\":10,\"solidity\":0.2},\"type\":\"scatter\"}],\"parcoords\":[{\"type\":\"parcoords\",\"line\":{\"colorbar\":{\"outlinewidth\":0,\"ticks\":\"\"}}}],\"scatterpolargl\":[{\"type\":\"scatterpolargl\",\"marker\":{\"colorbar\":{\"outlinewidth\":0,\"ticks\":\"\"}}}],\"bar\":[{\"error_x\":{\"color\":\"#2a3f5f\"},\"error_y\":{\"color\":\"#2a3f5f\"},\"marker\":{\"line\":{\"color\":\"#E5ECF6\",\"width\":0.5},\"pattern\":{\"fillmode\":\"overlay\",\"size\":10,\"solidity\":0.2}},\"type\":\"bar\"}],\"scattergeo\":[{\"type\":\"scattergeo\",\"marker\":{\"colorbar\":{\"outlinewidth\":0,\"ticks\":\"\"}}}],\"scatterpolar\":[{\"type\":\"scatterpolar\",\"marker\":{\"colorbar\":{\"outlinewidth\":0,\"ticks\":\"\"}}}],\"histogram\":[{\"marker\":{\"pattern\":{\"fillmode\":\"overlay\",\"size\":10,\"solidity\":0.2}},\"type\":\"histogram\"}],\"scattergl\":[{\"type\":\"scattergl\",\"marker\":{\"colorbar\":{\"outlinewidth\":0,\"ticks\":\"\"}}}],\"scatter3d\":[{\"type\":\"scatter3d\",\"line\":{\"colorbar\":{\"outlinewidth\":0,\"ticks\":\"\"}},\"marker\":{\"colorbar\":{\"outlinewidth\":0,\"ticks\":\"\"}}}],\"scattermapbox\":[{\"type\":\"scattermapbox\",\"marker\":{\"colorbar\":{\"outlinewidth\":0,\"ticks\":\"\"}}}],\"scatterternary\":[{\"type\":\"scatterternary\",\"marker\":{\"colorbar\":{\"outlinewidth\":0,\"ticks\":\"\"}}}],\"scattercarpet\":[{\"type\":\"scattercarpet\",\"marker\":{\"colorbar\":{\"outlinewidth\":0,\"ticks\":\"\"}}}],\"carpet\":[{\"aaxis\":{\"endlinecolor\":\"#2a3f5f\",\"gridcolor\":\"white\",\"linecolor\":\"white\",\"minorgridcolor\":\"white\",\"startlinecolor\":\"#2a3f5f\"},\"baxis\":{\"endlinecolor\":\"#2a3f5f\",\"gridcolor\":\"white\",\"linecolor\":\"white\",\"minorgridcolor\":\"white\",\"startlinecolor\":\"#2a3f5f\"},\"type\":\"carpet\"}],\"table\":[{\"cells\":{\"fill\":{\"color\":\"#EBF0F8\"},\"line\":{\"color\":\"white\"}},\"header\":{\"fill\":{\"color\":\"#C8D4E3\"},\"line\":{\"color\":\"white\"}},\"type\":\"table\"}],\"barpolar\":[{\"marker\":{\"line\":{\"color\":\"#E5ECF6\",\"width\":0.5},\"pattern\":{\"fillmode\":\"overlay\",\"size\":10,\"solidity\":0.2}},\"type\":\"barpolar\"}],\"pie\":[{\"automargin\":true,\"type\":\"pie\"}]},\"layout\":{\"autotypenumbers\":\"strict\",\"colorway\":[\"#636efa\",\"#EF553B\",\"#00cc96\",\"#ab63fa\",\"#FFA15A\",\"#19d3f3\",\"#FF6692\",\"#B6E880\",\"#FF97FF\",\"#FECB52\"],\"font\":{\"color\":\"#2a3f5f\"},\"hovermode\":\"closest\",\"hoverlabel\":{\"align\":\"left\"},\"paper_bgcolor\":\"white\",\"plot_bgcolor\":\"#E5ECF6\",\"polar\":{\"bgcolor\":\"#E5ECF6\",\"angularaxis\":{\"gridcolor\":\"white\",\"linecolor\":\"white\",\"ticks\":\"\"},\"radialaxis\":{\"gridcolor\":\"white\",\"linecolor\":\"white\",\"ticks\":\"\"}},\"ternary\":{\"bgcolor\":\"#E5ECF6\",\"aaxis\":{\"gridcolor\":\"white\",\"linecolor\":\"white\",\"ticks\":\"\"},\"baxis\":{\"gridcolor\":\"white\",\"linecolor\":\"white\",\"ticks\":\"\"},\"caxis\":{\"gridcolor\":\"white\",\"linecolor\":\"white\",\"ticks\":\"\"}},\"coloraxis\":{\"colorbar\":{\"outlinewidth\":0,\"ticks\":\"\"}},\"colorscale\":{\"sequential\":[[0.0,\"#0d0887\"],[0.1111111111111111,\"#46039f\"],[0.2222222222222222,\"#7201a8\"],[0.3333333333333333,\"#9c179e\"],[0.4444444444444444,\"#bd3786\"],[0.5555555555555556,\"#d8576b\"],[0.6666666666666666,\"#ed7953\"],[0.7777777777777778,\"#fb9f3a\"],[0.8888888888888888,\"#fdca26\"],[1.0,\"#f0f921\"]],\"sequentialminus\":[[0.0,\"#0d0887\"],[0.1111111111111111,\"#46039f\"],[0.2222222222222222,\"#7201a8\"],[0.3333333333333333,\"#9c179e\"],[0.4444444444444444,\"#bd3786\"],[0.5555555555555556,\"#d8576b\"],[0.6666666666666666,\"#ed7953\"],[0.7777777777777778,\"#fb9f3a\"],[0.8888888888888888,\"#fdca26\"],[1.0,\"#f0f921\"]],\"diverging\":[[0,\"#8e0152\"],[0.1,\"#c51b7d\"],[0.2,\"#de77ae\"],[0.3,\"#f1b6da\"],[0.4,\"#fde0ef\"],[0.5,\"#f7f7f7\"],[0.6,\"#e6f5d0\"],[0.7,\"#b8e186\"],[0.8,\"#7fbc41\"],[0.9,\"#4d9221\"],[1,\"#276419\"]]},\"xaxis\":{\"gridcolor\":\"white\",\"linecolor\":\"white\",\"ticks\":\"\",\"title\":{\"standoff\":15},\"zerolinecolor\":\"white\",\"automargin\":true,\"zerolinewidth\":2},\"yaxis\":{\"gridcolor\":\"white\",\"linecolor\":\"white\",\"ticks\":\"\",\"title\":{\"standoff\":15},\"zerolinecolor\":\"white\",\"automargin\":true,\"zerolinewidth\":2},\"scene\":{\"xaxis\":{\"backgroundcolor\":\"#E5ECF6\",\"gridcolor\":\"white\",\"linecolor\":\"white\",\"showbackground\":true,\"ticks\":\"\",\"zerolinecolor\":\"white\",\"gridwidth\":2},\"yaxis\":{\"backgroundcolor\":\"#E5ECF6\",\"gridcolor\":\"white\",\"linecolor\":\"white\",\"showbackground\":true,\"ticks\":\"\",\"zerolinecolor\":\"white\",\"gridwidth\":2},\"zaxis\":{\"backgroundcolor\":\"#E5ECF6\",\"gridcolor\":\"white\",\"linecolor\":\"white\",\"showbackground\":true,\"ticks\":\"\",\"zerolinecolor\":\"white\",\"gridwidth\":2}},\"shapedefaults\":{\"line\":{\"color\":\"#2a3f5f\"}},\"annotationdefaults\":{\"arrowcolor\":\"#2a3f5f\",\"arrowhead\":0,\"arrowwidth\":1},\"geo\":{\"bgcolor\":\"white\",\"landcolor\":\"#E5ECF6\",\"subunitcolor\":\"white\",\"showland\":true,\"showlakes\":true,\"lakecolor\":\"white\"},\"title\":{\"x\":0.05},\"mapbox\":{\"style\":\"light\"}}},\"xaxis\":{\"anchor\":\"y\",\"domain\":[0.0,1.0],\"title\":{\"text\":\"Age Group\"}},\"yaxis\":{\"anchor\":\"x\",\"domain\":[0.0,1.0],\"title\":{\"text\":\"Number of Cooking Sessions\"}},\"legend\":{\"tracegroupgap\":0},\"title\":{\"text\":\"Cooking Session Trends by Age Group\"},\"plot_bgcolor\":\"white\"},                        {\"responsive\": true}                    ).then(function(){\n",
       "                            \n",
       "var gd = document.getElementById('6eb18b69-044f-45ae-9a4c-ede4bc82ce50');\n",
       "var x = new MutationObserver(function (mutations, observer) {{\n",
       "        var display = window.getComputedStyle(gd).display;\n",
       "        if (!display || display === 'none') {{\n",
       "            console.log([gd, 'removed!']);\n",
       "            Plotly.purge(gd);\n",
       "            observer.disconnect();\n",
       "        }}\n",
       "}});\n",
       "\n",
       "// Listen for the removal of the full notebook cells\n",
       "var notebookContainer = gd.closest('#notebook-container');\n",
       "if (notebookContainer) {{\n",
       "    x.observe(notebookContainer, {childList: true});\n",
       "}}\n",
       "\n",
       "// Listen for the clearing of the current output cell\n",
       "var outputEl = gd.closest('.output');\n",
       "if (outputEl) {{\n",
       "    x.observe(outputEl, {childList: true});\n",
       "}}\n",
       "\n",
       "                        })                };                });            </script>        </div>"
      ]
     },
     "metadata": {},
     "output_type": "display_data"
    }
   ],
   "source": [
    "import plotly.express as px\n",
    "\n",
    "# Create the interactive line chart for cooking session trends by age group\n",
    "fig = px.line(\n",
    "    cooking_session_trends, \n",
    "    x='Age Group', \n",
    "    y='Cooking Sessions', \n",
    "    title='Cooking Session Trends by Age Group',\n",
    "    labels={'Age Group': 'Age Group', 'Cooking Sessions': 'Number of Cooking Sessions'},\n",
    "    markers=True  # Adds markers to data points for better visibility\n",
    ")\n",
    "\n",
    "fig.update_layout(\n",
    "    xaxis_title='Age Group',\n",
    "    yaxis_title='Number of Cooking Sessions',\n",
    "    plot_bgcolor='white',\n",
    ")\n",
    "\n",
    "fig.show()\n"
   ]
  },
  {
   "cell_type": "code",
   "execution_count": null,
   "id": "558245ca",
   "metadata": {},
   "outputs": [],
   "source": [
    "import pandas as pd\n",
    "import matplotlib.pyplot as plt\n",
    "import seaborn as sns\n",
    "\n",
    "# Step 1: Filter data for matching dish names and relevant columns\n",
    "filtered_data = final_data[final_data['dish_name_x'] == final_data['dish_name_y']].copy()\n",
    "\n",
    "# Add a new column for rating difference\n",
    "filtered_data['rating_change'] = filtered_data['rating'] - filtered_data['session_rating']\n",
    "\n",
    "# Categorize the rating change\n",
    "filtered_data['rating_trend'] = filtered_data['rating_change'].apply(\n",
    "    lambda x: 'Increased' if x > 0 else 'Decreased' if x < 0 else 'No Change'\n",
    ")\n",
    "\n",
    "plt.figure(figsize=(12, 6))\n",
    "\n",
    "\n",
    "\n",
    "\n",
    "# Step 3: Bar plot for rating trends\n",
    "trend_counts = filtered_data['rating_trend'].value_counts()\n",
    "\n",
    "plt.figure(figsize=(8, 5))\n",
    "sns.barplot(x=trend_counts.index, y=trend_counts.values, palette='viridis')\n",
    "plt.title('Rating Trends: Increased, Decreased, or No Change', fontsize=16)\n",
    "plt.xlabel('Rating Trend', fontsize=14)\n",
    "plt.ylabel('Count', fontsize=14)\n",
    "plt.tight_layout()\n",
    "plt.show()\n",
    "\n",
    "# Step 4: Calculate percentages for insights\n",
    "total_ratings = len(filtered_data)\n",
    "increased_count = trend_counts.get('Increased', 0)\n",
    "decreased_count = trend_counts.get('Decreased', 0)\n",
    "no_change_count = trend_counts.get('No Change', 0)\n",
    "\n",
    "print(f\"Out of {total_ratings} orders:\")\n",
    "print(f\"- {increased_count} ({(increased_count/total_ratings)*100:.2f}%) ratings increased.\")\n",
    "print(f\"- {decreased_count} ({(decreased_count/total_ratings)*100:.2f}%) ratings decreased.\")\n",
    "print(f\"- {no_change_count} ({(no_change_count/total_ratings)*100:.2f}%) ratings had no change.\")\n"
   ]
  },
  {
   "cell_type": "code",
   "execution_count": null,
   "id": "0677b296",
   "metadata": {},
   "outputs": [],
   "source": [
    "# Print the column names of the final dataset to confirm the exact names\n",
    "print(final_data.columns)\n"
   ]
  },
  {
   "cell_type": "code",
   "execution_count": null,
   "id": "90ecfe78",
   "metadata": {},
   "outputs": [],
   "source": [
    "# Step 1: Create 'dish_similarity' column: True if the ordered dish matches the session dish\n",
    "final_data['dish_similarity'] = final_data['dish_name_x'] == final_data['dish_name_y']\n",
    "\n",
    "# Step 2: Create 'order_rating_category' column to categorize ratings into High (>4) or Low (<=4)\n",
    "final_data['order_rating_category'] = final_data['rating'].apply(lambda x: 'High (>4)' if x > 4 else 'Low (<=4)')\n",
    "\n",
    "# Step 3: Group by 'order_rating_category' and 'dish_similarity' to see how many times each combination occurs\n",
    "summary = final_data.groupby(['order_rating_category', 'dish_similarity']).size().reset_index(name='count')\n",
    "\n",
    "# Output the summary to see the results\n",
    "print(\"Summary of order trends after session rating decrease:\")\n",
    "print(summary)\n",
    "\n",
    "# Optional: Filter for cases where dish similarity is False (i.e., the person ordered a different dish)\n",
    "different_dish = final_data[final_data['dish_similarity'] == False]\n",
    "\n",
    "# Show a few records where a different dish was ordered\n",
    "print(\"Records where a different dish was ordered:\")\n",
    "print(different_dish[['user_id', 'dish_name_x', 'dish_name_y', 'session_rating', 'rating']].head())\n"
   ]
  },
  {
   "cell_type": "code",
   "execution_count": null,
   "id": "c1470eb3",
   "metadata": {},
   "outputs": [],
   "source": [
    "# Step 1: Create 'dish_similarity' column: True if the ordered dish matches the session dish\n",
    "final_data['dish_similarity'] = final_data['dish_name_x'] == final_data['dish_name_y']\n",
    "\n",
    "# Step 2: Create 'order_rating_category' column to categorize ratings into High (>4) or Low (<=4)\n",
    "final_data['order_rating_category'] = final_data['rating'].apply(lambda x: 'High (>4)' if x > 4 else 'Low (<=4)')\n",
    "\n",
    "# Step 3: Group by 'order_rating_category' and 'dish_similarity' to see how many times each combination occurs\n",
    "summary = final_data.groupby(['order_rating_category', 'dish_similarity']).size().reset_index(name='count')\n",
    "\n",
    "# Print the summary table\n",
    "print(\"Summary of order trends after session rating decrease:\")\n",
    "print(summary)\n",
    "\n",
    "# Optional: Filter for cases where dish similarity is False (i.e., the person ordered a different dish)\n",
    "different_dish = final_data[final_data['dish_similarity'] == False]\n",
    "\n",
    "# Print a few records where a different dish was ordered\n",
    "print(\"\\nRecords where a different dish was ordered:\")\n",
    "print(different_dish[['user_id', 'dish_name_x', 'dish_name_y', 'session_rating', 'rating']].head())\n"
   ]
  },
  {
   "cell_type": "code",
   "execution_count": null,
   "id": "6daa7c76",
   "metadata": {},
   "outputs": [],
   "source": [
    "# Step 1: Create a new column to track when dish names from session and order match\n",
    "final_data['same_dish'] = final_data['dish_name_x'] == final_data['dish_name_y']\n",
    "\n",
    "# Step 2: Group by session dish and order dish, count the occurrences, and calculate average ratings\n",
    "dish_comparison = final_data.groupby(['dish_name_x', 'dish_name_y']).agg(\n",
    "    order_count=('dish_name_y', 'size'),\n",
    "    avg_rating=('rating', 'mean')\n",
    ").reset_index()\n",
    "\n",
    "# Step 3: Display the results with 'Dish Name (Session)' and 'Dish Name (Ordered)'\n",
    "dish_comparison = dish_comparison.rename(columns={\n",
    "    'dish_name_x': 'Dish Name (Session)',\n",
    "    'dish_name_y': 'Dish Name (Ordered)'\n",
    "})\n",
    "\n",
    "# Step 4: Sort the data by order count for easier interpretation\n",
    "dish_comparison_sorted = dish_comparison.sort_values(by='order_count', ascending=False)\n",
    "\n",
    "# Show the results\n",
    "print(\"Summary of Dish Name Comparison (Session vs Order):\")\n",
    "print(dish_comparison_sorted)\n"
   ]
  },
  {
   "cell_type": "code",
   "execution_count": null,
   "id": "861c3b4d",
   "metadata": {},
   "outputs": [],
   "source": [
    "# Step 1: Prepare data for the heatmap\n",
    "heatmap_data = dish_comparison.pivot_table(index='Dish Name (Session)', columns='Dish Name (Ordered)', values='order_count', aggfunc='sum', fill_value=0)\n",
    "\n",
    "# Step 2: Plot the heatmap\n",
    "plt.figure(figsize=(12, 8))\n",
    "sns.heatmap(heatmap_data, annot=True, cmap='YlGnBu', fmt='g', cbar_kws={'label': 'Order Count'})\n",
    "plt.title('Heatmap: Session Dish vs Ordered Dish', fontsize=16)\n",
    "plt.xlabel('Dish Name (Ordered)', fontsize=14)\n",
    "plt.ylabel('Dish Name (Session)', fontsize=14)\n",
    "plt.xticks(rotation=45, ha='right')\n",
    "plt.tight_layout()\n",
    "plt.show()\n"
   ]
  },
  {
   "cell_type": "code",
   "execution_count": null,
   "id": "b8a5e2e0",
   "metadata": {},
   "outputs": [],
   "source": [
    "# Grouping data by favorite meal and comparing session and ordered dish names\n",
    "grouped_data = final_data.groupby('favorite_meal').agg(\n",
    "    session_dishes=('dish_name_x', 'unique'),  # Get unique session dishes\n",
    "    ordered_dishes=('dish_name_y', 'unique'),  # Get unique ordered dishes\n",
    "    order_count=('order_count', 'sum')         # Sum of orders for each favorite meal group\n",
    ").reset_index()\n",
    "\n",
    "# Display the grouped data\n",
    "print(grouped_data)\n"
   ]
  },
  {
   "cell_type": "code",
   "execution_count": null,
   "id": "0023273f",
   "metadata": {},
   "outputs": [],
   "source": [
    "# Create a new column to check if the session dish matches the ordered dish\n",
    "final_data['dish_match'] = final_data['dish_name_x'] == final_data['dish_name_y']\n",
    "\n",
    "# Create a pivot table to count the number of matching and non-matching dishes for each favorite meal\n",
    "pivot_dish_comparison = final_data.pivot_table(\n",
    "    index='favorite_meal', \n",
    "    columns='dish_match', \n",
    "    values='user_id', \n",
    "    aggfunc='count', \n",
    "    fill_value=0\n",
    ")\n",
    "\n",
    "# Rename the columns for clarity\n",
    "pivot_dish_comparison.columns = ['Non-Matching Dishes', 'Matching Dishes']\n",
    "\n",
    "# Display the pivot table\n",
    "print(pivot_dish_comparison)\n"
   ]
  },
  {
   "cell_type": "code",
   "execution_count": null,
   "id": "7f7351e8",
   "metadata": {},
   "outputs": [],
   "source": [
    "# Plotting the comparison using a bar chart\n",
    "pivot_dish_comparison.plot(kind='bar', stacked=True, figsize=(12, 8))\n",
    "plt.title('Comparison of Session Dish and Ordered Dish by Favorite Meal', fontsize=16)\n",
    "plt.xlabel('Favorite Meal', fontsize=14)\n",
    "plt.ylabel('Order Count', fontsize=14)\n",
    "plt.xticks(rotation=45, ha='right')\n",
    "plt.legend(title='Dish Match', bbox_to_anchor=(1.05, 1), loc='upper left')\n",
    "plt.tight_layout()\n",
    "plt.show()\n"
   ]
  },
  {
   "cell_type": "code",
   "execution_count": null,
   "id": "47d87965",
   "metadata": {},
   "outputs": [],
   "source": [
    "# Convert registration_date and order_date to datetime format\n",
    "final_data['registration_date'] = pd.to_datetime(final_data['registration_date'])\n",
    "final_data['order_date'] = pd.to_datetime(final_data['order_date'])\n",
    "\n",
    "# Check if the date conversion is successful\n",
    "final_data[['registration_date', 'order_date']].head()\n"
   ]
  },
  {
   "cell_type": "code",
   "execution_count": null,
   "id": "d29be08d",
   "metadata": {},
   "outputs": [],
   "source": [
    "# Calculate the difference between order_date and registration_date (session date)\n",
    "final_data['time_diff'] = (final_data['order_date'] - final_data['registration_date']).dt.days\n",
    "\n",
    "# Create a new column to indicate if the order was placed after the session (time_diff > 0 means after the session)\n",
    "final_data['order_after_session'] = final_data['time_diff'] > 0\n",
    "\n",
    "# Show some examples\n",
    "print(final_data[['user_id', 'registration_date', 'order_date', 'time_diff', 'order_after_session']].head())\n"
   ]
  },
  {
   "cell_type": "code",
   "execution_count": null,
   "id": "daf63421",
   "metadata": {},
   "outputs": [],
   "source": [
    "# Count the number of orders placed before and after the session for each user\n",
    "order_trends = final_data.groupby(['user_id', 'order_after_session'])['order_id'].count().unstack(fill_value=0)\n",
    "\n",
    "# Display the order trends\n",
    "print(order_trends)\n"
   ]
  },
  {
   "cell_type": "code",
   "execution_count": null,
   "id": "36d77e40",
   "metadata": {},
   "outputs": [],
   "source": [
    "# Plotting the trend of orders before and after session\n",
    "order_trends.plot(kind='bar', stacked=True, figsize=(12, 6), color=['lightblue', 'orange'])\n",
    "plt.title('Order Trends Before and After Session', fontsize=16)\n",
    "plt.xlabel('User ID', fontsize=14)\n",
    "plt.ylabel('Number of Orders', fontsize=14)\n",
    "plt.xticks(rotation=45, ha='right')\n",
    "plt.legend(title='Order Time', labels=['Before Session', 'After Session'])\n",
    "plt.tight_layout()\n",
    "plt.show()\n"
   ]
  },
  {
   "cell_type": "code",
   "execution_count": null,
   "id": "3a45ed7d",
   "metadata": {},
   "outputs": [],
   "source": [
    "import matplotlib.pyplot as plt\n",
    "import seaborn as sns\n",
    "\n",
    "# Step 1: Filter the data into two parts based on 'order_after_session'\n",
    "orders_before_session = final_data[final_data['order_after_session'] == False]\n",
    "orders_after_session = final_data[final_data['order_after_session'] == True]\n",
    "\n",
    "# Step 2: Count the number of orders before and after session for each user\n",
    "orders_before_count = orders_before_session.groupby('user_id')['order_id'].count()\n",
    "orders_after_count = orders_after_session.groupby('user_id')['order_id'].count()\n",
    "\n",
    "# Check if the data is empty before plotting\n",
    "if not orders_before_count.empty:\n",
    "    # Plot for orders before session\n",
    "    plt.figure(figsize=(12, 6))\n",
    "    sns.barplot(x=orders_before_count.index, y=orders_before_count.values, color='lightblue')\n",
    "    plt.title('Number of Orders Before Session for Each User', fontsize=16)\n",
    "    plt.xlabel('User ID', fontsize=14)\n",
    "    plt.ylabel('Number of Orders', fontsize=14)\n",
    "    plt.xticks(rotation=45, ha='right')\n",
    "    plt.tight_layout()\n",
    "    plt.show()\n",
    "else:\n",
    "    print(\"No orders before session to display.\")\n",
    "\n",
    "if not orders_after_count.empty:\n",
    "    # Plot for orders after session\n",
    "    plt.figure(figsize=(12, 6))\n",
    "    sns.barplot(x=orders_after_count.index, y=orders_after_count.values, color='orange')\n",
    "    plt.title('Number of Orders After Session for Each User', fontsize=16)\n",
    "    plt.xlabel('User ID', fontsize=14)\n",
    "    plt.ylabel('Number of Orders', fontsize=14)\n",
    "    plt.xticks(rotation=45, ha='right')\n",
    "    plt.tight_layout()\n",
    "    plt.show()\n",
    "else:\n",
    "    print(\"No orders after session to display.\")\n"
   ]
  },
  {
   "cell_type": "code",
   "execution_count": null,
   "id": "16ce3284",
   "metadata": {},
   "outputs": [],
   "source": [
    "# Assuming final_data has both session_rating and order_rating columns\n",
    "# Step 1: Define a new column for session rating categories (low, medium, high)\n",
    "def rating_category(session_rating):\n",
    "    if session_rating <= 3:\n",
    "        return 'Low'\n",
    "    elif session_rating <= 4:\n",
    "        return 'Medium'\n",
    "    else:\n",
    "        return 'High'\n",
    "\n",
    "final_data['session_rating_category'] = final_data['session_rating'].apply(rating_category)\n",
    "\n",
    "# Step 2: Group data by session rating category and calculate the average order rating\n",
    "rating_comparison = final_data.groupby('session_rating_category')['rating'].mean().reset_index()\n",
    "\n",
    "# Step 3: Plot the comparison of average order ratings by session rating category\n",
    "plt.figure(figsize=(10, 6))\n",
    "sns.barplot(x='session_rating_category', y='rating', data=rating_comparison, palette='coolwarm')\n",
    "plt.title('Average Order Rating by Session Rating Category', fontsize=16)\n",
    "plt.xlabel('Session Rating Category', fontsize=14)\n",
    "plt.ylabel('Average Order Rating', fontsize=14)\n",
    "plt.tight_layout()\n",
    "plt.show()\n",
    "\n"
   ]
  },
  {
   "cell_type": "code",
   "execution_count": null,
   "id": "6ee32091",
   "metadata": {},
   "outputs": [],
   "source": [
    "# Step 1: Identify top dishes based on order count or average ratings\n",
    "top_dishes = final_data.groupby('dish_name_y').agg(\n",
    "    total_orders=('order_id', 'count'),\n",
    "    avg_rating=('rating', 'mean'),\n",
    "    avg_session_time=('duration_(mins)', 'mean')\n",
    ").reset_index()\n",
    "\n",
    "# Sort dishes based on the total orders\n",
    "top_dishes_sorted = top_dishes.sort_values(by='total_orders', ascending=False)\n",
    "\n",
    "# Top dishes\n",
    "top_dishes_sorted.head(10)  # Display top 10 dishes\n"
   ]
  },
  {
   "cell_type": "code",
   "execution_count": null,
   "id": "6d751561",
   "metadata": {},
   "outputs": [],
   "source": [
    "import pandas as pd\n",
    "from tabulate import tabulate\n",
    "\n",
    "# Assuming final_data is already loaded and contains session details\n",
    "\n",
    "# 1. Top dishes and their session details, including ratings and time spent\n",
    "top_dishes = final_data.groupby('dish_name_x').agg(\n",
    "    session_time=('duration_(mins)', 'mean'),\n",
    "    avg_rating=('session_rating', 'mean'),\n",
    "    num_orders=('order_id', 'count')\n",
    ").reset_index()\n",
    "\n",
    "# Sort by most popular dishes (num_orders) and present the \"Specials\"\n",
    "top_dishes_sorted = top_dishes.sort_values(by='num_orders', ascending=False).head(5)\n",
    "\n",
    "# Function to show the \"Specials of the Day\" menu\n",
    "def show_specials_menu():\n",
    "    print(\"🍽️ Welcome to Culinary Upalaince! 🍽️\")\n",
    "    print(\"\\n🌟 Specials of the Day 🌟\")\n",
    "    print(tabulate(top_dishes_sorted, headers='keys', tablefmt='grid', showindex=False))\n",
    "\n",
    "# Function to display details of a specific dish\n",
    "def show_dish_details(dish_name):\n",
    "    dish_details = top_dishes_sorted[top_dishes_sorted['dish_name_x'] == dish_name]\n",
    "    if not dish_details.empty:\n",
    "        print(f\"\\n🔍 Dish Details for {dish_name}:\")\n",
    "        print(tabulate(dish_details, headers='keys', tablefmt='grid', showindex=False))\n",
    "    else:\n",
    "        print(\"\\nDish not found. Please try again.\")\n",
    "\n",
    "# Function for user interaction\n",
    "def user_interaction():\n",
    "    while True:\n",
    "        show_specials_menu()  # Display the menu\n",
    "        user_choice = input(\"\\nPlease choose a dish from the Specials (enter the dish name) or type 'exit' to leave: \").strip()\n",
    "        \n",
    "        if user_choice.lower() == 'exit':\n",
    "            print(\"\\nThank you for visiting Culinary Upalaince! Come back soon! 👋\")\n",
    "            break\n",
    "        else:\n",
    "            show_dish_details(user_choice)  # Show details of the selected dish\n",
    "\n",
    "# Start the interactive menu\n",
    "user_interaction()\n"
   ]
  },
  {
   "cell_type": "code",
   "execution_count": null,
   "id": "b2efed27",
   "metadata": {},
   "outputs": [],
   "source": [
    "import pandas as pd\n",
    "\n",
    "# Load the dataset (assuming 'final_data' is your DataFrame)\n",
    "# final_data = pd.read_csv('your_data.csv')  # if you're reading from a CSV\n",
    "\n",
    "# Step 1: Calculate the total spending behavior of each customer\n",
    "# Group by 'user_id' and aggregate relevant spending data\n",
    "spending_data = final_data.groupby('user_id').agg(\n",
    "    total_spent=('amount', 'sum'),\n",
    "    total_orders=('order_id', 'count'),\n",
    "    avg_order_value=('amount', 'mean')\n",
    ").reset_index()\n",
    "\n",
    "# Step 2: Sort customers by 'total_spent' to identify high spenders\n",
    "spending_data = spending_data.sort_values(by='total_spent', ascending=False)\n",
    "\n",
    "# Step 3: Define High Spenders (for example, top 20% spenders)\n",
    "high_spenders_threshold = spending_data['total_spent'].quantile(0.80)\n",
    "high_spenders = spending_data[spending_data['total_spent'] >= high_spenders_threshold]\n",
    "\n",
    "# Step 4: Show the top spenders\n",
    "print(\"High Spenders:\")\n",
    "print(high_spenders)\n",
    "\n",
    "# Step 5: Optionally, display more details about high spenders (join with original data)\n",
    "high_spenders_details = final_data[final_data['user_id'].isin(high_spenders['user_id'])]\n",
    "print(\"\\nDetailed High Spenders Information:\")\n",
    "print(high_spenders_details[['user_id', 'user_name', 'total_orders', 'amount']].drop_duplicates())\n",
    "\n",
    "# Step 6: Visualize the high spender distribution (optional)\n",
    "import matplotlib.pyplot as plt\n",
    "import seaborn as sns\n",
    "\n",
    "plt.figure(figsize=(10, 6))\n",
    "sns.histplot(high_spenders['total_spent'], kde=True, color='blue', bins=30)\n",
    "plt.title('Distribution of High Spenders')\n",
    "plt.xlabel('Total Spending')\n",
    "plt.ylabel('Frequency')\n",
    "plt.show()\n",
    "\n"
   ]
  },
  {
   "cell_type": "code",
   "execution_count": null,
   "id": "c4348291",
   "metadata": {},
   "outputs": [],
   "source": []
  },
  {
   "cell_type": "code",
   "execution_count": null,
   "id": "858801fc",
   "metadata": {},
   "outputs": [],
   "source": []
  }
 ],
 "metadata": {
  "kernelspec": {
   "display_name": "Python 3 (ipykernel)",
   "language": "python",
   "name": "python3"
  },
  "language_info": {
   "codemirror_mode": {
    "name": "ipython",
    "version": 3
   },
   "file_extension": ".py",
   "mimetype": "text/x-python",
   "name": "python",
   "nbconvert_exporter": "python",
   "pygments_lexer": "ipython3",
   "version": "3.11.3"
  }
 },
 "nbformat": 4,
 "nbformat_minor": 5
}
